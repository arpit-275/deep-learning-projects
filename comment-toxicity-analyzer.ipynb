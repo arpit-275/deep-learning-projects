{
 "cells": [
  {
   "cell_type": "markdown",
   "id": "c4abdcb3",
   "metadata": {
    "papermill": {
     "duration": 0.02037,
     "end_time": "2022-08-31T03:20:59.592888",
     "exception": false,
     "start_time": "2022-08-31T03:20:59.572518",
     "status": "completed"
    },
    "tags": []
   },
   "source": [
    "# Importing Libraries"
   ]
  },
  {
   "cell_type": "code",
   "execution_count": 1,
   "id": "a51ccec7",
   "metadata": {
    "collapsed": true,
    "execution": {
     "iopub.execute_input": "2022-08-31T03:20:59.631672Z",
     "iopub.status.busy": "2022-08-31T03:20:59.630572Z",
     "iopub.status.idle": "2022-08-31T03:21:44.143368Z",
     "shell.execute_reply": "2022-08-31T03:21:44.142387Z"
    },
    "jupyter": {
     "outputs_hidden": true
    },
    "papermill": {
     "duration": 44.534786,
     "end_time": "2022-08-31T03:21:44.145909",
     "exception": false,
     "start_time": "2022-08-31T03:20:59.611123",
     "status": "completed"
    },
    "tags": []
   },
   "outputs": [
    {
     "name": "stdout",
     "output_type": "stream",
     "text": [
      "Collecting talos\r\n",
      "  Downloading talos-1.3-py3-none-any.whl (56 kB)\r\n",
      "\u001b[2K     \u001b[90m━━━━━━━━━━━━━━━━━━━━━━━━━━━━━━━━━━━━━━━\u001b[0m \u001b[32m56.4/56.4 kB\u001b[0m \u001b[31m655.6 kB/s\u001b[0m eta \u001b[36m0:00:00\u001b[0m\r\n",
      "\u001b[?25hCollecting wrangle\r\n",
      "  Downloading wrangle-0.7.2-py3-none-any.whl (52 kB)\r\n",
      "\u001b[2K     \u001b[90m━━━━━━━━━━━━━━━━━━━━━━━━━━━━━━━━━━━━━━━━\u001b[0m \u001b[32m52.3/52.3 kB\u001b[0m \u001b[31m2.1 MB/s\u001b[0m eta \u001b[36m0:00:00\u001b[0m\r\n",
      "\u001b[?25hRequirement already satisfied: tensorflow>=2.0.0 in /opt/conda/lib/python3.7/site-packages (from talos) (2.6.4)\r\n",
      "Requirement already satisfied: numpy in /opt/conda/lib/python3.7/site-packages (from talos) (1.21.6)\r\n",
      "Collecting kerasplotlib\r\n",
      "  Downloading kerasplotlib-1.0-py3-none-any.whl (4.3 kB)\r\n",
      "Requirement already satisfied: sklearn in /opt/conda/lib/python3.7/site-packages (from talos) (0.0)\r\n",
      "Requirement already satisfied: requests in /opt/conda/lib/python3.7/site-packages (from talos) (2.28.1)\r\n",
      "Collecting astetik\r\n",
      "  Downloading astetik-1.13-py3-none-any.whl (5.4 MB)\r\n",
      "\u001b[2K     \u001b[90m━━━━━━━━━━━━━━━━━━━━━━━━━━━━━━━━━━━━━━━━\u001b[0m \u001b[32m5.4/5.4 MB\u001b[0m \u001b[31m15.3 MB/s\u001b[0m eta \u001b[36m0:00:00\u001b[0m\r\n",
      "\u001b[?25hCollecting chances\r\n",
      "  Downloading chances-0.1.9.tar.gz (35 kB)\r\n",
      "  Preparing metadata (setup.py) ... \u001b[?25l-\b \bdone\r\n",
      "\u001b[?25hRequirement already satisfied: statsmodels>=0.11.0 in /opt/conda/lib/python3.7/site-packages (from talos) (0.13.2)\r\n",
      "Requirement already satisfied: tqdm in /opt/conda/lib/python3.7/site-packages (from talos) (4.64.0)\r\n",
      "Requirement already satisfied: pandas in /opt/conda/lib/python3.7/site-packages (from talos) (1.3.5)\r\n",
      "Requirement already satisfied: packaging>=21.3 in /opt/conda/lib/python3.7/site-packages (from statsmodels>=0.11.0->talos) (21.3)\r\n",
      "Requirement already satisfied: patsy>=0.5.2 in /opt/conda/lib/python3.7/site-packages (from statsmodels>=0.11.0->talos) (0.5.2)\r\n",
      "Requirement already satisfied: scipy>=1.3 in /opt/conda/lib/python3.7/site-packages (from statsmodels>=0.11.0->talos) (1.7.3)\r\n",
      "Requirement already satisfied: python-dateutil>=2.7.3 in /opt/conda/lib/python3.7/site-packages (from pandas->talos) (2.8.2)\r\n",
      "Requirement already satisfied: pytz>=2017.3 in /opt/conda/lib/python3.7/site-packages (from pandas->talos) (2022.1)\r\n",
      "Requirement already satisfied: flatbuffers~=1.12.0 in /opt/conda/lib/python3.7/site-packages (from tensorflow>=2.0.0->talos) (1.12)\r\n",
      "Requirement already satisfied: wheel~=0.35 in /opt/conda/lib/python3.7/site-packages (from tensorflow>=2.0.0->talos) (0.37.1)\r\n",
      "Requirement already satisfied: keras<2.7,>=2.6.0 in /opt/conda/lib/python3.7/site-packages (from tensorflow>=2.0.0->talos) (2.6.0)\r\n",
      "Collecting numpy\r\n",
      "  Downloading numpy-1.19.5-cp37-cp37m-manylinux2010_x86_64.whl (14.8 MB)\r\n",
      "\u001b[2K     \u001b[90m━━━━━━━━━━━━━━━━━━━━━━━━━━━━━━━━━━━━━━━━\u001b[0m \u001b[32m14.8/14.8 MB\u001b[0m \u001b[31m33.1 MB/s\u001b[0m eta \u001b[36m0:00:00\u001b[0m\r\n",
      "\u001b[?25hRequirement already satisfied: astunparse~=1.6.3 in /opt/conda/lib/python3.7/site-packages (from tensorflow>=2.0.0->talos) (1.6.3)\r\n",
      "Requirement already satisfied: six~=1.15.0 in /opt/conda/lib/python3.7/site-packages (from tensorflow>=2.0.0->talos) (1.15.0)\r\n",
      "Requirement already satisfied: keras-preprocessing~=1.1.2 in /opt/conda/lib/python3.7/site-packages (from tensorflow>=2.0.0->talos) (1.1.2)\r\n",
      "Requirement already satisfied: protobuf>=3.9.2 in /opt/conda/lib/python3.7/site-packages (from tensorflow>=2.0.0->talos) (3.19.4)\r\n",
      "Requirement already satisfied: clang~=5.0 in /opt/conda/lib/python3.7/site-packages (from tensorflow>=2.0.0->talos) (5.0)\r\n",
      "Collecting tensorboard<2.7,>=2.6.0\r\n",
      "  Downloading tensorboard-2.6.0-py3-none-any.whl (5.6 MB)\r\n",
      "\u001b[2K     \u001b[90m━━━━━━━━━━━━━━━━━━━━━━━━━━━━━━━━━━━━━━━━\u001b[0m \u001b[32m5.6/5.6 MB\u001b[0m \u001b[31m38.2 MB/s\u001b[0m eta \u001b[36m0:00:00\u001b[0m\r\n",
      "\u001b[?25hRequirement already satisfied: wrapt~=1.12.1 in /opt/conda/lib/python3.7/site-packages (from tensorflow>=2.0.0->talos) (1.12.1)\r\n",
      "Collecting typing-extensions<3.11,>=3.7\r\n",
      "  Downloading typing_extensions-3.10.0.2-py3-none-any.whl (26 kB)\r\n",
      "Collecting h5py~=3.1.0\r\n",
      "  Downloading h5py-3.1.0-cp37-cp37m-manylinux1_x86_64.whl (4.0 MB)\r\n",
      "\u001b[2K     \u001b[90m━━━━━━━━━━━━━━━━━━━━━━━━━━━━━━━━━━━━━━━━\u001b[0m \u001b[32m4.0/4.0 MB\u001b[0m \u001b[31m45.6 MB/s\u001b[0m eta \u001b[36m0:00:00\u001b[0m\r\n",
      "\u001b[?25hRequirement already satisfied: gast==0.4.0 in /opt/conda/lib/python3.7/site-packages (from tensorflow>=2.0.0->talos) (0.4.0)\r\n",
      "Requirement already satisfied: absl-py~=0.10 in /opt/conda/lib/python3.7/site-packages (from tensorflow>=2.0.0->talos) (0.15.0)\r\n",
      "Requirement already satisfied: grpcio<2.0,>=1.37.0 in /opt/conda/lib/python3.7/site-packages (from tensorflow>=2.0.0->talos) (1.43.0)\r\n",
      "Requirement already satisfied: termcolor~=1.1.0 in /opt/conda/lib/python3.7/site-packages (from tensorflow>=2.0.0->talos) (1.1.0)\r\n",
      "Requirement already satisfied: google-pasta~=0.2 in /opt/conda/lib/python3.7/site-packages (from tensorflow>=2.0.0->talos) (0.2.0)\r\n",
      "Requirement already satisfied: opt-einsum~=3.3.0 in /opt/conda/lib/python3.7/site-packages (from tensorflow>=2.0.0->talos) (3.3.0)\r\n",
      "Requirement already satisfied: tensorflow-estimator<2.7,>=2.6.0 in /opt/conda/lib/python3.7/site-packages (from tensorflow>=2.0.0->talos) (2.6.0)\r\n",
      "Collecting geonamescache\r\n",
      "  Downloading geonamescache-1.5.0-py3-none-any.whl (26.4 MB)\r\n",
      "\u001b[2K     \u001b[90m━━━━━━━━━━━━━━━━━━━━━━━━━━━━━━━━━━━━━━━━\u001b[0m \u001b[32m26.4/26.4 MB\u001b[0m \u001b[31m31.3 MB/s\u001b[0m eta \u001b[36m0:00:00\u001b[0m\r\n",
      "\u001b[?25hRequirement already satisfied: IPython in /opt/conda/lib/python3.7/site-packages (from astetik->talos) (7.33.0)\r\n",
      "Requirement already satisfied: seaborn in /opt/conda/lib/python3.7/site-packages (from astetik->talos) (0.11.2)\r\n",
      "Requirement already satisfied: matplotlib in /opt/conda/lib/python3.7/site-packages (from kerasplotlib->talos) (3.5.3)\r\n",
      "Requirement already satisfied: idna<4,>=2.5 in /opt/conda/lib/python3.7/site-packages (from requests->talos) (3.3)\r\n",
      "Requirement already satisfied: charset-normalizer<3,>=2 in /opt/conda/lib/python3.7/site-packages (from requests->talos) (2.1.0)\r\n",
      "Requirement already satisfied: urllib3<1.27,>=1.21.1 in /opt/conda/lib/python3.7/site-packages (from requests->talos) (1.26.12)\r\n",
      "Requirement already satisfied: certifi>=2017.4.17 in /opt/conda/lib/python3.7/site-packages (from requests->talos) (2022.6.15)\r\n",
      "Requirement already satisfied: scikit-learn in /opt/conda/lib/python3.7/site-packages (from sklearn->talos) (1.0.2)\r\n",
      "Requirement already satisfied: cached-property in /opt/conda/lib/python3.7/site-packages (from h5py~=3.1.0->tensorflow>=2.0.0->talos) (1.5.2)\r\n",
      "Requirement already satisfied: pyparsing!=3.0.5,>=2.0.2 in /opt/conda/lib/python3.7/site-packages (from packaging>=21.3->statsmodels>=0.11.0->talos) (3.0.9)\r\n",
      "Requirement already satisfied: markdown>=2.6.8 in /opt/conda/lib/python3.7/site-packages (from tensorboard<2.7,>=2.6.0->tensorflow>=2.0.0->talos) (3.3.7)\r\n",
      "Requirement already satisfied: google-auth<2,>=1.6.3 in /opt/conda/lib/python3.7/site-packages (from tensorboard<2.7,>=2.6.0->tensorflow>=2.0.0->talos) (1.35.0)\r\n",
      "Requirement already satisfied: tensorboard-plugin-wit>=1.6.0 in /opt/conda/lib/python3.7/site-packages (from tensorboard<2.7,>=2.6.0->tensorflow>=2.0.0->talos) (1.8.1)\r\n",
      "Requirement already satisfied: setuptools>=41.0.0 in /opt/conda/lib/python3.7/site-packages (from tensorboard<2.7,>=2.6.0->tensorflow>=2.0.0->talos) (59.8.0)\r\n",
      "Requirement already satisfied: tensorboard-data-server<0.7.0,>=0.6.0 in /opt/conda/lib/python3.7/site-packages (from tensorboard<2.7,>=2.6.0->tensorflow>=2.0.0->talos) (0.6.1)\r\n",
      "Requirement already satisfied: werkzeug>=0.11.15 in /opt/conda/lib/python3.7/site-packages (from tensorboard<2.7,>=2.6.0->tensorflow>=2.0.0->talos) (2.2.2)\r\n",
      "Requirement already satisfied: google-auth-oauthlib<0.5,>=0.4.1 in /opt/conda/lib/python3.7/site-packages (from tensorboard<2.7,>=2.6.0->tensorflow>=2.0.0->talos) (0.4.6)\r\n",
      "Requirement already satisfied: decorator in /opt/conda/lib/python3.7/site-packages (from IPython->astetik->talos) (5.1.1)\r\n",
      "Requirement already satisfied: traitlets>=4.2 in /opt/conda/lib/python3.7/site-packages (from IPython->astetik->talos) (5.3.0)\r\n",
      "Requirement already satisfied: prompt-toolkit!=3.0.0,!=3.0.1,<3.1.0,>=2.0.0 in /opt/conda/lib/python3.7/site-packages (from IPython->astetik->talos) (3.0.30)\r\n",
      "Requirement already satisfied: pygments in /opt/conda/lib/python3.7/site-packages (from IPython->astetik->talos) (2.12.0)\r\n",
      "Requirement already satisfied: jedi>=0.16 in /opt/conda/lib/python3.7/site-packages (from IPython->astetik->talos) (0.18.1)\r\n",
      "Requirement already satisfied: pexpect>4.3 in /opt/conda/lib/python3.7/site-packages (from IPython->astetik->talos) (4.8.0)\r\n",
      "Requirement already satisfied: pickleshare in /opt/conda/lib/python3.7/site-packages (from IPython->astetik->talos) (0.7.5)\r\n",
      "Requirement already satisfied: backcall in /opt/conda/lib/python3.7/site-packages (from IPython->astetik->talos) (0.2.0)\r\n",
      "Requirement already satisfied: matplotlib-inline in /opt/conda/lib/python3.7/site-packages (from IPython->astetik->talos) (0.1.3)\r\n",
      "Requirement already satisfied: pillow>=6.2.0 in /opt/conda/lib/python3.7/site-packages (from matplotlib->kerasplotlib->talos) (9.1.1)\r\n",
      "Requirement already satisfied: cycler>=0.10 in /opt/conda/lib/python3.7/site-packages (from matplotlib->kerasplotlib->talos) (0.11.0)\r\n",
      "Requirement already satisfied: kiwisolver>=1.0.1 in /opt/conda/lib/python3.7/site-packages (from matplotlib->kerasplotlib->talos) (1.4.3)\r\n",
      "Requirement already satisfied: fonttools>=4.22.0 in /opt/conda/lib/python3.7/site-packages (from matplotlib->kerasplotlib->talos) (4.33.3)\r\n",
      "Requirement already satisfied: threadpoolctl>=2.0.0 in /opt/conda/lib/python3.7/site-packages (from scikit-learn->sklearn->talos) (3.1.0)\r\n",
      "Requirement already satisfied: joblib>=0.11 in /opt/conda/lib/python3.7/site-packages (from scikit-learn->sklearn->talos) (1.0.1)\r\n",
      "Requirement already satisfied: rsa<5,>=3.1.4 in /opt/conda/lib/python3.7/site-packages (from google-auth<2,>=1.6.3->tensorboard<2.7,>=2.6.0->tensorflow>=2.0.0->talos) (4.8)\r\n",
      "Requirement already satisfied: pyasn1-modules>=0.2.1 in /opt/conda/lib/python3.7/site-packages (from google-auth<2,>=1.6.3->tensorboard<2.7,>=2.6.0->tensorflow>=2.0.0->talos) (0.2.7)\r\n",
      "Requirement already satisfied: cachetools<5.0,>=2.0.0 in /opt/conda/lib/python3.7/site-packages (from google-auth<2,>=1.6.3->tensorboard<2.7,>=2.6.0->tensorflow>=2.0.0->talos) (4.2.4)\r\n",
      "Requirement already satisfied: requests-oauthlib>=0.7.0 in /opt/conda/lib/python3.7/site-packages (from google-auth-oauthlib<0.5,>=0.4.1->tensorboard<2.7,>=2.6.0->tensorflow>=2.0.0->talos) (1.3.1)\r\n",
      "Requirement already satisfied: parso<0.9.0,>=0.8.0 in /opt/conda/lib/python3.7/site-packages (from jedi>=0.16->IPython->astetik->talos) (0.8.3)\r\n",
      "Requirement already satisfied: importlib-metadata>=4.4 in /opt/conda/lib/python3.7/site-packages (from markdown>=2.6.8->tensorboard<2.7,>=2.6.0->tensorflow>=2.0.0->talos) (4.12.0)\r\n",
      "Requirement already satisfied: ptyprocess>=0.5 in /opt/conda/lib/python3.7/site-packages (from pexpect>4.3->IPython->astetik->talos) (0.7.0)\r\n",
      "Requirement already satisfied: wcwidth in /opt/conda/lib/python3.7/site-packages (from prompt-toolkit!=3.0.0,!=3.0.1,<3.1.0,>=2.0.0->IPython->astetik->talos) (0.2.5)\r\n",
      "Requirement already satisfied: MarkupSafe>=2.1.1 in /opt/conda/lib/python3.7/site-packages (from werkzeug>=0.11.15->tensorboard<2.7,>=2.6.0->tensorflow>=2.0.0->talos) (2.1.1)\r\n",
      "Requirement already satisfied: zipp>=0.5 in /opt/conda/lib/python3.7/site-packages (from importlib-metadata>=4.4->markdown>=2.6.8->tensorboard<2.7,>=2.6.0->tensorflow>=2.0.0->talos) (3.8.0)\r\n",
      "Requirement already satisfied: pyasn1<0.5.0,>=0.4.6 in /opt/conda/lib/python3.7/site-packages (from pyasn1-modules>=0.2.1->google-auth<2,>=1.6.3->tensorboard<2.7,>=2.6.0->tensorflow>=2.0.0->talos) (0.4.8)\r\n",
      "Requirement already satisfied: oauthlib>=3.0.0 in /opt/conda/lib/python3.7/site-packages (from requests-oauthlib>=0.7.0->google-auth-oauthlib<0.5,>=0.4.1->tensorboard<2.7,>=2.6.0->tensorflow>=2.0.0->talos) (3.2.0)\r\n",
      "Building wheels for collected packages: chances\r\n",
      "  Building wheel for chances (setup.py) ... \u001b[?25l-\b \b\\\b \bdone\r\n",
      "\u001b[?25h  Created wheel for chances: filename=chances-0.1.9-py3-none-any.whl size=41608 sha256=6b74c3f8f614834eca6238b296041fc003d6909c9f66a7389fad1db5eb6fdcea\r\n",
      "  Stored in directory: /root/.cache/pip/wheels/f3/2e/7e/316f7da11ccf2195ff05e4a0186a4b5975be9bd0b0004198b6\r\n",
      "Successfully built chances\r\n",
      "Installing collected packages: typing-extensions, geonamescache, numpy, h5py, kerasplotlib, chances, tensorboard, wrangle, astetik, talos\r\n",
      "  Attempting uninstall: typing-extensions\r\n",
      "    Found existing installation: typing_extensions 4.3.0\r\n",
      "    Uninstalling typing_extensions-4.3.0:\r\n",
      "      Successfully uninstalled typing_extensions-4.3.0\r\n",
      "  Attempting uninstall: numpy\r\n",
      "    Found existing installation: numpy 1.21.6\r\n",
      "    Uninstalling numpy-1.21.6:\r\n",
      "      Successfully uninstalled numpy-1.21.6\r\n",
      "  Attempting uninstall: h5py\r\n",
      "    Found existing installation: h5py 3.7.0\r\n",
      "    Uninstalling h5py-3.7.0:\r\n",
      "      Successfully uninstalled h5py-3.7.0\r\n",
      "  Attempting uninstall: tensorboard\r\n",
      "    Found existing installation: tensorboard 2.10.0\r\n",
      "    Uninstalling tensorboard-2.10.0:\r\n",
      "      Successfully uninstalled tensorboard-2.10.0\r\n",
      "\u001b[31mERROR: pip's dependency resolver does not currently take into account all the packages that are installed. This behaviour is the source of the following dependency conflicts.\r\n",
      "tensorflow-io 0.21.0 requires tensorflow-io-gcs-filesystem==0.21.0, which is not installed.\r\n",
      "dask-cudf 21.10.1 requires cupy-cuda114, which is not installed.\r\n",
      "beatrix-jupyterlab 3.1.7 requires google-cloud-bigquery-storage, which is not installed.\r\n",
      "xarray-einstats 0.2.2 requires numpy>=1.21, but you have numpy 1.19.5 which is incompatible.\r\n",
      "tfx-bsl 1.9.0 requires tensorflow!=2.0.*,!=2.1.*,!=2.2.*,!=2.3.*,!=2.4.*,!=2.5.*,!=2.6.*,!=2.7.*,!=2.8.*,<3,>=1.15.5, but you have tensorflow 2.6.4 which is incompatible.\r\n",
      "tensorflow-transform 1.9.0 requires tensorflow!=2.0.*,!=2.1.*,!=2.2.*,!=2.3.*,!=2.4.*,!=2.5.*,!=2.6.*,!=2.7.*,!=2.8.*,<2.10,>=1.15.5, but you have tensorflow 2.6.4 which is incompatible.\r\n",
      "tensorflow-serving-api 2.9.0 requires tensorflow<3,>=2.9.0, but you have tensorflow 2.6.4 which is incompatible.\r\n",
      "pytorch-lightning 1.7.2 requires tensorboard>=2.9.1, but you have tensorboard 2.6.0 which is incompatible.\r\n",
      "pytorch-lightning 1.7.2 requires typing-extensions>=4.0.0, but you have typing-extensions 3.10.0.2 which is incompatible.\r\n",
      "pytools 2022.1.12 requires typing-extensions>=4.0; python_version < \"3.11\", but you have typing-extensions 3.10.0.2 which is incompatible.\r\n",
      "pdpbox 0.2.1 requires matplotlib==3.1.1, but you have matplotlib 3.5.3 which is incompatible.\r\n",
      "pandas-profiling 3.1.0 requires markupsafe~=2.0.1, but you have markupsafe 2.1.1 which is incompatible.\r\n",
      "nnabla 1.29.0 requires numpy>=1.20.0, but you have numpy 1.19.5 which is incompatible.\r\n",
      "jax 0.3.16 requires numpy>=1.20, but you have numpy 1.19.5 which is incompatible.\r\n",
      "flax 0.6.0 requires rich~=11.1, but you have rich 12.1.0 which is incompatible.\r\n",
      "flax 0.6.0 requires typing-extensions>=4.1.1, but you have typing-extensions 3.10.0.2 which is incompatible.\r\n",
      "flake8 4.0.1 requires importlib-metadata<4.3; python_version < \"3.8\", but you have importlib-metadata 4.12.0 which is incompatible.\r\n",
      "featuretools 1.11.1 requires numpy>=1.21.0, but you have numpy 1.19.5 which is incompatible.\r\n",
      "dask-cudf 21.10.1 requires dask==2021.09.1, but you have dask 2022.2.0 which is incompatible.\r\n",
      "dask-cudf 21.10.1 requires distributed==2021.09.1, but you have distributed 2022.2.0 which is incompatible.\r\n",
      "cmdstanpy 1.0.4 requires numpy>=1.21, but you have numpy 1.19.5 which is incompatible.\r\n",
      "apache-beam 2.40.0 requires dill<0.3.2,>=0.3.1.1, but you have dill 0.3.5.1 which is incompatible.\r\n",
      "allennlp 2.10.0 requires h5py>=3.6.0, but you have h5py 3.1.0 which is incompatible.\r\n",
      "allennlp 2.10.0 requires numpy>=1.21.4, but you have numpy 1.19.5 which is incompatible.\r\n",
      "allennlp 2.10.0 requires protobuf==3.20.0, but you have protobuf 3.19.4 which is incompatible.\r\n",
      "aioitertools 0.10.0 requires typing_extensions>=4.0; python_version < \"3.10\", but you have typing-extensions 3.10.0.2 which is incompatible.\r\n",
      "aiobotocore 2.3.4 requires botocore<1.24.22,>=1.24.21, but you have botocore 1.27.56 which is incompatible.\u001b[0m\u001b[31m\r\n",
      "\u001b[0mSuccessfully installed astetik-1.13 chances-0.1.9 geonamescache-1.5.0 h5py-3.1.0 kerasplotlib-1.0 numpy-1.19.5 talos-1.3 tensorboard-2.6.0 typing-extensions-3.10.0.2 wrangle-0.7.2\r\n",
      "\u001b[33mWARNING: Running pip as the 'root' user can result in broken permissions and conflicting behaviour with the system package manager. It is recommended to use a virtual environment instead: https://pip.pypa.io/warnings/venv\u001b[0m\u001b[33m\r\n",
      "\u001b[0m"
     ]
    },
    {
     "name": "stderr",
     "output_type": "stream",
     "text": [
      "[nltk_data] Downloading package wordnet to /usr/share/nltk_data...\n",
      "[nltk_data]   Package wordnet is already up-to-date!\n",
      "[nltk_data] Downloading package omw-1.4 to /usr/share/nltk_data...\n"
     ]
    }
   ],
   "source": [
    "import numpy as np, pandas as pd\n",
    "\n",
    "!pip install talos\n",
    "\n",
    "import re\n",
    "import spacy\n",
    "from spacy.lang.en import English\n",
    "from spacy.lang.en.stop_words import STOP_WORDS\n",
    "from nltk.tokenize import word_tokenize\n",
    "import nltk\n",
    "from nltk.stem import WordNetLemmatizer\n",
    "nltk.download('wordnet')\n",
    "nltk.download('omw-1.4')\n",
    "import string\n",
    "from string import ascii_lowercase\n",
    "\n",
    "from tqdm import tqdm_notebook\n",
    "import itertools\n",
    "import io\n",
    "\n",
    "import matplotlib.pyplot as plt\n",
    "%matplotlib inline\n",
    "\n",
    "from functools import reduce\n",
    "from tensorflow import keras\n",
    "from keras.preprocessing.text import Tokenizer\n",
    "from keras_preprocessing.sequence import pad_sequences\n",
    "from keras.layers import Dense, Input, LSTM, Embedding, Dropout, Activation\n",
    "from keras.layers import Bidirectional, GlobalMaxPool1D\n",
    "from keras.models import Model\n",
    "from keras.models import Sequential\n",
    "from keras.layers import Conv1D, MaxPooling1D\n",
    "from keras.layers import BatchNormalization\n",
    "from keras import initializers, regularizers, constraints, optimizers, layers\n",
    "import talos"
   ]
  },
  {
   "cell_type": "markdown",
   "id": "31307683",
   "metadata": {
    "papermill": {
     "duration": 0.023299,
     "end_time": "2022-08-31T03:21:44.192877",
     "exception": false,
     "start_time": "2022-08-31T03:21:44.169578",
     "status": "completed"
    },
    "tags": []
   },
   "source": [
    "# Importing Data"
   ]
  },
  {
   "cell_type": "code",
   "execution_count": 2,
   "id": "074211c1",
   "metadata": {
    "execution": {
     "iopub.execute_input": "2022-08-31T03:21:44.244344Z",
     "iopub.status.busy": "2022-08-31T03:21:44.243692Z",
     "iopub.status.idle": "2022-08-31T03:21:45.985061Z",
     "shell.execute_reply": "2022-08-31T03:21:45.984086Z"
    },
    "papermill": {
     "duration": 1.772146,
     "end_time": "2022-08-31T03:21:45.987791",
     "exception": false,
     "start_time": "2022-08-31T03:21:44.215645",
     "status": "completed"
    },
    "tags": []
   },
   "outputs": [],
   "source": [
    "train = pd.read_csv('../input/dataset/train.csv')"
   ]
  },
  {
   "cell_type": "code",
   "execution_count": 3,
   "id": "7dddd4ba",
   "metadata": {
    "execution": {
     "iopub.execute_input": "2022-08-31T03:21:46.036086Z",
     "iopub.status.busy": "2022-08-31T03:21:46.035748Z",
     "iopub.status.idle": "2022-08-31T03:21:46.055207Z",
     "shell.execute_reply": "2022-08-31T03:21:46.054073Z"
    },
    "papermill": {
     "duration": 0.046668,
     "end_time": "2022-08-31T03:21:46.058220",
     "exception": false,
     "start_time": "2022-08-31T03:21:46.011552",
     "status": "completed"
    },
    "tags": []
   },
   "outputs": [
    {
     "data": {
      "text/html": [
       "<div>\n",
       "<style scoped>\n",
       "    .dataframe tbody tr th:only-of-type {\n",
       "        vertical-align: middle;\n",
       "    }\n",
       "\n",
       "    .dataframe tbody tr th {\n",
       "        vertical-align: top;\n",
       "    }\n",
       "\n",
       "    .dataframe thead th {\n",
       "        text-align: right;\n",
       "    }\n",
       "</style>\n",
       "<table border=\"1\" class=\"dataframe\">\n",
       "  <thead>\n",
       "    <tr style=\"text-align: right;\">\n",
       "      <th></th>\n",
       "      <th>id</th>\n",
       "      <th>comment_text</th>\n",
       "      <th>toxic</th>\n",
       "      <th>severe_toxic</th>\n",
       "      <th>obscene</th>\n",
       "      <th>threat</th>\n",
       "      <th>insult</th>\n",
       "      <th>identity_hate</th>\n",
       "    </tr>\n",
       "  </thead>\n",
       "  <tbody>\n",
       "    <tr>\n",
       "      <th>0</th>\n",
       "      <td>0000997932d777bf</td>\n",
       "      <td>Explanation\\nWhy the edits made under my usern...</td>\n",
       "      <td>0</td>\n",
       "      <td>0</td>\n",
       "      <td>0</td>\n",
       "      <td>0</td>\n",
       "      <td>0</td>\n",
       "      <td>0</td>\n",
       "    </tr>\n",
       "    <tr>\n",
       "      <th>1</th>\n",
       "      <td>000103f0d9cfb60f</td>\n",
       "      <td>D'aww! He matches this background colour I'm s...</td>\n",
       "      <td>0</td>\n",
       "      <td>0</td>\n",
       "      <td>0</td>\n",
       "      <td>0</td>\n",
       "      <td>0</td>\n",
       "      <td>0</td>\n",
       "    </tr>\n",
       "    <tr>\n",
       "      <th>2</th>\n",
       "      <td>000113f07ec002fd</td>\n",
       "      <td>Hey man, I'm really not trying to edit war. It...</td>\n",
       "      <td>0</td>\n",
       "      <td>0</td>\n",
       "      <td>0</td>\n",
       "      <td>0</td>\n",
       "      <td>0</td>\n",
       "      <td>0</td>\n",
       "    </tr>\n",
       "    <tr>\n",
       "      <th>3</th>\n",
       "      <td>0001b41b1c6bb37e</td>\n",
       "      <td>\"\\nMore\\nI can't make any real suggestions on ...</td>\n",
       "      <td>0</td>\n",
       "      <td>0</td>\n",
       "      <td>0</td>\n",
       "      <td>0</td>\n",
       "      <td>0</td>\n",
       "      <td>0</td>\n",
       "    </tr>\n",
       "    <tr>\n",
       "      <th>4</th>\n",
       "      <td>0001d958c54c6e35</td>\n",
       "      <td>You, sir, are my hero. Any chance you remember...</td>\n",
       "      <td>0</td>\n",
       "      <td>0</td>\n",
       "      <td>0</td>\n",
       "      <td>0</td>\n",
       "      <td>0</td>\n",
       "      <td>0</td>\n",
       "    </tr>\n",
       "  </tbody>\n",
       "</table>\n",
       "</div>"
      ],
      "text/plain": [
       "                 id                                       comment_text  toxic  \\\n",
       "0  0000997932d777bf  Explanation\\nWhy the edits made under my usern...      0   \n",
       "1  000103f0d9cfb60f  D'aww! He matches this background colour I'm s...      0   \n",
       "2  000113f07ec002fd  Hey man, I'm really not trying to edit war. It...      0   \n",
       "3  0001b41b1c6bb37e  \"\\nMore\\nI can't make any real suggestions on ...      0   \n",
       "4  0001d958c54c6e35  You, sir, are my hero. Any chance you remember...      0   \n",
       "\n",
       "   severe_toxic  obscene  threat  insult  identity_hate  \n",
       "0             0        0       0       0              0  \n",
       "1             0        0       0       0              0  \n",
       "2             0        0       0       0              0  \n",
       "3             0        0       0       0              0  \n",
       "4             0        0       0       0              0  "
      ]
     },
     "execution_count": 3,
     "metadata": {},
     "output_type": "execute_result"
    }
   ],
   "source": [
    "train.head()"
   ]
  },
  {
   "cell_type": "code",
   "execution_count": 4,
   "id": "82aedc60",
   "metadata": {
    "execution": {
     "iopub.execute_input": "2022-08-31T03:21:46.106139Z",
     "iopub.status.busy": "2022-08-31T03:21:46.105841Z",
     "iopub.status.idle": "2022-08-31T03:21:47.450355Z",
     "shell.execute_reply": "2022-08-31T03:21:47.449370Z"
    },
    "papermill": {
     "duration": 1.371418,
     "end_time": "2022-08-31T03:21:47.452795",
     "exception": false,
     "start_time": "2022-08-31T03:21:46.081377",
     "status": "completed"
    },
    "tags": []
   },
   "outputs": [],
   "source": [
    "test = pd.read_csv('../input/dataset/test.csv')"
   ]
  },
  {
   "cell_type": "code",
   "execution_count": 5,
   "id": "28281183",
   "metadata": {
    "execution": {
     "iopub.execute_input": "2022-08-31T03:21:47.502028Z",
     "iopub.status.busy": "2022-08-31T03:21:47.501034Z",
     "iopub.status.idle": "2022-08-31T03:21:47.513157Z",
     "shell.execute_reply": "2022-08-31T03:21:47.511998Z"
    },
    "papermill": {
     "duration": 0.03865,
     "end_time": "2022-08-31T03:21:47.515237",
     "exception": false,
     "start_time": "2022-08-31T03:21:47.476587",
     "status": "completed"
    },
    "tags": []
   },
   "outputs": [
    {
     "data": {
      "text/html": [
       "<div>\n",
       "<style scoped>\n",
       "    .dataframe tbody tr th:only-of-type {\n",
       "        vertical-align: middle;\n",
       "    }\n",
       "\n",
       "    .dataframe tbody tr th {\n",
       "        vertical-align: top;\n",
       "    }\n",
       "\n",
       "    .dataframe thead th {\n",
       "        text-align: right;\n",
       "    }\n",
       "</style>\n",
       "<table border=\"1\" class=\"dataframe\">\n",
       "  <thead>\n",
       "    <tr style=\"text-align: right;\">\n",
       "      <th></th>\n",
       "      <th>id</th>\n",
       "      <th>comment_text</th>\n",
       "    </tr>\n",
       "  </thead>\n",
       "  <tbody>\n",
       "    <tr>\n",
       "      <th>0</th>\n",
       "      <td>00001cee341fdb12</td>\n",
       "      <td>Yo bitch Ja Rule is more succesful then you'll...</td>\n",
       "    </tr>\n",
       "    <tr>\n",
       "      <th>1</th>\n",
       "      <td>0000247867823ef7</td>\n",
       "      <td>== From RfC == \\n\\n The title is fine as it is...</td>\n",
       "    </tr>\n",
       "    <tr>\n",
       "      <th>2</th>\n",
       "      <td>00013b17ad220c46</td>\n",
       "      <td>\" \\n\\n == Sources == \\n\\n * Zawe Ashton on Lap...</td>\n",
       "    </tr>\n",
       "    <tr>\n",
       "      <th>3</th>\n",
       "      <td>00017563c3f7919a</td>\n",
       "      <td>:If you have a look back at the source, the in...</td>\n",
       "    </tr>\n",
       "    <tr>\n",
       "      <th>4</th>\n",
       "      <td>00017695ad8997eb</td>\n",
       "      <td>I don't anonymously edit articles at all.</td>\n",
       "    </tr>\n",
       "  </tbody>\n",
       "</table>\n",
       "</div>"
      ],
      "text/plain": [
       "                 id                                       comment_text\n",
       "0  00001cee341fdb12  Yo bitch Ja Rule is more succesful then you'll...\n",
       "1  0000247867823ef7  == From RfC == \\n\\n The title is fine as it is...\n",
       "2  00013b17ad220c46  \" \\n\\n == Sources == \\n\\n * Zawe Ashton on Lap...\n",
       "3  00017563c3f7919a  :If you have a look back at the source, the in...\n",
       "4  00017695ad8997eb          I don't anonymously edit articles at all."
      ]
     },
     "execution_count": 5,
     "metadata": {},
     "output_type": "execute_result"
    }
   ],
   "source": [
    "test.head()"
   ]
  },
  {
   "cell_type": "markdown",
   "id": "8fd2314a",
   "metadata": {
    "papermill": {
     "duration": 0.028637,
     "end_time": "2022-08-31T03:21:47.567601",
     "exception": false,
     "start_time": "2022-08-31T03:21:47.538964",
     "status": "completed"
    },
    "tags": []
   },
   "source": [
    "# Data Exploration"
   ]
  },
  {
   "cell_type": "markdown",
   "id": "4548f543",
   "metadata": {
    "papermill": {
     "duration": 0.022821,
     "end_time": "2022-08-31T03:21:47.613885",
     "exception": false,
     "start_time": "2022-08-31T03:21:47.591064",
     "status": "completed"
    },
    "tags": []
   },
   "source": [
    "Checking for missing values"
   ]
  },
  {
   "cell_type": "code",
   "execution_count": 6,
   "id": "21abf2cb",
   "metadata": {
    "execution": {
     "iopub.execute_input": "2022-08-31T03:21:47.662037Z",
     "iopub.status.busy": "2022-08-31T03:21:47.661709Z",
     "iopub.status.idle": "2022-08-31T03:21:47.694793Z",
     "shell.execute_reply": "2022-08-31T03:21:47.693712Z"
    },
    "papermill": {
     "duration": 0.06001,
     "end_time": "2022-08-31T03:21:47.696912",
     "exception": false,
     "start_time": "2022-08-31T03:21:47.636902",
     "status": "completed"
    },
    "tags": []
   },
   "outputs": [
    {
     "data": {
      "text/plain": [
       "id               False\n",
       "comment_text     False\n",
       "toxic            False\n",
       "severe_toxic     False\n",
       "obscene          False\n",
       "threat           False\n",
       "insult           False\n",
       "identity_hate    False\n",
       "dtype: bool"
      ]
     },
     "execution_count": 6,
     "metadata": {},
     "output_type": "execute_result"
    }
   ],
   "source": [
    "train.isnull().any()"
   ]
  },
  {
   "cell_type": "code",
   "execution_count": 7,
   "id": "294518d9",
   "metadata": {
    "execution": {
     "iopub.execute_input": "2022-08-31T03:21:47.744447Z",
     "iopub.status.busy": "2022-08-31T03:21:47.744167Z",
     "iopub.status.idle": "2022-08-31T03:21:47.774766Z",
     "shell.execute_reply": "2022-08-31T03:21:47.773940Z"
    },
    "papermill": {
     "duration": 0.056566,
     "end_time": "2022-08-31T03:21:47.776718",
     "exception": false,
     "start_time": "2022-08-31T03:21:47.720152",
     "status": "completed"
    },
    "tags": []
   },
   "outputs": [
    {
     "data": {
      "text/plain": [
       "id              False\n",
       "comment_text    False\n",
       "dtype: bool"
      ]
     },
     "execution_count": 7,
     "metadata": {},
     "output_type": "execute_result"
    }
   ],
   "source": [
    "test.isnull().any()"
   ]
  },
  {
   "cell_type": "code",
   "execution_count": 8,
   "id": "f974f49b",
   "metadata": {
    "execution": {
     "iopub.execute_input": "2022-08-31T03:21:47.825568Z",
     "iopub.status.busy": "2022-08-31T03:21:47.824806Z",
     "iopub.status.idle": "2022-08-31T03:21:47.838550Z",
     "shell.execute_reply": "2022-08-31T03:21:47.837552Z"
    },
    "papermill": {
     "duration": 0.04008,
     "end_time": "2022-08-31T03:21:47.840546",
     "exception": false,
     "start_time": "2022-08-31T03:21:47.800466",
     "status": "completed"
    },
    "tags": []
   },
   "outputs": [],
   "source": [
    "labels = ['toxic', 'severe_toxic', 'obscene', 'threat', 'insult', 'identity_hate']\n",
    "y = train[labels].values"
   ]
  },
  {
   "cell_type": "markdown",
   "id": "8e5f88e9",
   "metadata": {
    "papermill": {
     "duration": 0.024436,
     "end_time": "2022-08-31T03:21:47.888227",
     "exception": false,
     "start_time": "2022-08-31T03:21:47.863791",
     "status": "completed"
    },
    "tags": []
   },
   "source": [
    "# Data Pre-processing"
   ]
  },
  {
   "cell_type": "markdown",
   "id": "709c34ec",
   "metadata": {
    "papermill": {
     "duration": 0.023556,
     "end_time": "2022-08-31T03:21:47.935156",
     "exception": false,
     "start_time": "2022-08-31T03:21:47.911600",
     "status": "completed"
    },
    "tags": []
   },
   "source": [
    "**Text Normalization**\n",
    "* Removing Characters in between Text\n",
    "* Removing Repeated Characters\n",
    "* Converting data to lower-case\n",
    "* Removing Numbers from the data\n",
    "* Remove Punctuation\n",
    "* Remove Whitespaces\n",
    "* Removing spaces in between words\n",
    "* Removing \"\\n\"\n",
    "* Remove Non-english characters"
   ]
  },
  {
   "cell_type": "code",
   "execution_count": 9,
   "id": "4e4603b3",
   "metadata": {
    "execution": {
     "iopub.execute_input": "2022-08-31T03:21:47.983947Z",
     "iopub.status.busy": "2022-08-31T03:21:47.983620Z",
     "iopub.status.idle": "2022-08-31T03:21:47.995739Z",
     "shell.execute_reply": "2022-08-31T03:21:47.994846Z"
    },
    "papermill": {
     "duration": 0.03915,
     "end_time": "2022-08-31T03:21:47.997722",
     "exception": false,
     "start_time": "2022-08-31T03:21:47.958572",
     "status": "completed"
    },
    "tags": []
   },
   "outputs": [],
   "source": [
    "RE_PATTERNS = {\n",
    "    ' american ':\n",
    "        [\n",
    "            'amerikan'\n",
    "        ],\n",
    "    ' adolf ':\n",
    "        [\n",
    "            'adolf'\n",
    "        ],\n",
    "    ' hitler ':\n",
    "        [\n",
    "            'hitler'\n",
    "        ],\n",
    "    ' fuck':\n",
    "        [\n",
    "            '(f)(u|[^a-z0-9 ])(c|[^a-z0-9 ])(k|[^a-z0-9 ])([^ ])*',\n",
    "            '(f)([^a-z]*)(u)([^a-z]*)(c)([^a-z]*)(k)',\n",
    "            ' f[!@#\\\\$%\\\\^\\\\&\\\\*]*u[!@#\\\\$%\\\\^&\\\\*]*k', 'f u u c',\n",
    "            '(f)(c|[^a-z ])(u|[^a-z ])(k)', r'f\\*',\n",
    "            'feck ', ' fux ', 'f\\\\*\\\\*', 'f**k', 'fu*k',\n",
    "            'f\\\\-ing', 'f\\\\.u\\\\.', 'f###', ' fu ', 'f@ck', 'f u c k', 'f uck', 'f ck'\n",
    "        ],\n",
    "    ' ass ':\n",
    "        [\n",
    "            '[^a-z]ass ', '[^a-z]azz ', 'arrse', ' arse ', '@\\\\$\\\\$',\n",
    "            '[^a-z]anus', ' a\\\\*s\\\\*s', '[^a-z]ass[^a-z ]',\n",
    "            'a[@#\\\\$%\\\\^&\\\\*][@#\\\\$%\\\\^&\\\\*]', '[^a-z]anal ', 'a s s', 'a55', '@$$'\n",
    "        ],\n",
    "    ' ass hole ':\n",
    "        [\n",
    "            ' a[s|z]*wipe', 'a[s|z]*[w]*h[o|0]+[l]*e', '@\\\\$\\\\$hole', 'a**hole'\n",
    "        ],\n",
    "    ' bitch ':\n",
    "        [\n",
    "            'b[w]*i[t]*ch', 'b!tch',\n",
    "            'bi\\\\+ch', 'b!\\\\+ch', '(b)([^a-z]*)(i)([^a-z]*)(t)([^a-z]*)(c)([^a-z]*)(h)',\n",
    "            'biatch', 'bi\\\\*\\\\*h', 'bytch', 'b i t c h', 'b!tch', 'bi+ch', 'l3itch'\n",
    "        ],\n",
    "    ' bastard ':\n",
    "        [\n",
    "            'ba[s|z]+t[e|a]+rd'\n",
    "        ],\n",
    "    ' trans gender':\n",
    "        [\n",
    "            'transgender'\n",
    "        ],\n",
    "    ' gay ':\n",
    "        [\n",
    "            'gay'\n",
    "        ],\n",
    "    ' cock ':\n",
    "        [\n",
    "            '[^a-z]cock', 'c0ck', '[^a-z]cok ', 'c0k', '[^a-z]cok[^aeiou]', ' cawk',\n",
    "            '(c)([^a-z ])(o)([^a-z ]*)(c)([^a-z ]*)(k)', 'c o c k'\n",
    "        ],\n",
    "    ' dick ':\n",
    "        [\n",
    "            ' dick[^aeiou]', 'deek', 'd i c k', 'dik'\n",
    "        ],\n",
    "    ' suck ':\n",
    "        [\n",
    "            'sucker', '(s)([^a-z ]*)(u)([^a-z ]*)(c)([^a-z ]*)(k)', 'sucks', '5uck', 's u c k'\n",
    "        ],\n",
    "    ' cunt ':\n",
    "        [\n",
    "            'cunt', 'c u n t'\n",
    "        ],\n",
    "    ' bull shit ':\n",
    "        [\n",
    "            'bullsh\\\\*t', 'bull\\\\$hit'\n",
    "        ],\n",
    "    ' homo sex ual':\n",
    "        [\n",
    "            'homosexual'\n",
    "        ],\n",
    "    ' jerk ':\n",
    "        [\n",
    "            'jerk'\n",
    "        ],\n",
    "    ' idiot ':\n",
    "        [\n",
    "            'i[d]+io[t]+', '(i)([^a-z ]*)(d)([^a-z ]*)(i)([^a-z ]*)(o)([^a-z ]*)(t)', 'idiots'\n",
    "                                                                                      'i d i o t'\n",
    "        ],\n",
    "    ' dumb ':\n",
    "        [\n",
    "            '(d)([^a-z ]*)(u)([^a-z ]*)(m)([^a-z ]*)(b)'\n",
    "        ],\n",
    "    ' shit ':\n",
    "        [\n",
    "            'shitty', '(s)([^a-z ]*)(h)([^a-z ]*)(i)([^a-z ]*)(t)', 'shite', '\\\\$hit', 's h i t', '$h1t'\n",
    "        ],\n",
    "    ' shit hole ':\n",
    "        [\n",
    "            'shythole'\n",
    "        ],\n",
    "    ' retard ':\n",
    "        [\n",
    "            'returd', 'retad', 'retard', 'wiktard', 'wikitud'\n",
    "        ],\n",
    "    ' rape ':\n",
    "        [\n",
    "            ' raped'\n",
    "        ],\n",
    "    ' dumb ass':\n",
    "        [\n",
    "            'dumbass', 'dubass'\n",
    "        ],\n",
    "    ' ass head':\n",
    "        [\n",
    "            'butthead'\n",
    "        ],\n",
    "    ' sex ':\n",
    "        [\n",
    "            'sexy', 's3x', 'sexuality'\n",
    "        ],\n",
    "    ' nigger ':\n",
    "        [\n",
    "            'nigger', 'ni[g]+a', ' nigr ', 'negrito', 'niguh', 'n3gr', 'n i g g e r'\n",
    "        ],\n",
    "    ' shut the fuck up':\n",
    "        [\n",
    "            'stfu', 'st*u'\n",
    "        ],\n",
    "    ' pussy ':\n",
    "        [\n",
    "            'pussy[^c]', 'pusy', 'pussi[^l]', 'pusses', 'p*ssy'\n",
    "        ],\n",
    "    ' faggot ':\n",
    "        [\n",
    "            'faggot', ' fa[g]+[s]*[^a-z ]', 'fagot', 'f a g g o t', 'faggit',\n",
    "            '(f)([^a-z ]*)(a)([^a-z ]*)([g]+)([^a-z ]*)(o)([^a-z ]*)(t)', 'fau[g]+ot', 'fae[g]+ot',\n",
    "        ],\n",
    "    ' mother fucker':\n",
    "        [\n",
    "            ' motha ', ' motha f', ' mother f', 'motherucker',\n",
    "        ],\n",
    "    ' whore ':\n",
    "        [\n",
    "            'wh\\\\*\\\\*\\\\*', 'w h o r e'\n",
    "        ],\n",
    "    ' fucking ':\n",
    "        [\n",
    "            'f*$%-ing'\n",
    "        ],\n",
    "}"
   ]
  },
  {
   "cell_type": "code",
   "execution_count": 10,
   "id": "b1e01cd7",
   "metadata": {
    "execution": {
     "iopub.execute_input": "2022-08-31T03:21:48.046314Z",
     "iopub.status.busy": "2022-08-31T03:21:48.046041Z",
     "iopub.status.idle": "2022-08-31T03:21:48.052832Z",
     "shell.execute_reply": "2022-08-31T03:21:48.051799Z"
    },
    "papermill": {
     "duration": 0.033667,
     "end_time": "2022-08-31T03:21:48.055154",
     "exception": false,
     "start_time": "2022-08-31T03:21:48.021487",
     "status": "completed"
    },
    "tags": []
   },
   "outputs": [],
   "source": [
    "def clean_text(text, remove_repeat_text=True, remove_patterns_text=True, is_lower=True):\n",
    "    if is_lower:\n",
    "        text = text.lower()\n",
    "\n",
    "    if remove_patterns_text:\n",
    "        for target, patterns in RE_PATTERNS.items():\n",
    "            for pat in patterns:\n",
    "                text = str(text).replace(pat, target)\n",
    "\n",
    "    if remove_repeat_text:\n",
    "        text = re.sub(r'(.)\\1{2,}', r'\\1', text)\n",
    "\n",
    "    text = str(text).replace(\"\\n\", \" \")\n",
    "    text = re.sub(r'[^\\w\\s]', ' ', text)\n",
    "    text = re.sub('[0-9]', \"\", text)\n",
    "    text = re.sub(\" +\", \" \", text)\n",
    "    text = re.sub(\"([^\\x00-\\x7F])+\", \" \", text)\n",
    "    return text"
   ]
  },
  {
   "cell_type": "markdown",
   "id": "71d5ab57",
   "metadata": {
    "papermill": {
     "duration": 0.023816,
     "end_time": "2022-08-31T03:21:48.102269",
     "exception": false,
     "start_time": "2022-08-31T03:21:48.078453",
     "status": "completed"
    },
    "tags": []
   },
   "source": [
    "**Cleaning Training Data**"
   ]
  },
  {
   "cell_type": "code",
   "execution_count": 11,
   "id": "6ff43b87",
   "metadata": {
    "execution": {
     "iopub.execute_input": "2022-08-31T03:21:48.150749Z",
     "iopub.status.busy": "2022-08-31T03:21:48.150419Z",
     "iopub.status.idle": "2022-08-31T03:22:13.503120Z",
     "shell.execute_reply": "2022-08-31T03:22:13.502073Z"
    },
    "papermill": {
     "duration": 25.379385,
     "end_time": "2022-08-31T03:22:13.505221",
     "exception": false,
     "start_time": "2022-08-31T03:21:48.125836",
     "status": "completed"
    },
    "tags": []
   },
   "outputs": [
    {
     "data": {
      "text/plain": [
       "'d aww he matches this background colour i m seemingly stuck with thanks talk january utc '"
      ]
     },
     "execution_count": 11,
     "metadata": {},
     "output_type": "execute_result"
    }
   ],
   "source": [
    "train['comment_text'] = train['comment_text'].apply(lambda x: clean_text(x))\n",
    "train['comment_text'][1]"
   ]
  },
  {
   "cell_type": "markdown",
   "id": "dc80d5d0",
   "metadata": {
    "papermill": {
     "duration": 0.023594,
     "end_time": "2022-08-31T03:22:13.552755",
     "exception": false,
     "start_time": "2022-08-31T03:22:13.529161",
     "status": "completed"
    },
    "tags": []
   },
   "source": [
    "**Cleaning Test Data**"
   ]
  },
  {
   "cell_type": "code",
   "execution_count": 12,
   "id": "a50eb43a",
   "metadata": {
    "execution": {
     "iopub.execute_input": "2022-08-31T03:22:13.602039Z",
     "iopub.status.busy": "2022-08-31T03:22:13.601384Z",
     "iopub.status.idle": "2022-08-31T03:22:35.690075Z",
     "shell.execute_reply": "2022-08-31T03:22:35.688997Z"
    },
    "papermill": {
     "duration": 22.115945,
     "end_time": "2022-08-31T03:22:35.692121",
     "exception": false,
     "start_time": "2022-08-31T03:22:13.576176",
     "status": "completed"
    },
    "tags": []
   },
   "outputs": [
    {
     "data": {
      "text/plain": [
       "'this is a university ip address just fyi '"
      ]
     },
     "execution_count": 12,
     "metadata": {},
     "output_type": "execute_result"
    }
   ],
   "source": [
    "test['comment_text'] = test['comment_text'].apply(lambda x: clean_text(x))\n",
    "test['comment_text'][1048]"
   ]
  },
  {
   "cell_type": "markdown",
   "id": "eb5249ab",
   "metadata": {
    "papermill": {
     "duration": 0.023847,
     "end_time": "2022-08-31T03:22:35.741123",
     "exception": false,
     "start_time": "2022-08-31T03:22:35.717276",
     "status": "completed"
    },
    "tags": []
   },
   "source": [
    "# Lemmatization"
   ]
  },
  {
   "cell_type": "code",
   "execution_count": 13,
   "id": "2c955dae",
   "metadata": {
    "execution": {
     "iopub.execute_input": "2022-08-31T03:22:35.792899Z",
     "iopub.status.busy": "2022-08-31T03:22:35.791771Z",
     "iopub.status.idle": "2022-08-31T03:22:35.797402Z",
     "shell.execute_reply": "2022-08-31T03:22:35.796467Z"
    },
    "papermill": {
     "duration": 0.034186,
     "end_time": "2022-08-31T03:22:35.799698",
     "exception": false,
     "start_time": "2022-08-31T03:22:35.765512",
     "status": "completed"
    },
    "tags": []
   },
   "outputs": [],
   "source": [
    "comments_train = train['comment_text']\n",
    "comments_test = test['comment_text']"
   ]
  },
  {
   "cell_type": "code",
   "execution_count": 14,
   "id": "e6190cd5",
   "metadata": {
    "execution": {
     "iopub.execute_input": "2022-08-31T03:22:35.850286Z",
     "iopub.status.busy": "2022-08-31T03:22:35.849462Z",
     "iopub.status.idle": "2022-08-31T03:22:35.905421Z",
     "shell.execute_reply": "2022-08-31T03:22:35.904523Z"
    },
    "papermill": {
     "duration": 0.083702,
     "end_time": "2022-08-31T03:22:35.907676",
     "exception": false,
     "start_time": "2022-08-31T03:22:35.823974",
     "status": "completed"
    },
    "tags": []
   },
   "outputs": [],
   "source": [
    "comments_train = list(comments_train)\n",
    "comments_test = list(comments_test)"
   ]
  },
  {
   "cell_type": "code",
   "execution_count": 15,
   "id": "f778ab7f",
   "metadata": {
    "execution": {
     "iopub.execute_input": "2022-08-31T03:22:35.958169Z",
     "iopub.status.busy": "2022-08-31T03:22:35.957310Z",
     "iopub.status.idle": "2022-08-31T03:22:35.962085Z",
     "shell.execute_reply": "2022-08-31T03:22:35.961237Z"
    },
    "papermill": {
     "duration": 0.032212,
     "end_time": "2022-08-31T03:22:35.964312",
     "exception": false,
     "start_time": "2022-08-31T03:22:35.932100",
     "status": "completed"
    },
    "tags": []
   },
   "outputs": [],
   "source": [
    "wordnet_lemmatizer = WordNetLemmatizer()"
   ]
  },
  {
   "cell_type": "code",
   "execution_count": 16,
   "id": "8af70edc",
   "metadata": {
    "execution": {
     "iopub.execute_input": "2022-08-31T03:22:36.014765Z",
     "iopub.status.busy": "2022-08-31T03:22:36.013978Z",
     "iopub.status.idle": "2022-08-31T03:22:36.020045Z",
     "shell.execute_reply": "2022-08-31T03:22:36.019080Z"
    },
    "papermill": {
     "duration": 0.033407,
     "end_time": "2022-08-31T03:22:36.021988",
     "exception": false,
     "start_time": "2022-08-31T03:22:35.988581",
     "status": "completed"
    },
    "tags": []
   },
   "outputs": [],
   "source": [
    "def lemma(text, lemmatization=True):\n",
    "    output = \"\"\n",
    "    if lemmatization:\n",
    "        text = text.split(\" \")\n",
    "        for word in text:\n",
    "            word1 = wordnet_lemmatizer.lemmatize(word, pos=\"n\")\n",
    "            word2 = wordnet_lemmatizer.lemmatize(word1, pos=\"v\")\n",
    "            word3 = wordnet_lemmatizer.lemmatize(word2, pos=\"a\")\n",
    "            word4 = wordnet_lemmatizer.lemmatize(word3, pos=\"r\")\n",
    "            output = output + \" \" + word4\n",
    "    else:\n",
    "        output = text\n",
    "\n",
    "    return str(output.strip())"
   ]
  },
  {
   "cell_type": "markdown",
   "id": "fdd4c674",
   "metadata": {
    "papermill": {
     "duration": 0.023661,
     "end_time": "2022-08-31T03:22:36.070166",
     "exception": false,
     "start_time": "2022-08-31T03:22:36.046505",
     "status": "completed"
    },
    "tags": []
   },
   "source": [
    "**Lemmatizing Training Data**"
   ]
  },
  {
   "cell_type": "code",
   "execution_count": 17,
   "id": "d8328427",
   "metadata": {
    "execution": {
     "iopub.execute_input": "2022-08-31T03:22:36.120398Z",
     "iopub.status.busy": "2022-08-31T03:22:36.119551Z",
     "iopub.status.idle": "2022-08-31T03:25:19.981667Z",
     "shell.execute_reply": "2022-08-31T03:25:19.980565Z"
    },
    "papermill": {
     "duration": 163.889803,
     "end_time": "2022-08-31T03:25:19.984303",
     "exception": false,
     "start_time": "2022-08-31T03:22:36.094500",
     "status": "completed"
    },
    "tags": []
   },
   "outputs": [
    {
     "data": {
      "application/vnd.jupyter.widget-view+json": {
       "model_id": "94adbaac7a5b401a9d22ae8038bc59e8",
       "version_major": 2,
       "version_minor": 0
      },
      "text/plain": [
       "  0%|          | 0/159571 [00:00<?, ?it/s]"
      ]
     },
     "metadata": {},
     "output_type": "display_data"
    }
   ],
   "source": [
    "lemmatized_train_data = []\n",
    "\n",
    "for line in tqdm_notebook(comments_train, total=159571):\n",
    "    lemmatized_train_data.append(lemma(line))"
   ]
  },
  {
   "cell_type": "code",
   "execution_count": 18,
   "id": "ff6d9b3e",
   "metadata": {
    "execution": {
     "iopub.execute_input": "2022-08-31T03:25:20.036199Z",
     "iopub.status.busy": "2022-08-31T03:25:20.034560Z",
     "iopub.status.idle": "2022-08-31T03:25:20.042145Z",
     "shell.execute_reply": "2022-08-31T03:25:20.041077Z"
    },
    "papermill": {
     "duration": 0.034749,
     "end_time": "2022-08-31T03:25:20.044303",
     "exception": false,
     "start_time": "2022-08-31T03:25:20.009554",
     "status": "completed"
    },
    "tags": []
   },
   "outputs": [
    {
     "data": {
      "text/plain": [
       "'i agree with you about graemel s intention he be a revert nazi and wikipedia ha a way of protect against this report him to the wp rr three revert rule notice board post by report the revert nazi graemel ha show himself herself to be a revert nazi this be unacceptable on a site that be make by it s user and not it s admins if you feel you have be unjustly revert more than time over a hour period please report him her to the three revert noticeboard wp rr it be time to take back what be ours'"
      ]
     },
     "execution_count": 18,
     "metadata": {},
     "output_type": "execute_result"
    }
   ],
   "source": [
    "lemmatized_train_data[152458]"
   ]
  },
  {
   "cell_type": "markdown",
   "id": "3731c5ea",
   "metadata": {
    "papermill": {
     "duration": 0.025078,
     "end_time": "2022-08-31T03:25:20.095706",
     "exception": false,
     "start_time": "2022-08-31T03:25:20.070628",
     "status": "completed"
    },
    "tags": []
   },
   "source": [
    "**Lemmatizing Test Data**"
   ]
  },
  {
   "cell_type": "code",
   "execution_count": 19,
   "id": "1ab7f7d9",
   "metadata": {
    "execution": {
     "iopub.execute_input": "2022-08-31T03:25:20.146454Z",
     "iopub.status.busy": "2022-08-31T03:25:20.146132Z",
     "iopub.status.idle": "2022-08-31T03:27:44.618732Z",
     "shell.execute_reply": "2022-08-31T03:27:44.617729Z"
    },
    "papermill": {
     "duration": 144.500795,
     "end_time": "2022-08-31T03:27:44.621132",
     "exception": false,
     "start_time": "2022-08-31T03:25:20.120337",
     "status": "completed"
    },
    "tags": []
   },
   "outputs": [
    {
     "data": {
      "application/vnd.jupyter.widget-view+json": {
       "model_id": "371194a7115b4e8094e743f4640cf22a",
       "version_major": 2,
       "version_minor": 0
      },
      "text/plain": [
       "  0%|          | 0/153164 [00:00<?, ?it/s]"
      ]
     },
     "metadata": {},
     "output_type": "display_data"
    }
   ],
   "source": [
    "lemmatized_test_data = []\n",
    "\n",
    "for line in tqdm_notebook(comments_test, total=len(comments_test)):\n",
    "    lemmatized_test_data.append(lemma(line))"
   ]
  },
  {
   "cell_type": "markdown",
   "id": "64b755d7",
   "metadata": {
    "papermill": {
     "duration": 0.02525,
     "end_time": "2022-08-31T03:27:44.672870",
     "exception": false,
     "start_time": "2022-08-31T03:27:44.647620",
     "status": "completed"
    },
    "tags": []
   },
   "source": [
    "# Stopwords Removal"
   ]
  },
  {
   "cell_type": "code",
   "execution_count": 20,
   "id": "9e650583",
   "metadata": {
    "execution": {
     "iopub.execute_input": "2022-08-31T03:27:44.726654Z",
     "iopub.status.busy": "2022-08-31T03:27:44.725455Z",
     "iopub.status.idle": "2022-08-31T03:27:44.731377Z",
     "shell.execute_reply": "2022-08-31T03:27:44.730426Z"
    },
    "papermill": {
     "duration": 0.034774,
     "end_time": "2022-08-31T03:27:44.733841",
     "exception": false,
     "start_time": "2022-08-31T03:27:44.699067",
     "status": "completed"
    },
    "tags": []
   },
   "outputs": [],
   "source": [
    "stopword_list = STOP_WORDS"
   ]
  },
  {
   "cell_type": "markdown",
   "id": "6cb1574c",
   "metadata": {
    "papermill": {
     "duration": 0.024622,
     "end_time": "2022-08-31T03:27:44.784059",
     "exception": false,
     "start_time": "2022-08-31T03:27:44.759437",
     "status": "completed"
    },
    "tags": []
   },
   "source": [
    "**Adding Single and Dual to STOP_WORDS**"
   ]
  },
  {
   "cell_type": "code",
   "execution_count": 21,
   "id": "96f72577",
   "metadata": {
    "execution": {
     "iopub.execute_input": "2022-08-31T03:27:44.836657Z",
     "iopub.status.busy": "2022-08-31T03:27:44.836307Z",
     "iopub.status.idle": "2022-08-31T03:27:44.842731Z",
     "shell.execute_reply": "2022-08-31T03:27:44.841695Z"
    },
    "papermill": {
     "duration": 0.035715,
     "end_time": "2022-08-31T03:27:44.844972",
     "exception": false,
     "start_time": "2022-08-31T03:27:44.809257",
     "status": "completed"
    },
    "tags": []
   },
   "outputs": [],
   "source": [
    "def iter_all_strings():\n",
    "    for size in itertools.count(1):\n",
    "        for s in itertools.product(ascii_lowercase, repeat=size):\n",
    "            yield \"\".join(s)\n",
    "\n",
    "dual_alpha_list = []\n",
    "\n",
    "for s in iter_all_strings():\n",
    "    dual_alpha_list.append(s)\n",
    "    if s == 'zz':\n",
    "        break"
   ]
  },
  {
   "cell_type": "code",
   "execution_count": 22,
   "id": "c39d5fa4",
   "metadata": {
    "execution": {
     "iopub.execute_input": "2022-08-31T03:27:44.897475Z",
     "iopub.status.busy": "2022-08-31T03:27:44.896607Z",
     "iopub.status.idle": "2022-08-31T03:27:44.905052Z",
     "shell.execute_reply": "2022-08-31T03:27:44.904216Z"
    },
    "papermill": {
     "duration": 0.036711,
     "end_time": "2022-08-31T03:27:44.907041",
     "exception": false,
     "start_time": "2022-08-31T03:27:44.870330",
     "status": "completed"
    },
    "tags": []
   },
   "outputs": [],
   "source": [
    "dual_alpha_list.remove('i')\n",
    "dual_alpha_list.remove('a')\n",
    "dual_alpha_list.remove('am')\n",
    "dual_alpha_list.remove('an')\n",
    "dual_alpha_list.remove('as')\n",
    "dual_alpha_list.remove('at')\n",
    "dual_alpha_list.remove('be')\n",
    "dual_alpha_list.remove('by')\n",
    "dual_alpha_list.remove('do')\n",
    "dual_alpha_list.remove('go')\n",
    "dual_alpha_list.remove('he')\n",
    "dual_alpha_list.remove('hi')\n",
    "dual_alpha_list.remove('if')\n",
    "dual_alpha_list.remove('is')\n",
    "dual_alpha_list.remove('in')\n",
    "dual_alpha_list.remove('me')\n",
    "dual_alpha_list.remove('my')\n",
    "dual_alpha_list.remove('no')\n",
    "dual_alpha_list.remove('of')\n",
    "dual_alpha_list.remove('on')\n",
    "dual_alpha_list.remove('or')\n",
    "dual_alpha_list.remove('ok')\n",
    "dual_alpha_list.remove('so')\n",
    "dual_alpha_list.remove('to')\n",
    "dual_alpha_list.remove('up')\n",
    "dual_alpha_list.remove('us')\n",
    "dual_alpha_list.remove('we')"
   ]
  },
  {
   "cell_type": "code",
   "execution_count": 23,
   "id": "ecd12bab",
   "metadata": {
    "execution": {
     "iopub.execute_input": "2022-08-31T03:27:44.960123Z",
     "iopub.status.busy": "2022-08-31T03:27:44.959210Z",
     "iopub.status.idle": "2022-08-31T03:27:44.964695Z",
     "shell.execute_reply": "2022-08-31T03:27:44.963683Z"
    },
    "papermill": {
     "duration": 0.033948,
     "end_time": "2022-08-31T03:27:44.966819",
     "exception": false,
     "start_time": "2022-08-31T03:27:44.932871",
     "status": "completed"
    },
    "tags": []
   },
   "outputs": [],
   "source": [
    "for letter in dual_alpha_list:\n",
    "    stopword_list.add(letter)"
   ]
  },
  {
   "cell_type": "markdown",
   "id": "d78c77fe",
   "metadata": {
    "papermill": {
     "duration": 0.024897,
     "end_time": "2022-08-31T03:27:45.016732",
     "exception": false,
     "start_time": "2022-08-31T03:27:44.991835",
     "status": "completed"
    },
    "tags": []
   },
   "source": [
    "**Checking for other words that we may need in STOP_WORDS**"
   ]
  },
  {
   "cell_type": "code",
   "execution_count": 24,
   "id": "67b83ce4",
   "metadata": {
    "execution": {
     "iopub.execute_input": "2022-08-31T03:27:45.068465Z",
     "iopub.status.busy": "2022-08-31T03:27:45.067583Z",
     "iopub.status.idle": "2022-08-31T03:27:45.073949Z",
     "shell.execute_reply": "2022-08-31T03:27:45.073061Z"
    },
    "papermill": {
     "duration": 0.034565,
     "end_time": "2022-08-31T03:27:45.076000",
     "exception": false,
     "start_time": "2022-08-31T03:27:45.041435",
     "status": "completed"
    },
    "tags": []
   },
   "outputs": [],
   "source": [
    "def search_stopwords(data, search_stop=True):\n",
    "    output = \"\"\n",
    "    if search_stop:\n",
    "        data = data.split(\" \")\n",
    "        for word in data:\n",
    "            if word not in stopword_list:\n",
    "                output = output + \" \" + word\n",
    "    else:\n",
    "        output = data\n",
    "\n",
    "    return str(output.strip())"
   ]
  },
  {
   "cell_type": "code",
   "execution_count": 25,
   "id": "5573358f",
   "metadata": {
    "execution": {
     "iopub.execute_input": "2022-08-31T03:27:45.127653Z",
     "iopub.status.busy": "2022-08-31T03:27:45.126805Z",
     "iopub.status.idle": "2022-08-31T03:27:47.849427Z",
     "shell.execute_reply": "2022-08-31T03:27:47.848347Z"
    },
    "papermill": {
     "duration": 2.751737,
     "end_time": "2022-08-31T03:27:47.853172",
     "exception": false,
     "start_time": "2022-08-31T03:27:45.101435",
     "status": "completed"
    },
    "tags": []
   },
   "outputs": [
    {
     "data": {
      "application/vnd.jupyter.widget-view+json": {
       "model_id": "02b2c5c6ca5b4c8ea7803cef9d1c7738",
       "version_major": 2,
       "version_minor": 0
      },
      "text/plain": [
       "  0%|          | 0/159571 [00:00<?, ?it/s]"
      ]
     },
     "metadata": {},
     "output_type": "display_data"
    }
   ],
   "source": [
    "potential_stopwords = []\n",
    "\n",
    "for line in tqdm_notebook(lemmatized_train_data, total=159571):\n",
    "    potential_stopwords.append(search_stopwords(line))"
   ]
  },
  {
   "cell_type": "code",
   "execution_count": 26,
   "id": "855d1f7f",
   "metadata": {
    "execution": {
     "iopub.execute_input": "2022-08-31T03:27:47.907038Z",
     "iopub.status.busy": "2022-08-31T03:27:47.906666Z",
     "iopub.status.idle": "2022-08-31T03:27:47.913839Z",
     "shell.execute_reply": "2022-08-31T03:27:47.912668Z"
    },
    "papermill": {
     "duration": 0.037137,
     "end_time": "2022-08-31T03:27:47.916784",
     "exception": false,
     "start_time": "2022-08-31T03:27:47.879647",
     "status": "completed"
    },
    "tags": []
   },
   "outputs": [
    {
     "data": {
      "text/plain": [
       "159571"
      ]
     },
     "execution_count": 26,
     "metadata": {},
     "output_type": "execute_result"
    }
   ],
   "source": [
    "len(potential_stopwords)"
   ]
  },
  {
   "cell_type": "markdown",
   "id": "10edfd96",
   "metadata": {
    "papermill": {
     "duration": 0.025899,
     "end_time": "2022-08-31T03:27:47.968638",
     "exception": false,
     "start_time": "2022-08-31T03:27:47.942739",
     "status": "completed"
    },
    "tags": []
   },
   "source": [
    "**Combining all the sentences in the list into a single string**"
   ]
  },
  {
   "cell_type": "code",
   "execution_count": 27,
   "id": "bbfdc33d",
   "metadata": {
    "execution": {
     "iopub.execute_input": "2022-08-31T03:27:48.021114Z",
     "iopub.status.busy": "2022-08-31T03:27:48.020710Z",
     "iopub.status.idle": "2022-08-31T03:27:48.027926Z",
     "shell.execute_reply": "2022-08-31T03:27:48.026902Z"
    },
    "papermill": {
     "duration": 0.036178,
     "end_time": "2022-08-31T03:27:48.030393",
     "exception": false,
     "start_time": "2022-08-31T03:27:47.994215",
     "status": "completed"
    },
    "tags": []
   },
   "outputs": [],
   "source": [
    "def string_combine_a(stopword):\n",
    "    final_a = \"\"\n",
    "    for item in range(39893):\n",
    "        final_a = final_a + \" \" + stopword[item]\n",
    "    return final_a\n",
    "\n",
    "def string_combine_b(stopword):\n",
    "    final_b = \"\"\n",
    "    for item in range(39893, 79785):\n",
    "        final_b = final_b + \" \" + stopword[item]\n",
    "    return final_b\n",
    "\n",
    "def string_combine_c(stopword):\n",
    "    final_c = \"\"\n",
    "    for item in range(79785, 119678):\n",
    "        final_c = final_c + \" \" + stopword[item]\n",
    "    return final_c\n",
    "\n",
    "def string_combine_d(stopword):\n",
    "    final_d = \"\"\n",
    "    for item in range(119678, 159571):\n",
    "        final_d = final_d + \" \" + stopword[item]\n",
    "    return final_d"
   ]
  },
  {
   "cell_type": "code",
   "execution_count": 28,
   "id": "e1422b79",
   "metadata": {
    "execution": {
     "iopub.execute_input": "2022-08-31T03:27:48.081375Z",
     "iopub.status.busy": "2022-08-31T03:27:48.081059Z",
     "iopub.status.idle": "2022-08-31T03:29:15.297295Z",
     "shell.execute_reply": "2022-08-31T03:29:15.296246Z"
    },
    "papermill": {
     "duration": 87.245084,
     "end_time": "2022-08-31T03:29:15.299955",
     "exception": false,
     "start_time": "2022-08-31T03:27:48.054871",
     "status": "completed"
    },
    "tags": []
   },
   "outputs": [],
   "source": [
    "total_string_potential_a = string_combine_a(potential_stopwords)\n",
    "total_string_potential_b = string_combine_b(potential_stopwords)\n",
    "total_string_potential_c = string_combine_c(potential_stopwords)\n",
    "total_string_potential_d = string_combine_d(potential_stopwords)"
   ]
  },
  {
   "cell_type": "markdown",
   "id": "9cd3f0e7",
   "metadata": {
    "papermill": {
     "duration": 0.023976,
     "end_time": "2022-08-31T03:29:15.348793",
     "exception": false,
     "start_time": "2022-08-31T03:29:15.324817",
     "status": "completed"
    },
    "tags": []
   },
   "source": [
    "**Counting the number of words in each of the 4 strings**"
   ]
  },
  {
   "cell_type": "code",
   "execution_count": 29,
   "id": "5ff6457e",
   "metadata": {
    "execution": {
     "iopub.execute_input": "2022-08-31T03:29:15.399777Z",
     "iopub.status.busy": "2022-08-31T03:29:15.398580Z",
     "iopub.status.idle": "2022-08-31T03:29:15.404681Z",
     "shell.execute_reply": "2022-08-31T03:29:15.403730Z"
    },
    "papermill": {
     "duration": 0.033942,
     "end_time": "2022-08-31T03:29:15.406691",
     "exception": false,
     "start_time": "2022-08-31T03:29:15.372749",
     "status": "completed"
    },
    "tags": []
   },
   "outputs": [],
   "source": [
    "def word_count(str):\n",
    "    counts = dict()\n",
    "    words = str.split()\n",
    "\n",
    "    for word in words:\n",
    "        if word in counts:\n",
    "            counts[word] += 1\n",
    "        else:\n",
    "            counts[word] = 1\n",
    "\n",
    "    return counts"
   ]
  },
  {
   "cell_type": "code",
   "execution_count": 30,
   "id": "27dc6dc1",
   "metadata": {
    "execution": {
     "iopub.execute_input": "2022-08-31T03:29:15.456027Z",
     "iopub.status.busy": "2022-08-31T03:29:15.455733Z",
     "iopub.status.idle": "2022-08-31T03:29:16.967747Z",
     "shell.execute_reply": "2022-08-31T03:29:16.966699Z"
    },
    "papermill": {
     "duration": 1.539342,
     "end_time": "2022-08-31T03:29:16.970402",
     "exception": false,
     "start_time": "2022-08-31T03:29:15.431060",
     "status": "completed"
    },
    "tags": []
   },
   "outputs": [],
   "source": [
    "total_string_potential_a_dict = word_count(total_string_potential_a)\n",
    "total_string_potential_b_dict = word_count(total_string_potential_b)\n",
    "total_string_potential_c_dict = word_count(total_string_potential_c)\n",
    "total_string_potential_d_dict = word_count(total_string_potential_d)"
   ]
  },
  {
   "cell_type": "markdown",
   "id": "be12ed7b",
   "metadata": {
    "papermill": {
     "duration": 0.023813,
     "end_time": "2022-08-31T03:29:17.019538",
     "exception": false,
     "start_time": "2022-08-31T03:29:16.995725",
     "status": "completed"
    },
    "tags": []
   },
   "source": [
    "**Converting Dictionaries to Dataframe**"
   ]
  },
  {
   "cell_type": "code",
   "execution_count": 31,
   "id": "0bebc4a3",
   "metadata": {
    "execution": {
     "iopub.execute_input": "2022-08-31T03:29:17.070411Z",
     "iopub.status.busy": "2022-08-31T03:29:17.069706Z",
     "iopub.status.idle": "2022-08-31T03:29:17.191188Z",
     "shell.execute_reply": "2022-08-31T03:29:17.190220Z"
    },
    "papermill": {
     "duration": 0.149899,
     "end_time": "2022-08-31T03:29:17.193574",
     "exception": false,
     "start_time": "2022-08-31T03:29:17.043675",
     "status": "completed"
    },
    "tags": []
   },
   "outputs": [],
   "source": [
    "total_string_potential_a_df = pd.DataFrame(list(total_string_potential_a_dict.items()), columns = ['Word','Count'])\n",
    "total_string_potential_b_df = pd.DataFrame(list(total_string_potential_b_dict.items()), columns = ['Word','Count'])\n",
    "total_string_potential_c_df = pd.DataFrame(list(total_string_potential_c_dict.items()), columns = ['Word','Count'])\n",
    "total_string_potential_d_df = pd.DataFrame(list(total_string_potential_d_dict.items()), columns = ['Word','Count'])"
   ]
  },
  {
   "cell_type": "markdown",
   "id": "351f6d52",
   "metadata": {
    "papermill": {
     "duration": 0.028318,
     "end_time": "2022-08-31T03:29:17.247814",
     "exception": false,
     "start_time": "2022-08-31T03:29:17.219496",
     "status": "completed"
    },
    "tags": []
   },
   "source": [
    "**Getting Dataframe output in descending order**"
   ]
  },
  {
   "cell_type": "code",
   "execution_count": 32,
   "id": "6a9f2ca6",
   "metadata": {
    "execution": {
     "iopub.execute_input": "2022-08-31T03:29:17.297638Z",
     "iopub.status.busy": "2022-08-31T03:29:17.297290Z",
     "iopub.status.idle": "2022-08-31T03:29:17.331866Z",
     "shell.execute_reply": "2022-08-31T03:29:17.330964Z"
    },
    "papermill": {
     "duration": 0.061847,
     "end_time": "2022-08-31T03:29:17.333907",
     "exception": false,
     "start_time": "2022-08-31T03:29:17.272060",
     "status": "completed"
    },
    "tags": []
   },
   "outputs": [],
   "source": [
    "top50_potential_stopwords_a = total_string_potential_a_df.sort_values(by=['Count'],ascending=False).head(50)\n",
    "top50_potential_stopwords_b = total_string_potential_b_df.sort_values(by=['Count'],ascending=False).head(50)\n",
    "top50_potential_stopwords_c = total_string_potential_c_df.sort_values(by=['Count'],ascending=False).head(50)\n",
    "top50_potential_stopwords_d = total_string_potential_d_df.sort_values(by=['Count'],ascending=False).head(50)"
   ]
  },
  {
   "cell_type": "markdown",
   "id": "fbc16bc7",
   "metadata": {
    "papermill": {
     "duration": 0.024398,
     "end_time": "2022-08-31T03:29:17.382776",
     "exception": false,
     "start_time": "2022-08-31T03:29:17.358378",
     "status": "completed"
    },
    "tags": []
   },
   "source": [
    "**Looking for common terms in all top 50 dataframes**"
   ]
  },
  {
   "cell_type": "code",
   "execution_count": 33,
   "id": "dec84cc9",
   "metadata": {
    "execution": {
     "iopub.execute_input": "2022-08-31T03:29:17.433515Z",
     "iopub.status.busy": "2022-08-31T03:29:17.432782Z",
     "iopub.status.idle": "2022-08-31T03:29:17.438457Z",
     "shell.execute_reply": "2022-08-31T03:29:17.437493Z"
    },
    "papermill": {
     "duration": 0.032753,
     "end_time": "2022-08-31T03:29:17.440661",
     "exception": false,
     "start_time": "2022-08-31T03:29:17.407908",
     "status": "completed"
    },
    "tags": []
   },
   "outputs": [],
   "source": [
    "common_potential_stopwords = list(reduce(set.intersection, map(set, [top50_potential_stopwords_a.Word, top50_potential_stopwords_b.Word, top50_potential_stopwords_c.Word, top50_potential_stopwords_d.Word])))"
   ]
  },
  {
   "cell_type": "code",
   "execution_count": 34,
   "id": "ee29d966",
   "metadata": {
    "execution": {
     "iopub.execute_input": "2022-08-31T03:29:17.490433Z",
     "iopub.status.busy": "2022-08-31T03:29:17.489798Z",
     "iopub.status.idle": "2022-08-31T03:29:17.495902Z",
     "shell.execute_reply": "2022-08-31T03:29:17.494474Z"
    },
    "papermill": {
     "duration": 0.033964,
     "end_time": "2022-08-31T03:29:17.498470",
     "exception": false,
     "start_time": "2022-08-31T03:29:17.464506",
     "status": "completed"
    },
    "tags": []
   },
   "outputs": [
    {
     "name": "stdout",
     "output_type": "stream",
     "text": [
      "['link', 'want', 'need', 'thank', 'deletion', 'change', 'block', 'new', 'work', 'know', 'comment', 'good', 'like', 'look', 'wikipedia', 'image', 'help', 'talk', 'delete', 'thing', 'time', 'user', 'find', 'think', 'fuck', 'point', 'editor', 'people', 'source', 'article', 'mean', 'page', 'question', 'reference', 'fact', 'edit', 'section', 'information', 'use', 'doe', 'try', 'list', 'add', 'way', 'don', 'read', 'remove', 'write']\n"
     ]
    }
   ],
   "source": [
    "print(common_potential_stopwords)"
   ]
  },
  {
   "cell_type": "markdown",
   "id": "74e2aa18",
   "metadata": {
    "papermill": {
     "duration": 0.023781,
     "end_time": "2022-08-31T03:29:17.546832",
     "exception": false,
     "start_time": "2022-08-31T03:29:17.523051",
     "status": "completed"
    },
    "tags": []
   },
   "source": [
    "**Retaining certain words and removing others from the above list**"
   ]
  },
  {
   "cell_type": "code",
   "execution_count": 35,
   "id": "a9e53934",
   "metadata": {
    "execution": {
     "iopub.execute_input": "2022-08-31T03:29:17.596413Z",
     "iopub.status.busy": "2022-08-31T03:29:17.595600Z",
     "iopub.status.idle": "2022-08-31T03:29:17.611422Z",
     "shell.execute_reply": "2022-08-31T03:29:17.610550Z"
    },
    "papermill": {
     "duration": 0.042388,
     "end_time": "2022-08-31T03:29:17.613343",
     "exception": false,
     "start_time": "2022-08-31T03:29:17.570955",
     "status": "completed"
    },
    "tags": []
   },
   "outputs": [],
   "source": [
    "potential_stopwords=['editor', 'reference', 'thank', 'work','find', 'good', 'know', 'like', 'look', 'thing', 'want', 'time', 'list', 'section','wikipedia', 'doe', 'add','new', 'try', 'think', 'write','use', 'user', 'way', 'page']"
   ]
  },
  {
   "cell_type": "markdown",
   "id": "a105ea94",
   "metadata": {
    "papermill": {
     "duration": 0.023853,
     "end_time": "2022-08-31T03:29:17.661074",
     "exception": false,
     "start_time": "2022-08-31T03:29:17.637221",
     "status": "completed"
    },
    "tags": []
   },
   "source": [
    "**Adding above retrived words into the stopwords list**"
   ]
  },
  {
   "cell_type": "code",
   "execution_count": 36,
   "id": "cf8a1f16",
   "metadata": {
    "execution": {
     "iopub.execute_input": "2022-08-31T03:29:17.711464Z",
     "iopub.status.busy": "2022-08-31T03:29:17.710650Z",
     "iopub.status.idle": "2022-08-31T03:29:17.715587Z",
     "shell.execute_reply": "2022-08-31T03:29:17.714766Z"
    },
    "papermill": {
     "duration": 0.031758,
     "end_time": "2022-08-31T03:29:17.717493",
     "exception": false,
     "start_time": "2022-08-31T03:29:17.685735",
     "status": "completed"
    },
    "tags": []
   },
   "outputs": [],
   "source": [
    "for word in potential_stopwords:\n",
    "    stopword_list.add(word)"
   ]
  },
  {
   "cell_type": "markdown",
   "id": "c939de25",
   "metadata": {
    "papermill": {
     "duration": 0.023896,
     "end_time": "2022-08-31T03:29:17.765448",
     "exception": false,
     "start_time": "2022-08-31T03:29:17.741552",
     "status": "completed"
    },
    "tags": []
   },
   "source": [
    "**Removing Stopwords from Training Data**"
   ]
  },
  {
   "cell_type": "code",
   "execution_count": 37,
   "id": "34eb9579",
   "metadata": {
    "execution": {
     "iopub.execute_input": "2022-08-31T03:29:17.816754Z",
     "iopub.status.busy": "2022-08-31T03:29:17.815056Z",
     "iopub.status.idle": "2022-08-31T03:29:17.821245Z",
     "shell.execute_reply": "2022-08-31T03:29:17.820365Z"
    },
    "papermill": {
     "duration": 0.033543,
     "end_time": "2022-08-31T03:29:17.823227",
     "exception": false,
     "start_time": "2022-08-31T03:29:17.789684",
     "status": "completed"
    },
    "tags": []
   },
   "outputs": [],
   "source": [
    "def remove_stopwords(text, remove_stop=True):\n",
    "    output = \"\"\n",
    "    if remove_stop:\n",
    "        text = text.split(\" \")\n",
    "        for word in text:\n",
    "            if word not in stopword_list:\n",
    "                output = output + \" \" + word\n",
    "    else:\n",
    "        output = text\n",
    "\n",
    "    return str(output.strip())"
   ]
  },
  {
   "cell_type": "code",
   "execution_count": 38,
   "id": "110a2eff",
   "metadata": {
    "execution": {
     "iopub.execute_input": "2022-08-31T03:29:17.873959Z",
     "iopub.status.busy": "2022-08-31T03:29:17.873620Z",
     "iopub.status.idle": "2022-08-31T03:29:20.364203Z",
     "shell.execute_reply": "2022-08-31T03:29:20.363234Z"
    },
    "papermill": {
     "duration": 2.518836,
     "end_time": "2022-08-31T03:29:20.366639",
     "exception": false,
     "start_time": "2022-08-31T03:29:17.847803",
     "status": "completed"
    },
    "tags": []
   },
   "outputs": [
    {
     "data": {
      "application/vnd.jupyter.widget-view+json": {
       "model_id": "fabc548c2b624fc99415ae29cf06076d",
       "version_major": 2,
       "version_minor": 0
      },
      "text/plain": [
       "  0%|          | 0/159571 [00:00<?, ?it/s]"
      ]
     },
     "metadata": {},
     "output_type": "display_data"
    }
   ],
   "source": [
    "processed_train_data = []\n",
    "\n",
    "for line in tqdm_notebook(lemmatized_train_data, total=159571):\n",
    "    processed_train_data.append(remove_stopwords(line))"
   ]
  },
  {
   "cell_type": "code",
   "execution_count": 39,
   "id": "bb96f295",
   "metadata": {
    "execution": {
     "iopub.execute_input": "2022-08-31T03:29:20.419918Z",
     "iopub.status.busy": "2022-08-31T03:29:20.419586Z",
     "iopub.status.idle": "2022-08-31T03:29:20.425946Z",
     "shell.execute_reply": "2022-08-31T03:29:20.424886Z"
    },
    "papermill": {
     "duration": 0.03609,
     "end_time": "2022-08-31T03:29:20.428762",
     "exception": false,
     "start_time": "2022-08-31T03:29:20.392672",
     "status": "completed"
    },
    "tags": []
   },
   "outputs": [
    {
     "data": {
      "text/plain": [
       "'agree graemel intention revert nazi protect report revert rule notice board post report revert nazi graemel revert nazi unacceptable site admins feel unjustly revert hour period report revert noticeboard'"
      ]
     },
     "execution_count": 39,
     "metadata": {},
     "output_type": "execute_result"
    }
   ],
   "source": [
    "processed_train_data[152458]"
   ]
  },
  {
   "cell_type": "markdown",
   "id": "159c6ea3",
   "metadata": {
    "papermill": {
     "duration": 0.024194,
     "end_time": "2022-08-31T03:29:20.477860",
     "exception": false,
     "start_time": "2022-08-31T03:29:20.453666",
     "status": "completed"
    },
    "tags": []
   },
   "source": [
    "**Removing Stopwords from Test Data**"
   ]
  },
  {
   "cell_type": "code",
   "execution_count": 40,
   "id": "bb0b7c65",
   "metadata": {
    "execution": {
     "iopub.execute_input": "2022-08-31T03:29:20.528680Z",
     "iopub.status.busy": "2022-08-31T03:29:20.528400Z",
     "iopub.status.idle": "2022-08-31T03:29:22.704420Z",
     "shell.execute_reply": "2022-08-31T03:29:22.703352Z"
    },
    "papermill": {
     "duration": 2.206077,
     "end_time": "2022-08-31T03:29:22.708856",
     "exception": false,
     "start_time": "2022-08-31T03:29:20.502779",
     "status": "completed"
    },
    "tags": []
   },
   "outputs": [
    {
     "data": {
      "application/vnd.jupyter.widget-view+json": {
       "model_id": "a0943a8ac8d8482ca355d6607b49c3d9",
       "version_major": 2,
       "version_minor": 0
      },
      "text/plain": [
       "  0%|          | 0/153164 [00:00<?, ?it/s]"
      ]
     },
     "metadata": {},
     "output_type": "display_data"
    }
   ],
   "source": [
    "processed_test_data = []\n",
    "\n",
    "for line in tqdm_notebook(lemmatized_test_data, total=153164):\n",
    "    processed_test_data.append(remove_stopwords(line))"
   ]
  },
  {
   "cell_type": "markdown",
   "id": "fd25e4b9",
   "metadata": {
    "papermill": {
     "duration": 0.024589,
     "end_time": "2022-08-31T03:29:22.759036",
     "exception": false,
     "start_time": "2022-08-31T03:29:22.734447",
     "status": "completed"
    },
    "tags": []
   },
   "source": [
    "# Model Building"
   ]
  },
  {
   "cell_type": "code",
   "execution_count": 41,
   "id": "3790f8dd",
   "metadata": {
    "execution": {
     "iopub.execute_input": "2022-08-31T03:29:22.810090Z",
     "iopub.status.busy": "2022-08-31T03:29:22.809733Z",
     "iopub.status.idle": "2022-08-31T03:29:22.814656Z",
     "shell.execute_reply": "2022-08-31T03:29:22.813693Z"
    },
    "papermill": {
     "duration": 0.03323,
     "end_time": "2022-08-31T03:29:22.816702",
     "exception": false,
     "start_time": "2022-08-31T03:29:22.783472",
     "status": "completed"
    },
    "tags": []
   },
   "outputs": [],
   "source": [
    "max_features = 100000\n",
    "maxpadlen = 200\n",
    "val_split = 0.2\n",
    "embedding_dim_fasttext = 300"
   ]
  },
  {
   "cell_type": "markdown",
   "id": "7ec20c95",
   "metadata": {
    "papermill": {
     "duration": 0.02472,
     "end_time": "2022-08-31T03:29:22.866730",
     "exception": false,
     "start_time": "2022-08-31T03:29:22.842010",
     "status": "completed"
    },
    "tags": []
   },
   "source": [
    "**Tokenization**"
   ]
  },
  {
   "cell_type": "code",
   "execution_count": 42,
   "id": "c808b732",
   "metadata": {
    "execution": {
     "iopub.execute_input": "2022-08-31T03:29:22.916963Z",
     "iopub.status.busy": "2022-08-31T03:29:22.916634Z",
     "iopub.status.idle": "2022-08-31T03:29:34.956417Z",
     "shell.execute_reply": "2022-08-31T03:29:34.955180Z"
    },
    "papermill": {
     "duration": 12.068214,
     "end_time": "2022-08-31T03:29:34.959633",
     "exception": false,
     "start_time": "2022-08-31T03:29:22.891419",
     "status": "completed"
    },
    "tags": []
   },
   "outputs": [],
   "source": [
    "tokenizer = Tokenizer(num_words=max_features)\n",
    "tokenizer.fit_on_texts(list(processed_train_data))\n",
    "list_tokenized_train = tokenizer.texts_to_sequences(processed_train_data)\n",
    "list_tokenized_test = tokenizer.texts_to_sequences(processed_test_data)"
   ]
  },
  {
   "cell_type": "code",
   "execution_count": 43,
   "id": "82667b60",
   "metadata": {
    "execution": {
     "iopub.execute_input": "2022-08-31T03:29:35.012723Z",
     "iopub.status.busy": "2022-08-31T03:29:35.012405Z",
     "iopub.status.idle": "2022-08-31T03:29:35.017451Z",
     "shell.execute_reply": "2022-08-31T03:29:35.016516Z"
    },
    "papermill": {
     "duration": 0.034361,
     "end_time": "2022-08-31T03:29:35.019838",
     "exception": false,
     "start_time": "2022-08-31T03:29:34.985477",
     "status": "completed"
    },
    "tags": []
   },
   "outputs": [
    {
     "name": "stdout",
     "output_type": "stream",
     "text": [
      "Words in Vocabulary:  148917\n"
     ]
    }
   ],
   "source": [
    "word_index = tokenizer.word_index\n",
    "print(\"Words in Vocabulary: \", len(word_index))"
   ]
  },
  {
   "cell_type": "markdown",
   "id": "67607ae7",
   "metadata": {
    "papermill": {
     "duration": 0.024346,
     "end_time": "2022-08-31T03:29:35.068895",
     "exception": false,
     "start_time": "2022-08-31T03:29:35.044549",
     "status": "completed"
    },
    "tags": []
   },
   "source": [
    "**Padding**"
   ]
  },
  {
   "cell_type": "code",
   "execution_count": 44,
   "id": "9646b9ee",
   "metadata": {
    "execution": {
     "iopub.execute_input": "2022-08-31T03:29:35.119831Z",
     "iopub.status.busy": "2022-08-31T03:29:35.119554Z",
     "iopub.status.idle": "2022-08-31T03:29:36.265025Z",
     "shell.execute_reply": "2022-08-31T03:29:36.264003Z"
    },
    "papermill": {
     "duration": 1.173565,
     "end_time": "2022-08-31T03:29:36.267443",
     "exception": false,
     "start_time": "2022-08-31T03:29:35.093878",
     "status": "completed"
    },
    "tags": []
   },
   "outputs": [],
   "source": [
    "X_t = pad_sequences(list_tokenized_train, maxlen=maxpadlen, padding='post')\n",
    "X_te = pad_sequences(list_tokenized_test, maxlen=maxpadlen, padding='post')"
   ]
  },
  {
   "cell_type": "code",
   "execution_count": 45,
   "id": "d59d1d7b",
   "metadata": {
    "execution": {
     "iopub.execute_input": "2022-08-31T03:29:36.319911Z",
     "iopub.status.busy": "2022-08-31T03:29:36.319574Z",
     "iopub.status.idle": "2022-08-31T03:29:36.325666Z",
     "shell.execute_reply": "2022-08-31T03:29:36.324702Z"
    },
    "papermill": {
     "duration": 0.036006,
     "end_time": "2022-08-31T03:29:36.328629",
     "exception": false,
     "start_time": "2022-08-31T03:29:36.292623",
     "status": "completed"
    },
    "tags": []
   },
   "outputs": [
    {
     "name": "stdout",
     "output_type": "stream",
     "text": [
      "Tokenized sentences: \n",
      " [  116   578    11 32199   239   192    11 32199   239    90    11   579\n",
      "    11   116   366   578     1  1082   116   338  5356   116   119    11\n",
      "   387   269   366   578    11     1  1341   116    11   387     2    32\n",
      "   116   578   192   116   172    46    84   579   116   578    11     2\n",
      "   488   105    10  1087   403  1073    11  2401   489    36   116    11\n",
      "   192   407   366     9   255   192   242   150   109    18    19    29\n",
      "   172    77    19     3   257  4540     4    11 32199   239   192    11\n",
      " 32199   239    90   171   387   312    68   579    34    44    77   423\n",
      "  1550    34   171     8   579  1268    77  1638   134    10   134  4671\n",
      "   134    94    44   565  1255    17    77  1338   118   134  1577    77\n",
      "  1134     4   507    77   434    31   171    68    34   168  2207   449\n",
      "    31   315  1529    70   172   236   150   116    31    31    11    77\n",
      "    31   116    11    77    31    77    31   192   171    46    84   579\n",
      "     4    31   171   192    80    10   862  3126    11     9   255    31\n",
      "   242   150   109    18    11    77   124    67   434   116    11     9\n",
      "   357    19    29   172    77    19     3   257     0     0     0     0\n",
      "     0     0     0     0     0     0     0     0]\n",
      "One hot label: \n",
      " [0 0 0 0 0 0]\n"
     ]
    }
   ],
   "source": [
    "print('Tokenized sentences: \\n', X_t[10])\n",
    "print('One hot label: \\n', y[10])"
   ]
  },
  {
   "cell_type": "code",
   "execution_count": 46,
   "id": "4d1efcc9",
   "metadata": {
    "execution": {
     "iopub.execute_input": "2022-08-31T03:29:36.380542Z",
     "iopub.status.busy": "2022-08-31T03:29:36.379718Z",
     "iopub.status.idle": "2022-08-31T03:29:36.388592Z",
     "shell.execute_reply": "2022-08-31T03:29:36.387716Z"
    },
    "papermill": {
     "duration": 0.036789,
     "end_time": "2022-08-31T03:29:36.390615",
     "exception": false,
     "start_time": "2022-08-31T03:29:36.353826",
     "status": "completed"
    },
    "tags": []
   },
   "outputs": [],
   "source": [
    "indices = np.arange(X_t.shape[0])\n",
    "np.random.shuffle(indices)"
   ]
  },
  {
   "cell_type": "code",
   "execution_count": 47,
   "id": "269eb72e",
   "metadata": {
    "execution": {
     "iopub.execute_input": "2022-08-31T03:29:36.442310Z",
     "iopub.status.busy": "2022-08-31T03:29:36.441485Z",
     "iopub.status.idle": "2022-08-31T03:29:36.509609Z",
     "shell.execute_reply": "2022-08-31T03:29:36.508565Z"
    },
    "papermill": {
     "duration": 0.09695,
     "end_time": "2022-08-31T03:29:36.512176",
     "exception": false,
     "start_time": "2022-08-31T03:29:36.415226",
     "status": "completed"
    },
    "tags": []
   },
   "outputs": [],
   "source": [
    "X_t = X_t[indices]\n",
    "labels = y[indices]"
   ]
  },
  {
   "cell_type": "markdown",
   "id": "4025a482",
   "metadata": {
    "papermill": {
     "duration": 0.025257,
     "end_time": "2022-08-31T03:29:36.562810",
     "exception": false,
     "start_time": "2022-08-31T03:29:36.537553",
     "status": "completed"
    },
    "tags": []
   },
   "source": [
    "# Splitting data into Training and Validation Set"
   ]
  },
  {
   "cell_type": "code",
   "execution_count": 48,
   "id": "dae8127c",
   "metadata": {
    "execution": {
     "iopub.execute_input": "2022-08-31T03:29:36.667676Z",
     "iopub.status.busy": "2022-08-31T03:29:36.666723Z",
     "iopub.status.idle": "2022-08-31T03:29:36.672593Z",
     "shell.execute_reply": "2022-08-31T03:29:36.671623Z"
    },
    "papermill": {
     "duration": 0.086658,
     "end_time": "2022-08-31T03:29:36.674545",
     "exception": false,
     "start_time": "2022-08-31T03:29:36.587887",
     "status": "completed"
    },
    "tags": []
   },
   "outputs": [],
   "source": [
    "num_validation_samples = int(val_split * X_t.shape[0])\n",
    "x_train = X_t[: -num_validation_samples]\n",
    "y_train = labels[: -num_validation_samples]\n",
    "x_val = X_t[-num_validation_samples:]\n",
    "y_val = labels[-num_validation_samples:]"
   ]
  },
  {
   "cell_type": "code",
   "execution_count": 49,
   "id": "28688e3c",
   "metadata": {
    "execution": {
     "iopub.execute_input": "2022-08-31T03:29:36.726577Z",
     "iopub.status.busy": "2022-08-31T03:29:36.725756Z",
     "iopub.status.idle": "2022-08-31T03:29:36.735881Z",
     "shell.execute_reply": "2022-08-31T03:29:36.734261Z"
    },
    "papermill": {
     "duration": 0.038495,
     "end_time": "2022-08-31T03:29:36.738578",
     "exception": false,
     "start_time": "2022-08-31T03:29:36.700083",
     "status": "completed"
    },
    "tags": []
   },
   "outputs": [
    {
     "name": "stdout",
     "output_type": "stream",
     "text": [
      "Number of entries in each category:\n",
      "training:  [12293  1296  6771   374  6356  1142]\n",
      "validation:  [3001  299 1678  104 1521  263]\n"
     ]
    }
   ],
   "source": [
    "print('Number of entries in each category:')\n",
    "print('training: ', y_train.sum(axis=0))\n",
    "print('validation: ', y_val.sum(axis=0))"
   ]
  },
  {
   "cell_type": "markdown",
   "id": "44142660",
   "metadata": {
    "papermill": {
     "duration": 0.024425,
     "end_time": "2022-08-31T03:29:36.788466",
     "exception": false,
     "start_time": "2022-08-31T03:29:36.764041",
     "status": "completed"
    },
    "tags": []
   },
   "source": [
    "# Importing Fast Text"
   ]
  },
  {
   "cell_type": "code",
   "execution_count": 50,
   "id": "3aa92fdf",
   "metadata": {
    "execution": {
     "iopub.execute_input": "2022-08-31T03:29:36.840159Z",
     "iopub.status.busy": "2022-08-31T03:29:36.839861Z",
     "iopub.status.idle": "2022-08-31T03:30:37.867446Z",
     "shell.execute_reply": "2022-08-31T03:30:37.866328Z"
    },
    "papermill": {
     "duration": 61.056388,
     "end_time": "2022-08-31T03:30:37.869916",
     "exception": false,
     "start_time": "2022-08-31T03:29:36.813528",
     "status": "completed"
    },
    "tags": []
   },
   "outputs": [],
   "source": [
    "embeddings_index_fasttext = {}\n",
    "f = open('../input/dataset/wiki-news-300d-1M.vec', encoding='utf8')\n",
    "for line in f:\n",
    "    values = line.split()\n",
    "    word = values[0]\n",
    "    embeddings_index_fasttext[word] = np.asarray(values[1:], dtype='float32')\n",
    "f.close()"
   ]
  },
  {
   "cell_type": "code",
   "execution_count": 51,
   "id": "825ad2bb",
   "metadata": {
    "execution": {
     "iopub.execute_input": "2022-08-31T03:30:37.921457Z",
     "iopub.status.busy": "2022-08-31T03:30:37.921149Z",
     "iopub.status.idle": "2022-08-31T03:30:38.479733Z",
     "shell.execute_reply": "2022-08-31T03:30:38.478734Z"
    },
    "papermill": {
     "duration": 0.586868,
     "end_time": "2022-08-31T03:30:38.482378",
     "exception": false,
     "start_time": "2022-08-31T03:30:37.895510",
     "status": "completed"
    },
    "tags": []
   },
   "outputs": [],
   "source": [
    "embedding_matrix_fasttext = np.random.random(\n",
    "    (len(word_index) + 1, embedding_dim_fasttext))\n",
    "for word, i in word_index.items():\n",
    "    embedding_vector = embeddings_index_fasttext.get(word)\n",
    "    if embedding_vector is not None:\n",
    "        embedding_matrix_fasttext[i] = embedding_vector"
   ]
  },
  {
   "cell_type": "markdown",
   "id": "484774e2",
   "metadata": {
    "papermill": {
     "duration": 0.024616,
     "end_time": "2022-08-31T03:30:38.532846",
     "exception": false,
     "start_time": "2022-08-31T03:30:38.508230",
     "status": "completed"
    },
    "tags": []
   },
   "source": [
    "# Creating Model"
   ]
  },
  {
   "cell_type": "markdown",
   "id": "c924cede",
   "metadata": {
    "papermill": {
     "duration": 0.024477,
     "end_time": "2022-08-31T03:30:38.582533",
     "exception": false,
     "start_time": "2022-08-31T03:30:38.558056",
     "status": "completed"
    },
    "tags": []
   },
   "source": [
    "**Talos Grid Search for LSTM Model**"
   ]
  },
  {
   "cell_type": "code",
   "execution_count": 52,
   "id": "4a411e21",
   "metadata": {
    "execution": {
     "iopub.execute_input": "2022-08-31T03:30:38.633195Z",
     "iopub.status.busy": "2022-08-31T03:30:38.632299Z",
     "iopub.status.idle": "2022-08-31T03:30:38.644835Z",
     "shell.execute_reply": "2022-08-31T03:30:38.643980Z"
    },
    "papermill": {
     "duration": 0.039875,
     "end_time": "2022-08-31T03:30:38.646742",
     "exception": false,
     "start_time": "2022-08-31T03:30:38.606867",
     "status": "completed"
    },
    "tags": []
   },
   "outputs": [],
   "source": [
    "def toxic_classifier(x_train, y_train, x_val, y_val, params):\n",
    "    inp = Input(shape=(maxpadlen, ), dtype='int32')\n",
    "    embedding_layer = Embedding(len(word_index) + 1, embedding_dim_fasttext, weights=[embedding_matrix_fasttext], input_length=maxpadlen, trainable=False, name='embeddings')\n",
    "    embedded_sequences = embedding_layer(inp)\n",
    "\n",
    "    x = LSTM(params['output_count_lstm'], return_sequences=True, name='lstm_layer')(embedded_sequences)\n",
    "    x = GlobalMaxPool1D()(x)\n",
    "    x = Dropout(params['dropout'])(x)\n",
    "    x = Dense(params['output_count_dense'], activation=params['activation'], kernel_initializer='he_uniform')(x)\n",
    "    x = Dropout(params['dropout'])(x)\n",
    "\n",
    "    preds = Dense(6, activation=params['last_activation'], kernel_initializer='glorot_uniform')(x)\n",
    "    model = Model(inputs=inp, outputs=preds)\n",
    "\n",
    "    model.compile(loss=params['loss'], optimizer=params['optimizer'], metrics=['accuracy'])\n",
    "    model_info = model.fit(x_train, y_train, epochs=params['epochs'], batch_size=params['batch_size'], validation_data=(x_val, y_val))\n",
    "    \n",
    "    return model_info, model"
   ]
  },
  {
   "cell_type": "code",
   "execution_count": 53,
   "id": "e03dc671",
   "metadata": {
    "execution": {
     "iopub.execute_input": "2022-08-31T03:30:38.697392Z",
     "iopub.status.busy": "2022-08-31T03:30:38.696489Z",
     "iopub.status.idle": "2022-08-31T03:30:38.701956Z",
     "shell.execute_reply": "2022-08-31T03:30:38.701077Z"
    },
    "papermill": {
     "duration": 0.03263,
     "end_time": "2022-08-31T03:30:38.703923",
     "exception": false,
     "start_time": "2022-08-31T03:30:38.671293",
     "status": "completed"
    },
    "tags": []
   },
   "outputs": [],
   "source": [
    "p = {\n",
    "    'output_count_lstm': [40, 50, 60],\n",
    "    'output_count_dense': [30, 40, 50],\n",
    "    'batch_size': [32],\n",
    "    'epochs': [2],\n",
    "    'optimizer': ['adam'],\n",
    "    'activation': ['relu'],\n",
    "    'last_activation': ['sigmoid'],\n",
    "    'dropout': [0.1, 0.2],\n",
    "    'loss': ['binary_crossentropy']\n",
    "}"
   ]
  },
  {
   "cell_type": "code",
   "execution_count": 54,
   "id": "1ba4726d",
   "metadata": {
    "collapsed": true,
    "execution": {
     "iopub.execute_input": "2022-08-31T03:30:38.754662Z",
     "iopub.status.busy": "2022-08-31T03:30:38.754391Z",
     "iopub.status.idle": "2022-08-31T04:07:34.738118Z",
     "shell.execute_reply": "2022-08-31T04:07:34.736914Z"
    },
    "jupyter": {
     "outputs_hidden": true
    },
    "papermill": {
     "duration": 2216.011094,
     "end_time": "2022-08-31T04:07:34.740296",
     "exception": false,
     "start_time": "2022-08-31T03:30:38.729202",
     "status": "completed"
    },
    "tags": []
   },
   "outputs": [
    {
     "name": "stderr",
     "output_type": "stream",
     "text": [
      "  0%|          | 0/18 [00:00<?, ?it/s]"
     ]
    },
    {
     "name": "stdout",
     "output_type": "stream",
     "text": [
      "{'output_count_lstm': 40, 'output_count_dense': 30, 'batch_size': 32, 'epochs': 2, 'optimizer': 'adam', 'activation': 'relu', 'last_activation': 'sigmoid', 'dropout': 0.1, 'loss': 'binary_crossentropy'}\n"
     ]
    },
    {
     "name": "stderr",
     "output_type": "stream",
     "text": [
      "2022-08-31 03:30:38.803203: I tensorflow/stream_executor/cuda/cuda_gpu_executor.cc:937] successful NUMA node read from SysFS had negative value (-1), but there must be at least one NUMA node, so returning NUMA node zero\n",
      "2022-08-31 03:30:38.804371: I tensorflow/stream_executor/cuda/cuda_gpu_executor.cc:937] successful NUMA node read from SysFS had negative value (-1), but there must be at least one NUMA node, so returning NUMA node zero\n",
      "2022-08-31 03:30:38.805038: I tensorflow/stream_executor/cuda/cuda_gpu_executor.cc:937] successful NUMA node read from SysFS had negative value (-1), but there must be at least one NUMA node, so returning NUMA node zero\n",
      "2022-08-31 03:30:38.805825: I tensorflow/core/platform/cpu_feature_guard.cc:142] This TensorFlow binary is optimized with oneAPI Deep Neural Network Library (oneDNN) to use the following CPU instructions in performance-critical operations:  AVX2 AVX512F FMA\n",
      "To enable them in other operations, rebuild TensorFlow with the appropriate compiler flags.\n",
      "2022-08-31 03:30:38.806108: I tensorflow/stream_executor/cuda/cuda_gpu_executor.cc:937] successful NUMA node read from SysFS had negative value (-1), but there must be at least one NUMA node, so returning NUMA node zero\n",
      "2022-08-31 03:30:38.806889: I tensorflow/stream_executor/cuda/cuda_gpu_executor.cc:937] successful NUMA node read from SysFS had negative value (-1), but there must be at least one NUMA node, so returning NUMA node zero\n",
      "2022-08-31 03:30:38.807596: I tensorflow/stream_executor/cuda/cuda_gpu_executor.cc:937] successful NUMA node read from SysFS had negative value (-1), but there must be at least one NUMA node, so returning NUMA node zero\n",
      "2022-08-31 03:30:46.926100: I tensorflow/stream_executor/cuda/cuda_gpu_executor.cc:937] successful NUMA node read from SysFS had negative value (-1), but there must be at least one NUMA node, so returning NUMA node zero\n",
      "2022-08-31 03:30:46.926922: I tensorflow/stream_executor/cuda/cuda_gpu_executor.cc:937] successful NUMA node read from SysFS had negative value (-1), but there must be at least one NUMA node, so returning NUMA node zero\n",
      "2022-08-31 03:30:46.927651: I tensorflow/stream_executor/cuda/cuda_gpu_executor.cc:937] successful NUMA node read from SysFS had negative value (-1), but there must be at least one NUMA node, so returning NUMA node zero\n",
      "2022-08-31 03:30:46.928247: I tensorflow/core/common_runtime/gpu/gpu_device.cc:1510] Created device /job:localhost/replica:0/task:0/device:GPU:0 with 14651 MB memory:  -> device: 0, name: Tesla P100-PCIE-16GB, pci bus id: 0000:00:04.0, compute capability: 6.0\n",
      "2022-08-31 03:30:47.499902: W tensorflow/core/framework/cpu_allocator_impl.cc:80] Allocation of 178701600 exceeds 10% of free system memory.\n",
      "2022-08-31 03:30:47.995732: W tensorflow/core/framework/cpu_allocator_impl.cc:80] Allocation of 102125600 exceeds 10% of free system memory.\n",
      "2022-08-31 03:30:48.134841: I tensorflow/compiler/mlir/mlir_graph_optimization_pass.cc:185] None of the MLIR Optimization Passes are enabled (registered 2)\n"
     ]
    },
    {
     "name": "stdout",
     "output_type": "stream",
     "text": [
      "Epoch 1/2\n"
     ]
    },
    {
     "name": "stderr",
     "output_type": "stream",
     "text": [
      "2022-08-31 03:30:50.490552: I tensorflow/stream_executor/cuda/cuda_dnn.cc:369] Loaded cuDNN version 8005\n"
     ]
    },
    {
     "name": "stdout",
     "output_type": "stream",
     "text": [
      "3990/3990 [==============================] - 46s 11ms/step - loss: 0.0696 - accuracy: 0.9025 - val_loss: 0.0504 - val_accuracy: 0.9935\n",
      "Epoch 2/2\n",
      "3990/3990 [==============================] - 42s 10ms/step - loss: 0.0498 - accuracy: 0.9841 - val_loss: 0.0481 - val_accuracy: 0.9934\n"
     ]
    },
    {
     "name": "stderr",
     "output_type": "stream",
     "text": [
      "2022-08-31 03:33:11.521359: W tensorflow/core/framework/cpu_allocator_impl.cc:80] Allocation of 178701600 exceeds 10% of free system memory.\n",
      "  6%|▌         | 1/18 [02:33<43:33, 153.71s/it]"
     ]
    },
    {
     "name": "stdout",
     "output_type": "stream",
     "text": [
      "{'output_count_lstm': 40, 'output_count_dense': 30, 'batch_size': 32, 'epochs': 2, 'optimizer': 'adam', 'activation': 'relu', 'last_activation': 'sigmoid', 'dropout': 0.2, 'loss': 'binary_crossentropy'}\n"
     ]
    },
    {
     "name": "stderr",
     "output_type": "stream",
     "text": [
      "2022-08-31 03:33:12.693372: W tensorflow/core/framework/cpu_allocator_impl.cc:80] Allocation of 178701600 exceeds 10% of free system memory.\n",
      "2022-08-31 03:33:13.276627: W tensorflow/core/framework/cpu_allocator_impl.cc:80] Allocation of 102125600 exceeds 10% of free system memory.\n"
     ]
    },
    {
     "name": "stdout",
     "output_type": "stream",
     "text": [
      "Epoch 1/2\n",
      "3990/3990 [==============================] - 43s 10ms/step - loss: 0.0688 - accuracy: 0.9018 - val_loss: 0.0508 - val_accuracy: 0.9936\n",
      "Epoch 2/2\n",
      "3990/3990 [==============================] - 41s 10ms/step - loss: 0.0523 - accuracy: 0.9905 - val_loss: 0.0487 - val_accuracy: 0.9936\n"
     ]
    },
    {
     "name": "stderr",
     "output_type": "stream",
     "text": [
      " 11%|█         | 2/18 [04:58<39:38, 148.65s/it]"
     ]
    },
    {
     "name": "stdout",
     "output_type": "stream",
     "text": [
      "{'output_count_lstm': 40, 'output_count_dense': 40, 'batch_size': 32, 'epochs': 2, 'optimizer': 'adam', 'activation': 'relu', 'last_activation': 'sigmoid', 'dropout': 0.1, 'loss': 'binary_crossentropy'}\n",
      "Epoch 1/2\n",
      "3990/3990 [==============================] - 43s 11ms/step - loss: 0.0626 - accuracy: 0.9619 - val_loss: 0.0491 - val_accuracy: 0.9935\n",
      "Epoch 2/2\n",
      "3990/3990 [==============================] - 42s 10ms/step - loss: 0.0494 - accuracy: 0.9897 - val_loss: 0.0502 - val_accuracy: 0.9933\n"
     ]
    },
    {
     "name": "stderr",
     "output_type": "stream",
     "text": [
      " 17%|█▋        | 3/18 [07:23<36:43, 146.87s/it]"
     ]
    },
    {
     "name": "stdout",
     "output_type": "stream",
     "text": [
      "{'output_count_lstm': 40, 'output_count_dense': 40, 'batch_size': 32, 'epochs': 2, 'optimizer': 'adam', 'activation': 'relu', 'last_activation': 'sigmoid', 'dropout': 0.2, 'loss': 'binary_crossentropy'}\n",
      "Epoch 1/2\n",
      "3990/3990 [==============================] - 44s 11ms/step - loss: 0.0675 - accuracy: 0.9236 - val_loss: 0.0508 - val_accuracy: 0.9936\n",
      "Epoch 2/2\n",
      "3990/3990 [==============================] - 42s 10ms/step - loss: 0.0518 - accuracy: 0.9938 - val_loss: 0.0500 - val_accuracy: 0.9936\n"
     ]
    },
    {
     "name": "stderr",
     "output_type": "stream",
     "text": [
      " 22%|██▏       | 4/18 [09:48<34:06, 146.21s/it]"
     ]
    },
    {
     "name": "stdout",
     "output_type": "stream",
     "text": [
      "{'output_count_lstm': 40, 'output_count_dense': 50, 'batch_size': 32, 'epochs': 2, 'optimizer': 'adam', 'activation': 'relu', 'last_activation': 'sigmoid', 'dropout': 0.1, 'loss': 'binary_crossentropy'}\n",
      "Epoch 1/2\n",
      "3990/3990 [==============================] - 43s 11ms/step - loss: 0.0629 - accuracy: 0.9325 - val_loss: 0.0501 - val_accuracy: 0.9936\n",
      "Epoch 2/2\n",
      "3990/3990 [==============================] - 41s 10ms/step - loss: 0.0495 - accuracy: 0.9787 - val_loss: 0.0482 - val_accuracy: 0.9932\n"
     ]
    },
    {
     "name": "stderr",
     "output_type": "stream",
     "text": [
      " 28%|██▊       | 5/18 [12:13<31:35, 145.81s/it]"
     ]
    },
    {
     "name": "stdout",
     "output_type": "stream",
     "text": [
      "{'output_count_lstm': 40, 'output_count_dense': 50, 'batch_size': 32, 'epochs': 2, 'optimizer': 'adam', 'activation': 'relu', 'last_activation': 'sigmoid', 'dropout': 0.2, 'loss': 'binary_crossentropy'}\n",
      "Epoch 1/2\n",
      "3990/3990 [==============================] - 43s 11ms/step - loss: 0.0662 - accuracy: 0.9317 - val_loss: 0.0495 - val_accuracy: 0.9935\n",
      "Epoch 2/2\n",
      "3990/3990 [==============================] - 42s 10ms/step - loss: 0.0505 - accuracy: 0.9882 - val_loss: 0.0478 - val_accuracy: 0.9931\n"
     ]
    },
    {
     "name": "stderr",
     "output_type": "stream",
     "text": [
      " 33%|███▎      | 6/18 [14:38<29:06, 145.52s/it]"
     ]
    },
    {
     "name": "stdout",
     "output_type": "stream",
     "text": [
      "{'output_count_lstm': 50, 'output_count_dense': 30, 'batch_size': 32, 'epochs': 2, 'optimizer': 'adam', 'activation': 'relu', 'last_activation': 'sigmoid', 'dropout': 0.1, 'loss': 'binary_crossentropy'}\n",
      "Epoch 1/2\n",
      "3990/3990 [==============================] - 48s 12ms/step - loss: 0.0654 - accuracy: 0.9162 - val_loss: 0.0503 - val_accuracy: 0.9936\n",
      "Epoch 2/2\n",
      "3990/3990 [==============================] - 47s 12ms/step - loss: 0.0504 - accuracy: 0.9856 - val_loss: 0.0477 - val_accuracy: 0.9936\n"
     ]
    },
    {
     "name": "stderr",
     "output_type": "stream",
     "text": [
      " 39%|███▉      | 7/18 [17:03<26:38, 145.35s/it]"
     ]
    },
    {
     "name": "stdout",
     "output_type": "stream",
     "text": [
      "{'output_count_lstm': 50, 'output_count_dense': 30, 'batch_size': 32, 'epochs': 2, 'optimizer': 'adam', 'activation': 'relu', 'last_activation': 'sigmoid', 'dropout': 0.2, 'loss': 'binary_crossentropy'}\n",
      "Epoch 1/2\n",
      "3990/3990 [==============================] - 48s 12ms/step - loss: 0.0690 - accuracy: 0.9175 - val_loss: 0.0513 - val_accuracy: 0.9936\n",
      "Epoch 2/2\n",
      "3990/3990 [==============================] - 46s 12ms/step - loss: 0.0523 - accuracy: 0.9914 - val_loss: 0.0486 - val_accuracy: 0.9936\n"
     ]
    },
    {
     "name": "stderr",
     "output_type": "stream",
     "text": [
      " 44%|████▍     | 8/18 [18:40<21:37, 129.76s/it]"
     ]
    },
    {
     "name": "stdout",
     "output_type": "stream",
     "text": [
      "{'output_count_lstm': 50, 'output_count_dense': 40, 'batch_size': 32, 'epochs': 2, 'optimizer': 'adam', 'activation': 'relu', 'last_activation': 'sigmoid', 'dropout': 0.1, 'loss': 'binary_crossentropy'}\n",
      "Epoch 1/2\n",
      "3990/3990 [==============================] - 48s 12ms/step - loss: 0.0638 - accuracy: 0.9232 - val_loss: 0.0496 - val_accuracy: 0.9935\n",
      "Epoch 2/2\n",
      "3990/3990 [==============================] - 47s 12ms/step - loss: 0.0493 - accuracy: 0.9716 - val_loss: 0.0472 - val_accuracy: 0.9936\n"
     ]
    },
    {
     "name": "stderr",
     "output_type": "stream",
     "text": [
      " 50%|█████     | 9/18 [20:17<17:55, 119.47s/it]"
     ]
    },
    {
     "name": "stdout",
     "output_type": "stream",
     "text": [
      "{'output_count_lstm': 50, 'output_count_dense': 40, 'batch_size': 32, 'epochs': 2, 'optimizer': 'adam', 'activation': 'relu', 'last_activation': 'sigmoid', 'dropout': 0.2, 'loss': 'binary_crossentropy'}\n",
      "Epoch 1/2\n",
      "3990/3990 [==============================] - 48s 12ms/step - loss: 0.0659 - accuracy: 0.9360 - val_loss: 0.0502 - val_accuracy: 0.9936\n",
      "Epoch 2/2\n",
      "3990/3990 [==============================] - 46s 12ms/step - loss: 0.0512 - accuracy: 0.9896 - val_loss: 0.0491 - val_accuracy: 0.9936\n"
     ]
    },
    {
     "name": "stderr",
     "output_type": "stream",
     "text": [
      " 56%|█████▌    | 10/18 [22:41<16:58, 127.29s/it]"
     ]
    },
    {
     "name": "stdout",
     "output_type": "stream",
     "text": [
      "{'output_count_lstm': 50, 'output_count_dense': 50, 'batch_size': 32, 'epochs': 2, 'optimizer': 'adam', 'activation': 'relu', 'last_activation': 'sigmoid', 'dropout': 0.1, 'loss': 'binary_crossentropy'}\n",
      "Epoch 1/2\n",
      "3990/3990 [==============================] - 48s 12ms/step - loss: 0.0599 - accuracy: 0.9389 - val_loss: 0.0487 - val_accuracy: 0.9936\n",
      "Epoch 2/2\n",
      "3990/3990 [==============================] - 47s 12ms/step - loss: 0.0485 - accuracy: 0.9829 - val_loss: 0.0466 - val_accuracy: 0.9931\n"
     ]
    },
    {
     "name": "stderr",
     "output_type": "stream",
     "text": [
      " 61%|██████    | 11/18 [24:19<13:46, 118.08s/it]"
     ]
    },
    {
     "name": "stdout",
     "output_type": "stream",
     "text": [
      "{'output_count_lstm': 50, 'output_count_dense': 50, 'batch_size': 32, 'epochs': 2, 'optimizer': 'adam', 'activation': 'relu', 'last_activation': 'sigmoid', 'dropout': 0.2, 'loss': 'binary_crossentropy'}\n",
      "Epoch 1/2\n",
      "3990/3990 [==============================] - 48s 12ms/step - loss: 0.0635 - accuracy: 0.9307 - val_loss: 0.0517 - val_accuracy: 0.9936\n",
      "Epoch 2/2\n",
      "3990/3990 [==============================] - 46s 12ms/step - loss: 0.0508 - accuracy: 0.9813 - val_loss: 0.0477 - val_accuracy: 0.9936\n"
     ]
    },
    {
     "name": "stderr",
     "output_type": "stream",
     "text": [
      " 67%|██████▋   | 12/18 [25:55<11:08, 111.49s/it]"
     ]
    },
    {
     "name": "stdout",
     "output_type": "stream",
     "text": [
      "{'output_count_lstm': 60, 'output_count_dense': 30, 'batch_size': 32, 'epochs': 2, 'optimizer': 'adam', 'activation': 'relu', 'last_activation': 'sigmoid', 'dropout': 0.1, 'loss': 'binary_crossentropy'}\n",
      "Epoch 1/2\n",
      "3990/3990 [==============================] - 46s 11ms/step - loss: 0.0624 - accuracy: 0.9161 - val_loss: 0.0493 - val_accuracy: 0.9936\n",
      "Epoch 2/2\n",
      "3990/3990 [==============================] - 44s 11ms/step - loss: 0.0491 - accuracy: 0.9800 - val_loss: 0.0482 - val_accuracy: 0.9936\n"
     ]
    },
    {
     "name": "stderr",
     "output_type": "stream",
     "text": [
      " 72%|███████▏  | 13/18 [28:20<10:08, 121.71s/it]"
     ]
    },
    {
     "name": "stdout",
     "output_type": "stream",
     "text": [
      "{'output_count_lstm': 60, 'output_count_dense': 30, 'batch_size': 32, 'epochs': 2, 'optimizer': 'adam', 'activation': 'relu', 'last_activation': 'sigmoid', 'dropout': 0.2, 'loss': 'binary_crossentropy'}\n",
      "Epoch 1/2\n",
      "3990/3990 [==============================] - 46s 11ms/step - loss: 0.0666 - accuracy: 0.8943 - val_loss: 0.0511 - val_accuracy: 0.9936\n",
      "Epoch 2/2\n",
      "3990/3990 [==============================] - 44s 11ms/step - loss: 0.0518 - accuracy: 0.9818 - val_loss: 0.0488 - val_accuracy: 0.9934\n"
     ]
    },
    {
     "name": "stderr",
     "output_type": "stream",
     "text": [
      " 78%|███████▊  | 14/18 [29:52<07:31, 112.81s/it]"
     ]
    },
    {
     "name": "stdout",
     "output_type": "stream",
     "text": [
      "{'output_count_lstm': 60, 'output_count_dense': 40, 'batch_size': 32, 'epochs': 2, 'optimizer': 'adam', 'activation': 'relu', 'last_activation': 'sigmoid', 'dropout': 0.1, 'loss': 'binary_crossentropy'}\n",
      "Epoch 1/2\n",
      "3990/3990 [==============================] - 46s 11ms/step - loss: 0.0623 - accuracy: 0.9335 - val_loss: 0.0499 - val_accuracy: 0.9935\n",
      "Epoch 2/2\n",
      "3990/3990 [==============================] - 44s 11ms/step - loss: 0.0485 - accuracy: 0.9884 - val_loss: 0.0481 - val_accuracy: 0.9933\n"
     ]
    },
    {
     "name": "stderr",
     "output_type": "stream",
     "text": [
      " 83%|████████▎ | 15/18 [31:25<05:20, 106.75s/it]"
     ]
    },
    {
     "name": "stdout",
     "output_type": "stream",
     "text": [
      "{'output_count_lstm': 60, 'output_count_dense': 40, 'batch_size': 32, 'epochs': 2, 'optimizer': 'adam', 'activation': 'relu', 'last_activation': 'sigmoid', 'dropout': 0.2, 'loss': 'binary_crossentropy'}\n",
      "Epoch 1/2\n",
      "3990/3990 [==============================] - 46s 11ms/step - loss: 0.0653 - accuracy: 0.9268 - val_loss: 0.0506 - val_accuracy: 0.9936\n",
      "Epoch 2/2\n",
      "3990/3990 [==============================] - 44s 11ms/step - loss: 0.0505 - accuracy: 0.9689 - val_loss: 0.0489 - val_accuracy: 0.9936\n"
     ]
    },
    {
     "name": "stderr",
     "output_type": "stream",
     "text": [
      " 89%|████████▉ | 16/18 [32:57<03:24, 102.28s/it]"
     ]
    },
    {
     "name": "stdout",
     "output_type": "stream",
     "text": [
      "{'output_count_lstm': 60, 'output_count_dense': 50, 'batch_size': 32, 'epochs': 2, 'optimizer': 'adam', 'activation': 'relu', 'last_activation': 'sigmoid', 'dropout': 0.1, 'loss': 'binary_crossentropy'}\n",
      "Epoch 1/2\n",
      "3990/3990 [==============================] - 47s 11ms/step - loss: 0.0617 - accuracy: 0.9647 - val_loss: 0.0505 - val_accuracy: 0.9936\n",
      "Epoch 2/2\n",
      "3990/3990 [==============================] - 45s 11ms/step - loss: 0.0499 - accuracy: 0.9894 - val_loss: 0.0481 - val_accuracy: 0.9934\n"
     ]
    },
    {
     "name": "stderr",
     "output_type": "stream",
     "text": [
      " 94%|█████████▍| 17/18 [35:23<01:55, 115.31s/it]"
     ]
    },
    {
     "name": "stdout",
     "output_type": "stream",
     "text": [
      "{'output_count_lstm': 60, 'output_count_dense': 50, 'batch_size': 32, 'epochs': 2, 'optimizer': 'adam', 'activation': 'relu', 'last_activation': 'sigmoid', 'dropout': 0.2, 'loss': 'binary_crossentropy'}\n",
      "Epoch 1/2\n",
      "3990/3990 [==============================] - 47s 11ms/step - loss: 0.0637 - accuracy: 0.9393 - val_loss: 0.0508 - val_accuracy: 0.9936\n",
      "Epoch 2/2\n",
      "3990/3990 [==============================] - 44s 11ms/step - loss: 0.0512 - accuracy: 0.9868 - val_loss: 0.0478 - val_accuracy: 0.9936\n"
     ]
    },
    {
     "name": "stderr",
     "output_type": "stream",
     "text": [
      "100%|██████████| 18/18 [36:55<00:00, 123.11s/it]\n"
     ]
    }
   ],
   "source": [
    "scan_results = talos.Scan(x=x_train,\n",
    "                          y=y_train,\n",
    "                          x_val=x_val,\n",
    "                          y_val=y_val,\n",
    "                          model=toxic_classifier,\n",
    "                          params=p,\n",
    "                          experiment_name='tcc',\n",
    "                          print_params=True)"
   ]
  },
  {
   "cell_type": "code",
   "execution_count": 55,
   "id": "c25fee91",
   "metadata": {
    "execution": {
     "iopub.execute_input": "2022-08-31T04:07:37.721715Z",
     "iopub.status.busy": "2022-08-31T04:07:37.721342Z",
     "iopub.status.idle": "2022-08-31T04:07:37.735125Z",
     "shell.execute_reply": "2022-08-31T04:07:37.733982Z"
    },
    "papermill": {
     "duration": 1.53723,
     "end_time": "2022-08-31T04:07:37.737274",
     "exception": false,
     "start_time": "2022-08-31T04:07:36.200044",
     "status": "completed"
    },
    "tags": []
   },
   "outputs": [
    {
     "data": {
      "text/plain": [
       "1"
      ]
     },
     "execution_count": 55,
     "metadata": {},
     "output_type": "execute_result"
    }
   ],
   "source": [
    "model_id = scan_results.data['val_accuracy'].astype('float').argmax()\n",
    "model_id"
   ]
  },
  {
   "cell_type": "code",
   "execution_count": 56,
   "id": "0b5ec0cf",
   "metadata": {
    "execution": {
     "iopub.execute_input": "2022-08-31T04:07:40.845911Z",
     "iopub.status.busy": "2022-08-31T04:07:40.845365Z",
     "iopub.status.idle": "2022-08-31T04:07:40.851962Z",
     "shell.execute_reply": "2022-08-31T04:07:40.851079Z"
    },
    "papermill": {
     "duration": 1.649958,
     "end_time": "2022-08-31T04:07:40.854046",
     "exception": false,
     "start_time": "2022-08-31T04:07:39.204088",
     "status": "completed"
    },
    "tags": []
   },
   "outputs": [],
   "source": [
    "analyze_object = talos.Analyze(scan_results)"
   ]
  },
  {
   "cell_type": "code",
   "execution_count": 57,
   "id": "34c44168",
   "metadata": {
    "execution": {
     "iopub.execute_input": "2022-08-31T04:07:43.797298Z",
     "iopub.status.busy": "2022-08-31T04:07:43.796914Z",
     "iopub.status.idle": "2022-08-31T04:07:43.810593Z",
     "shell.execute_reply": "2022-08-31T04:07:43.809541Z"
    },
    "papermill": {
     "duration": 1.41702,
     "end_time": "2022-08-31T04:07:43.812982",
     "exception": false,
     "start_time": "2022-08-31T04:07:42.395962",
     "status": "completed"
    },
    "tags": []
   },
   "outputs": [
    {
     "data": {
      "text/plain": [
       "array([[2, 50, 32, '08/31/22-035055', 'relu', 40, 'adam', 'sigmoid', 2,\n",
       "        143.90927290916443, '08/31/22-035319', 0.2, 0],\n",
       "       [2, 50, 32, '08/31/22-034742', 'relu', 30, 'adam', 'sigmoid', 2,\n",
       "        95.25490164756775, '08/31/22-034917', 0.2, 1],\n",
       "       [2, 60, 32, '08/31/22-040204', 'relu', 40, 'adam', 'sigmoid', 2,\n",
       "        91.05259084701538, '08/31/22-040335', 0.2, 2],\n",
       "       [2, 60, 32, '08/31/22-035634', 'relu', 30, 'adam', 'sigmoid', 2,\n",
       "        144.34477496147156, '08/31/22-035858', 0.1, 3],\n",
       "       [2, 50, 32, '08/31/22-035457', 'relu', 50, 'adam', 'sigmoid', 2,\n",
       "        95.33320713043213, '08/31/22-035633', 0.2, 4],\n",
       "       [2, 40, 32, '08/31/22-033312', 'relu', 30, 'adam', 'sigmoid', 2,\n",
       "        144.24096512794495, '08/31/22-033536', 0.2, 5],\n",
       "       [2, 50, 32, '08/31/22-034918', 'relu', 40, 'adam', 'sigmoid', 2,\n",
       "        95.5694272518158, '08/31/22-035054', 0.1, 6],\n",
       "       [2, 60, 32, '08/31/22-040601', 'relu', 50, 'adam', 'sigmoid', 2,\n",
       "        91.96979475021362, '08/31/22-040733', 0.2, 7],\n",
       "       [2, 50, 32, '08/31/22-034517', 'relu', 30, 'adam', 'sigmoid', 2,\n",
       "        144.1518747806549, '08/31/22-034741', 0.1, 8],\n",
       "       [2, 40, 32, '08/31/22-033802', 'relu', 40, 'adam', 'sigmoid', 2,\n",
       "        144.2526729106903, '08/31/22-034026', 0.2, 9]], dtype=object)"
      ]
     },
     "execution_count": 57,
     "metadata": {},
     "output_type": "execute_result"
    }
   ],
   "source": [
    "analyze_object.best_params('val_accuracy', ['accuracy', 'loss', 'val_loss'])"
   ]
  },
  {
   "cell_type": "code",
   "execution_count": 58,
   "id": "8ae9b618",
   "metadata": {
    "collapsed": true,
    "execution": {
     "iopub.execute_input": "2022-08-31T04:07:46.766778Z",
     "iopub.status.busy": "2022-08-31T04:07:46.766174Z",
     "iopub.status.idle": "2022-08-31T04:07:47.116822Z",
     "shell.execute_reply": "2022-08-31T04:07:47.115889Z"
    },
    "jupyter": {
     "outputs_hidden": true
    },
    "papermill": {
     "duration": 1.772209,
     "end_time": "2022-08-31T04:07:47.119340",
     "exception": false,
     "start_time": "2022-08-31T04:07:45.347131",
     "status": "completed"
    },
    "tags": []
   },
   "outputs": [
    {
     "data": {
      "image/png": "[encoded data removed]",
      "text/plain": [
       "<Figure size 864x475.2 with 1 Axes>"
      ]
     },
     "metadata": {},
     "output_type": "display_data"
    }
   ],
   "source": [
    "analyze_object.plot_line('val_accuracy')"
   ]
  },
  {
   "cell_type": "code",
   "execution_count": 59,
   "id": "aa9d8f22",
   "metadata": {
    "collapsed": true,
    "execution": {
     "iopub.execute_input": "2022-08-31T04:07:50.629002Z",
     "iopub.status.busy": "2022-08-31T04:07:50.628580Z",
     "iopub.status.idle": "2022-08-31T04:07:50.973542Z",
     "shell.execute_reply": "2022-08-31T04:07:50.972595Z"
    },
    "jupyter": {
     "outputs_hidden": true
    },
    "papermill": {
     "duration": 2.379315,
     "end_time": "2022-08-31T04:07:50.976455",
     "exception": false,
     "start_time": "2022-08-31T04:07:48.597140",
     "status": "completed"
    },
    "tags": []
   },
   "outputs": [
    {
     "data": {
      "image/png": "[encoded data removed]",
      "text/plain": [
       "<Figure size 864x475.2 with 1 Axes>"
      ]
     },
     "metadata": {},
     "output_type": "display_data"
    }
   ],
   "source": [
    "analyze_object.plot_line('accuracy')"
   ]
  },
  {
   "cell_type": "markdown",
   "id": "dcf5e857",
   "metadata": {
    "papermill": {
     "duration": 1.443876,
     "end_time": "2022-08-31T04:07:53.951391",
     "exception": false,
     "start_time": "2022-08-31T04:07:52.507515",
     "status": "completed"
    },
    "tags": []
   },
   "source": [
    "# Training Model with Best Parameters"
   ]
  },
  {
   "cell_type": "code",
   "execution_count": 60,
   "id": "ed8eff8e",
   "metadata": {
    "execution": {
     "iopub.execute_input": "2022-08-31T04:07:56.923612Z",
     "iopub.status.busy": "2022-08-31T04:07:56.922997Z",
     "iopub.status.idle": "2022-08-31T04:07:56.929950Z",
     "shell.execute_reply": "2022-08-31T04:07:56.928975Z"
    },
    "papermill": {
     "duration": 1.526267,
     "end_time": "2022-08-31T04:07:56.932216",
     "exception": false,
     "start_time": "2022-08-31T04:07:55.405949",
     "status": "completed"
    },
    "tags": []
   },
   "outputs": [],
   "source": [
    "inp = Input(shape=(maxpadlen, ), dtype='int32')"
   ]
  },
  {
   "cell_type": "code",
   "execution_count": 61,
   "id": "3f668c4a",
   "metadata": {
    "execution": {
     "iopub.execute_input": "2022-08-31T04:07:59.764028Z",
     "iopub.status.busy": "2022-08-31T04:07:59.763637Z",
     "iopub.status.idle": "2022-08-31T04:08:00.240151Z",
     "shell.execute_reply": "2022-08-31T04:08:00.239183Z"
    },
    "papermill": {
     "duration": 1.933489,
     "end_time": "2022-08-31T04:08:00.242671",
     "exception": false,
     "start_time": "2022-08-31T04:07:58.309182",
     "status": "completed"
    },
    "tags": []
   },
   "outputs": [],
   "source": [
    "embedding_layer = Embedding(len(word_index) + 1, embedding_dim_fasttext, weights=[embedding_matrix_fasttext], input_length=maxpadlen, trainable=False, name='embeddings')\n",
    "embedded_sequences = embedding_layer(inp)"
   ]
  },
  {
   "cell_type": "code",
   "execution_count": 62,
   "id": "169431b2",
   "metadata": {
    "execution": {
     "iopub.execute_input": "2022-08-31T04:08:03.417230Z",
     "iopub.status.busy": "2022-08-31T04:08:03.416842Z",
     "iopub.status.idle": "2022-08-31T04:08:03.629931Z",
     "shell.execute_reply": "2022-08-31T04:08:03.629049Z"
    },
    "papermill": {
     "duration": 1.64334,
     "end_time": "2022-08-31T04:08:03.631992",
     "exception": false,
     "start_time": "2022-08-31T04:08:01.988652",
     "status": "completed"
    },
    "tags": []
   },
   "outputs": [],
   "source": [
    "x = LSTM(40, return_sequences=True, name='lstm_layer')(embedded_sequences)\n",
    "x = GlobalMaxPool1D()(x)\n",
    "x = Dropout(0.1)(x)\n",
    "x = Dense(30, activation=\"relu\", kernel_initializer='he_uniform')(x)\n",
    "x = Dropout(0.1)(x)\n",
    "preds = Dense(6, activation=\"sigmoid\", kernel_initializer='glorot_uniform')(x)"
   ]
  },
  {
   "cell_type": "code",
   "execution_count": 63,
   "id": "d502adb0",
   "metadata": {
    "execution": {
     "iopub.execute_input": "2022-08-31T04:08:06.537609Z",
     "iopub.status.busy": "2022-08-31T04:08:06.537239Z",
     "iopub.status.idle": "2022-08-31T04:08:06.549876Z",
     "shell.execute_reply": "2022-08-31T04:08:06.549057Z"
    },
    "papermill": {
     "duration": 1.407174,
     "end_time": "2022-08-31T04:08:06.551921",
     "exception": false,
     "start_time": "2022-08-31T04:08:05.144747",
     "status": "completed"
    },
    "tags": []
   },
   "outputs": [],
   "source": [
    "model = Model(inputs=inp, outputs=preds)\n",
    "model.compile(loss='binary_crossentropy',\n",
    "                optimizer='adam',\n",
    "                metrics=['accuracy'])"
   ]
  },
  {
   "cell_type": "code",
   "execution_count": 64,
   "id": "15ced422",
   "metadata": {
    "execution": {
     "iopub.execute_input": "2022-08-31T04:08:09.509501Z",
     "iopub.status.busy": "2022-08-31T04:08:09.509127Z",
     "iopub.status.idle": "2022-08-31T04:08:09.516061Z",
     "shell.execute_reply": "2022-08-31T04:08:09.515087Z"
    },
    "papermill": {
     "duration": 1.518272,
     "end_time": "2022-08-31T04:08:09.518941",
     "exception": false,
     "start_time": "2022-08-31T04:08:08.000669",
     "status": "completed"
    },
    "tags": []
   },
   "outputs": [
    {
     "name": "stdout",
     "output_type": "stream",
     "text": [
      "Model: \"model\"\n",
      "_________________________________________________________________\n",
      "Layer (type)                 Output Shape              Param #   \n",
      "=================================================================\n",
      "input_1 (InputLayer)         [(None, 200)]             0         \n",
      "_________________________________________________________________\n",
      "embeddings (Embedding)       (None, 200, 300)          44675400  \n",
      "_________________________________________________________________\n",
      "lstm_layer (LSTM)            (None, 200, 40)           54560     \n",
      "_________________________________________________________________\n",
      "global_max_pooling1d (Global (None, 40)                0         \n",
      "_________________________________________________________________\n",
      "dropout (Dropout)            (None, 40)                0         \n",
      "_________________________________________________________________\n",
      "dense (Dense)                (None, 30)                1230      \n",
      "_________________________________________________________________\n",
      "dropout_1 (Dropout)          (None, 30)                0         \n",
      "_________________________________________________________________\n",
      "dense_1 (Dense)              (None, 6)                 186       \n",
      "=================================================================\n",
      "Total params: 44,731,376\n",
      "Trainable params: 55,976\n",
      "Non-trainable params: 44,675,400\n",
      "_________________________________________________________________\n"
     ]
    }
   ],
   "source": [
    "model.summary()"
   ]
  },
  {
   "cell_type": "code",
   "execution_count": 65,
   "id": "5a7acf10",
   "metadata": {
    "execution": {
     "iopub.execute_input": "2022-08-31T04:08:12.430681Z",
     "iopub.status.busy": "2022-08-31T04:08:12.430297Z",
     "iopub.status.idle": "2022-08-31T04:10:35.978568Z",
     "shell.execute_reply": "2022-08-31T04:10:35.977548Z"
    },
    "papermill": {
     "duration": 145.071807,
     "end_time": "2022-08-31T04:10:35.981264",
     "exception": false,
     "start_time": "2022-08-31T04:08:10.909457",
     "status": "completed"
    },
    "tags": []
   },
   "outputs": [
    {
     "name": "stdout",
     "output_type": "stream",
     "text": [
      "Epoch 1/2\n",
      "3990/3990 [==============================] - 44s 11ms/step - loss: 0.0655 - accuracy: 0.9091 - val_loss: 0.0503 - val_accuracy: 0.9936\n",
      "Epoch 2/2\n",
      "3990/3990 [==============================] - 42s 10ms/step - loss: 0.0502 - accuracy: 0.9895 - val_loss: 0.0474 - val_accuracy: 0.9936\n"
     ]
    }
   ],
   "source": [
    "model_info = model.fit(x_train, y_train, epochs=2, batch_size=32, validation_data=(x_val, y_val))"
   ]
  },
  {
   "cell_type": "markdown",
   "id": "c79282a5",
   "metadata": {
    "papermill": {
     "duration": 1.521139,
     "end_time": "2022-08-31T04:10:39.042538",
     "exception": false,
     "start_time": "2022-08-31T04:10:37.521399",
     "status": "completed"
    },
    "tags": []
   },
   "source": [
    "# Plotting Graphs"
   ]
  },
  {
   "cell_type": "code",
   "execution_count": 66,
   "id": "930305ea",
   "metadata": {
    "execution": {
     "iopub.execute_input": "2022-08-31T04:10:42.107413Z",
     "iopub.status.busy": "2022-08-31T04:10:42.107032Z",
     "iopub.status.idle": "2022-08-31T04:10:42.362837Z",
     "shell.execute_reply": "2022-08-31T04:10:42.361969Z"
    },
    "papermill": {
     "duration": 1.8753,
     "end_time": "2022-08-31T04:10:42.365006",
     "exception": false,
     "start_time": "2022-08-31T04:10:40.489706",
     "status": "completed"
    },
    "tags": []
   },
   "outputs": [
    {
     "data": {
      "image/png": "[encoded data removed]",
      "text/plain": [
       "<Figure size 432x288 with 1 Axes>"
      ]
     },
     "metadata": {},
     "output_type": "display_data"
    }
   ],
   "source": [
    "loss = model_info.history['loss']\n",
    "val_loss = model_info.history['val_loss']\n",
    "\n",
    "epochs = range(1, len(loss) + 1)\n",
    "\n",
    "plt.plot(epochs, loss, label='Training loss')\n",
    "plt.plot(epochs, val_loss, label='Validation loss')\n",
    "plt.title('Training and Validation loss')\n",
    "plt.xlabel('Epochs')\n",
    "plt.ylabel('Loss')\n",
    "plt.legend()\n",
    "plt.show()"
   ]
  },
  {
   "cell_type": "code",
   "execution_count": 67,
   "id": "6598d030",
   "metadata": {
    "execution": {
     "iopub.execute_input": "2022-08-31T04:10:45.408069Z",
     "iopub.status.busy": "2022-08-31T04:10:45.407683Z",
     "iopub.status.idle": "2022-08-31T04:10:45.672850Z",
     "shell.execute_reply": "2022-08-31T04:10:45.671804Z"
    },
    "papermill": {
     "duration": 1.856041,
     "end_time": "2022-08-31T04:10:45.675147",
     "exception": false,
     "start_time": "2022-08-31T04:10:43.819106",
     "status": "completed"
    },
    "tags": []
   },
   "outputs": [
    {
     "data": {
      "image/png": "[encoded data removed]",
      "text/plain": [
       "<Figure size 432x288 with 1 Axes>"
      ]
     },
     "metadata": {},
     "output_type": "display_data"
    }
   ],
   "source": [
    "accuracy = model_info.history['accuracy']\n",
    "val_accuracy = model_info.history['val_accuracy']\n",
    "\n",
    "plt.plot(epochs, accuracy, label='Training accuracy')\n",
    "plt.plot(epochs, val_accuracy, label='Validation accuracy')\n",
    "plt.title('Training and validation accuracy')\n",
    "plt.ylabel('Accuracy')\n",
    "plt.xlabel('Epochs')\n",
    "plt.legend()\n",
    "plt.show();"
   ]
  },
  {
   "cell_type": "markdown",
   "id": "080e4cb8",
   "metadata": {
    "papermill": {
     "duration": 1.531361,
     "end_time": "2022-08-31T04:10:48.919114",
     "exception": false,
     "start_time": "2022-08-31T04:10:47.387753",
     "status": "completed"
    },
    "tags": []
   },
   "source": [
    "accuracy = model_info.history['accuracy']\n",
    "val_accuracy = model_info.history['val_accuracy']\n",
    "\n",
    "plt.plot(epochs, accuracy, label='Training accuracy')\n",
    "plt.plot(epochs, val_accuracy, label='Validation accuracy')\n",
    "plt.title('Training and validation accuracy')\n",
    "plt.ylabel('Accuracy')\n",
    "plt.xlabel('Epochs')\n",
    "plt.legend()\n",
    "plt.show()"
   ]
  },
  {
   "cell_type": "markdown",
   "id": "d08b32ef",
   "metadata": {
    "papermill": {
     "duration": 1.466871,
     "end_time": "2022-08-31T04:10:51.994911",
     "exception": false,
     "start_time": "2022-08-31T04:10:50.528040",
     "status": "completed"
    },
    "tags": []
   },
   "source": [
    "# Saving the Model"
   ]
  },
  {
   "cell_type": "code",
   "execution_count": 68,
   "id": "d70ff94b",
   "metadata": {
    "execution": {
     "iopub.execute_input": "2022-08-31T04:10:55.042410Z",
     "iopub.status.busy": "2022-08-31T04:10:55.041314Z",
     "iopub.status.idle": "2022-08-31T04:10:55.585943Z",
     "shell.execute_reply": "2022-08-31T04:10:55.584932Z"
    },
    "papermill": {
     "duration": 2.010426,
     "end_time": "2022-08-31T04:10:55.588356",
     "exception": false,
     "start_time": "2022-08-31T04:10:53.577930",
     "status": "completed"
    },
    "tags": []
   },
   "outputs": [],
   "source": [
    "model.save(filepath=\"model.h5\")"
   ]
  },
  {
   "cell_type": "markdown",
   "id": "ac9de402",
   "metadata": {
    "papermill": {
     "duration": 2.224513,
     "end_time": "2022-08-31T04:10:59.398122",
     "exception": false,
     "start_time": "2022-08-31T04:10:57.173609",
     "status": "completed"
    },
    "tags": []
   },
   "source": [
    "# Loading Saved Model"
   ]
  },
  {
   "cell_type": "code",
   "execution_count": 69,
   "id": "e31d70ea",
   "metadata": {
    "execution": {
     "iopub.execute_input": "2022-08-31T04:11:02.671228Z",
     "iopub.status.busy": "2022-08-31T04:11:02.670662Z",
     "iopub.status.idle": "2022-08-31T04:11:03.299979Z",
     "shell.execute_reply": "2022-08-31T04:11:03.299024Z"
    },
    "papermill": {
     "duration": 2.301963,
     "end_time": "2022-08-31T04:11:03.302403",
     "exception": false,
     "start_time": "2022-08-31T04:11:01.000440",
     "status": "completed"
    },
    "tags": []
   },
   "outputs": [],
   "source": [
    "loaded_model = keras.models.load_model(filepath=\"model.h5\")"
   ]
  },
  {
   "cell_type": "markdown",
   "id": "ea013de4",
   "metadata": {
    "papermill": {
     "duration": 1.606788,
     "end_time": "2022-08-31T04:11:06.457741",
     "exception": false,
     "start_time": "2022-08-31T04:11:04.850953",
     "status": "completed"
    },
    "tags": []
   },
   "source": [
    "# Testing the Created Model"
   ]
  },
  {
   "cell_type": "code",
   "execution_count": 70,
   "id": "ec39dbd5",
   "metadata": {
    "execution": {
     "iopub.execute_input": "2022-08-31T04:11:09.707924Z",
     "iopub.status.busy": "2022-08-31T04:11:09.707403Z",
     "iopub.status.idle": "2022-08-31T04:11:09.718880Z",
     "shell.execute_reply": "2022-08-31T04:11:09.717945Z"
    },
    "papermill": {
     "duration": 1.740989,
     "end_time": "2022-08-31T04:11:09.721037",
     "exception": false,
     "start_time": "2022-08-31T04:11:07.980048",
     "status": "completed"
    },
    "tags": []
   },
   "outputs": [],
   "source": [
    "def toxicity_level(string):\n",
    "    new_string = [string]\n",
    "    new_string = tokenizer.texts_to_sequences(new_string)\n",
    "    new_string = pad_sequences(new_string, maxlen=maxpadlen, padding='post')\n",
    "    prediction = model.predict(new_string)\n",
    "\n",
    "    print(\"Toxicity levels:\".format(string))\n",
    "    print('Toxic:         {:.0%}'.format(prediction[0][0]))\n",
    "    print('Severe Toxic:  {:.0%}'.format(prediction[0][1]))\n",
    "    print('Obscene:       {:.0%}'.format(prediction[0][2]))\n",
    "    print('Threat:        {:.0%}'.format(prediction[0][3]))\n",
    "    print('Insult:        {:.0%}'.format(prediction[0][4]))\n",
    "    print('Identity Hate: {:.0%}'.format(prediction[0][5]))\n",
    "    print()\n",
    "\n",
    "    return"
   ]
  },
  {
   "cell_type": "code",
   "execution_count": 71,
   "id": "cde948d7",
   "metadata": {
    "execution": {
     "iopub.execute_input": "2022-08-31T04:11:12.789378Z",
     "iopub.status.busy": "2022-08-31T04:11:12.788747Z",
     "iopub.status.idle": "2022-08-31T04:11:13.146649Z",
     "shell.execute_reply": "2022-08-31T04:11:13.145478Z"
    },
    "papermill": {
     "duration": 1.813896,
     "end_time": "2022-08-31T04:11:13.148949",
     "exception": false,
     "start_time": "2022-08-31T04:11:11.335053",
     "status": "completed"
    },
    "tags": []
   },
   "outputs": [
    {
     "name": "stdout",
     "output_type": "stream",
     "text": [
      "Toxicity levels:\n",
      "Toxic:         72%\n",
      "Severe Toxic:  1%\n",
      "Obscene:       30%\n",
      "Threat:        1%\n",
      "Insult:        37%\n",
      "Identity Hate: 1%\n",
      "\n"
     ]
    }
   ],
   "source": [
    "toxicity_level('go jump off a bridge jerk')"
   ]
  },
  {
   "cell_type": "code",
   "execution_count": 72,
   "id": "c805f30a",
   "metadata": {
    "execution": {
     "iopub.execute_input": "2022-08-31T04:11:16.185771Z",
     "iopub.status.busy": "2022-08-31T04:11:16.185405Z",
     "iopub.status.idle": "2022-08-31T04:11:16.229733Z",
     "shell.execute_reply": "2022-08-31T04:11:16.228552Z"
    },
    "papermill": {
     "duration": 1.502085,
     "end_time": "2022-08-31T04:11:16.232226",
     "exception": false,
     "start_time": "2022-08-31T04:11:14.730141",
     "status": "completed"
    },
    "tags": []
   },
   "outputs": [
    {
     "name": "stdout",
     "output_type": "stream",
     "text": [
      "Toxicity levels:\n",
      "Toxic:         16%\n",
      "Severe Toxic:  0%\n",
      "Obscene:       2%\n",
      "Threat:        2%\n",
      "Insult:        5%\n",
      "Identity Hate: 0%\n",
      "\n"
     ]
    }
   ],
   "source": [
    "toxicity_level('i will kill you')"
   ]
  },
  {
   "cell_type": "code",
   "execution_count": 73,
   "id": "7f629942",
   "metadata": {
    "execution": {
     "iopub.execute_input": "2022-08-31T04:11:19.395655Z",
     "iopub.status.busy": "2022-08-31T04:11:19.395068Z",
     "iopub.status.idle": "2022-08-31T04:11:19.459432Z",
     "shell.execute_reply": "2022-08-31T04:11:19.457989Z"
    },
    "papermill": {
     "duration": 1.719742,
     "end_time": "2022-08-31T04:11:19.462003",
     "exception": false,
     "start_time": "2022-08-31T04:11:17.742261",
     "status": "completed"
    },
    "tags": []
   },
   "outputs": [
    {
     "name": "stdout",
     "output_type": "stream",
     "text": [
      "Toxicity levels:\n",
      "Toxic:         0%\n",
      "Severe Toxic:  0%\n",
      "Obscene:       0%\n",
      "Threat:        0%\n",
      "Insult:        0%\n",
      "Identity Hate: 0%\n",
      "\n"
     ]
    }
   ],
   "source": [
    "toxicity_level('have a nice day')"
   ]
  },
  {
   "cell_type": "code",
   "execution_count": 74,
   "id": "9d8cbc37",
   "metadata": {
    "execution": {
     "iopub.execute_input": "2022-08-31T04:11:22.696381Z",
     "iopub.status.busy": "2022-08-31T04:11:22.695657Z",
     "iopub.status.idle": "2022-08-31T04:11:22.739731Z",
     "shell.execute_reply": "2022-08-31T04:11:22.738779Z"
    },
    "papermill": {
     "duration": 1.625792,
     "end_time": "2022-08-31T04:11:22.741717",
     "exception": false,
     "start_time": "2022-08-31T04:11:21.115925",
     "status": "completed"
    },
    "tags": []
   },
   "outputs": [
    {
     "name": "stdout",
     "output_type": "stream",
     "text": [
      "Toxicity levels:\n",
      "Toxic:         99%\n",
      "Severe Toxic:  18%\n",
      "Obscene:       95%\n",
      "Threat:        3%\n",
      "Insult:        78%\n",
      "Identity Hate: 3%\n",
      "\n"
     ]
    }
   ],
   "source": [
    "toxicity_level('fuck ofF!!')"
   ]
  },
  {
   "cell_type": "code",
   "execution_count": 75,
   "id": "a15f6fea",
   "metadata": {
    "execution": {
     "iopub.execute_input": "2022-08-31T04:11:25.785047Z",
     "iopub.status.busy": "2022-08-31T04:11:25.783947Z",
     "iopub.status.idle": "2022-08-31T04:11:25.827869Z",
     "shell.execute_reply": "2022-08-31T04:11:25.826334Z"
    },
    "papermill": {
     "duration": 1.629869,
     "end_time": "2022-08-31T04:11:25.830010",
     "exception": false,
     "start_time": "2022-08-31T04:11:24.200141",
     "status": "completed"
    },
    "tags": []
   },
   "outputs": [
    {
     "name": "stdout",
     "output_type": "stream",
     "text": [
      "Toxicity levels:\n",
      "Toxic:         0%\n",
      "Severe Toxic:  0%\n",
      "Obscene:       0%\n",
      "Threat:        0%\n",
      "Insult:        0%\n",
      "Identity Hate: 0%\n",
      "\n"
     ]
    }
   ],
   "source": [
    "toxicity_level('Hello, How are you?')"
   ]
  },
  {
   "cell_type": "code",
   "execution_count": 76,
   "id": "0e6977a7",
   "metadata": {
    "execution": {
     "iopub.execute_input": "2022-08-31T04:11:28.803145Z",
     "iopub.status.busy": "2022-08-31T04:11:28.802751Z",
     "iopub.status.idle": "2022-08-31T04:11:28.846946Z",
     "shell.execute_reply": "2022-08-31T04:11:28.845759Z"
    },
    "papermill": {
     "duration": 1.565295,
     "end_time": "2022-08-31T04:11:28.849152",
     "exception": false,
     "start_time": "2022-08-31T04:11:27.283857",
     "status": "completed"
    },
    "tags": []
   },
   "outputs": [
    {
     "name": "stdout",
     "output_type": "stream",
     "text": [
      "Toxicity levels:\n",
      "Toxic:         95%\n",
      "Severe Toxic:  8%\n",
      "Obscene:       89%\n",
      "Threat:        2%\n",
      "Insult:        62%\n",
      "Identity Hate: 2%\n",
      "\n"
     ]
    }
   ],
   "source": [
    "toxicity_level('get the fuck away from me @sshole!!')"
   ]
  }
 ],
 "metadata": {
  "kernelspec": {
   "display_name": "Python 3",
   "language": "python",
   "name": "python3"
  },
  "language_info": {
   "codemirror_mode": {
    "name": "ipython",
    "version": 3
   },
   "file_extension": ".py",
   "mimetype": "text/x-python",
   "name": "python",
   "nbconvert_exporter": "python",
   "pygments_lexer": "ipython3",
   "version": "3.7.12"
  },
  "papermill": {
   "default_parameters": {},
   "duration": 3043.523415,
   "end_time": "2022-08-31T04:11:35.190494",
   "environment_variables": {},
   "exception": null,
   "input_path": "__notebook__.ipynb",
   "output_path": "__notebook__.ipynb",
   "parameters": {},
   "start_time": "2022-08-31T03:20:51.667079",
   "version": "2.3.4"
  },
  "widgets": {
   "application/vnd.jupyter.widget-state+json": {
    "state": {
     "006528d520754d239d58713dceb32ca1": {
      "model_module": "@jupyter-widgets/controls",
      "model_module_version": "1.5.0",
      "model_name": "FloatProgressModel",
      "state": {
       "_dom_classes": [],
       "_model_module": "@jupyter-widgets/controls",
       "_model_module_version": "1.5.0",
       "_model_name": "FloatProgressModel",
       "_view_count": null,
       "_view_module": "@jupyter-widgets/controls",
       "_view_module_version": "1.5.0",
       "_view_name": "ProgressView",
       "bar_style": "success",
       "description": "",
       "description_tooltip": null,
       "layout": "IPY_MODEL_40f4e2fb0a524c66b666907497238445",
       "max": 159571.0,
       "min": 0.0,
       "orientation": "horizontal",
       "style": "IPY_MODEL_0b11f7a15f4e4c09bf85c7ef6f4c9fbb",
       "value": 159571.0
      }
     },
     "02b2c5c6ca5b4c8ea7803cef9d1c7738": {
      "model_module": "@jupyter-widgets/controls",
      "model_module_version": "1.5.0",
      "model_name": "HBoxModel",
      "state": {
       "_dom_classes": [],
       "_model_module": "@jupyter-widgets/controls",
       "_model_module_version": "1.5.0",
       "_model_name": "HBoxModel",
       "_view_count": null,
       "_view_module": "@jupyter-widgets/controls",
       "_view_module_version": "1.5.0",
       "_view_name": "HBoxView",
       "box_style": "",
       "children": [
        "IPY_MODEL_4a5b1d3f49404c05ad3a3d2a1344afab",
        "IPY_MODEL_40b8bbdf00bf4488be67ad0f875ff8be",
        "IPY_MODEL_0f455e1461364cefa245d6f93dd5b8c2"
       ],
       "layout": "IPY_MODEL_1009ecbc8d7f41188877ea62c40a6700"
      }
     },
     "0b11f7a15f4e4c09bf85c7ef6f4c9fbb": {
      "model_module": "@jupyter-widgets/controls",
      "model_module_version": "1.5.0",
      "model_name": "ProgressStyleModel",
      "state": {
       "_model_module": "@jupyter-widgets/controls",
       "_model_module_version": "1.5.0",
       "_model_name": "ProgressStyleModel",
       "_view_count": null,
       "_view_module": "@jupyter-widgets/base",
       "_view_module_version": "1.2.0",
       "_view_name": "StyleView",
       "bar_color": null,
       "description_width": ""
      }
     },
     "0f455e1461364cefa245d6f93dd5b8c2": {
      "model_module": "@jupyter-widgets/controls",
      "model_module_version": "1.5.0",
      "model_name": "HTMLModel",
      "state": {
       "_dom_classes": [],
       "_model_module": "@jupyter-widgets/controls",
       "_model_module_version": "1.5.0",
       "_model_name": "HTMLModel",
       "_view_count": null,
       "_view_module": "@jupyter-widgets/controls",
       "_view_module_version": "1.5.0",
       "_view_name": "HTMLView",
       "description": "",
       "description_tooltip": null,
       "layout": "IPY_MODEL_df481e9649c8476a9498dedd38b0a733",
       "placeholder": "​",
       "style": "IPY_MODEL_151d7db8184a4f0790d8dbc4ae28c79e",
       "value": " 159571/159571 [00:02&lt;00:00, 59851.15it/s]"
      }
     },
     "1009ecbc8d7f41188877ea62c40a6700": {
      "model_module": "@jupyter-widgets/base",
      "model_module_version": "1.2.0",
      "model_name": "LayoutModel",
      "state": {
       "_model_module": "@jupyter-widgets/base",
       "_model_module_version": "1.2.0",
       "_model_name": "LayoutModel",
       "_view_count": null,
       "_view_module": "@jupyter-widgets/base",
       "_view_module_version": "1.2.0",
       "_view_name": "LayoutView",
       "align_content": null,
       "align_items": null,
       "align_self": null,
       "border": null,
       "bottom": null,
       "display": null,
       "flex": null,
       "flex_flow": null,
       "grid_area": null,
       "grid_auto_columns": null,
       "grid_auto_flow": null,
       "grid_auto_rows": null,
       "grid_column": null,
       "grid_gap": null,
       "grid_row": null,
       "grid_template_areas": null,
       "grid_template_columns": null,
       "grid_template_rows": null,
       "height": null,
       "justify_content": null,
       "justify_items": null,
       "left": null,
       "margin": null,
       "max_height": null,
       "max_width": null,
       "min_height": null,
       "min_width": null,
       "object_fit": null,
       "object_position": null,
       "order": null,
       "overflow": null,
       "overflow_x": null,
       "overflow_y": null,
       "padding": null,
       "right": null,
       "top": null,
       "visibility": null,
       "width": null
      }
     },
     "12a938d88d9f4b11abd16569a93d65a3": {
      "model_module": "@jupyter-widgets/controls",
      "model_module_version": "1.5.0",
      "model_name": "HTMLModel",
      "state": {
       "_dom_classes": [],
       "_model_module": "@jupyter-widgets/controls",
       "_model_module_version": "1.5.0",
       "_model_name": "HTMLModel",
       "_view_count": null,
       "_view_module": "@jupyter-widgets/controls",
       "_view_module_version": "1.5.0",
       "_view_name": "HTMLView",
       "description": "",
       "description_tooltip": null,
       "layout": "IPY_MODEL_a9af7671ac484b2484ae3be831a82083",
       "placeholder": "​",
       "style": "IPY_MODEL_6153dc6282964da8b6af9b2534d438ee",
       "value": "100%"
      }
     },
     "151d7db8184a4f0790d8dbc4ae28c79e": {
      "model_module": "@jupyter-widgets/controls",
      "model_module_version": "1.5.0",
      "model_name": "DescriptionStyleModel",
      "state": {
       "_model_module": "@jupyter-widgets/controls",
       "_model_module_version": "1.5.0",
       "_model_name": "DescriptionStyleModel",
       "_view_count": null,
       "_view_module": "@jupyter-widgets/base",
       "_view_module_version": "1.2.0",
       "_view_name": "StyleView",
       "description_width": ""
      }
     },
     "16c691bfc31e464b897d5ab23aaeda55": {
      "model_module": "@jupyter-widgets/base",
      "model_module_version": "1.2.0",
      "model_name": "LayoutModel",
      "state": {
       "_model_module": "@jupyter-widgets/base",
       "_model_module_version": "1.2.0",
       "_model_name": "LayoutModel",
       "_view_count": null,
       "_view_module": "@jupyter-widgets/base",
       "_view_module_version": "1.2.0",
       "_view_name": "LayoutView",
       "align_content": null,
       "align_items": null,
       "align_self": null,
       "border": null,
       "bottom": null,
       "display": null,
       "flex": null,
       "flex_flow": null,
       "grid_area": null,
       "grid_auto_columns": null,
       "grid_auto_flow": null,
       "grid_auto_rows": null,
       "grid_column": null,
       "grid_gap": null,
       "grid_row": null,
       "grid_template_areas": null,
       "grid_template_columns": null,
       "grid_template_rows": null,
       "height": null,
       "justify_content": null,
       "justify_items": null,
       "left": null,
       "margin": null,
       "max_height": null,
       "max_width": null,
       "min_height": null,
       "min_width": null,
       "object_fit": null,
       "object_position": null,
       "order": null,
       "overflow": null,
       "overflow_x": null,
       "overflow_y": null,
       "padding": null,
       "right": null,
       "top": null,
       "visibility": null,
       "width": null
      }
     },
     "1b477165bc7d4de9b44a567f5900856f": {
      "model_module": "@jupyter-widgets/controls",
      "model_module_version": "1.5.0",
      "model_name": "HTMLModel",
      "state": {
       "_dom_classes": [],
       "_model_module": "@jupyter-widgets/controls",
       "_model_module_version": "1.5.0",
       "_model_name": "HTMLModel",
       "_view_count": null,
       "_view_module": "@jupyter-widgets/controls",
       "_view_module_version": "1.5.0",
       "_view_name": "HTMLView",
       "description": "",
       "description_tooltip": null,
       "layout": "IPY_MODEL_b2c06c9971e447c6afd92bec5db2afe0",
       "placeholder": "​",
       "style": "IPY_MODEL_8a05aff8131a4141a910dbdf0f214110",
       "value": "100%"
      }
     },
     "1bb6e83bc1204e51bd31c6ef1f0ec4b9": {
      "model_module": "@jupyter-widgets/controls",
      "model_module_version": "1.5.0",
      "model_name": "FloatProgressModel",
      "state": {
       "_dom_classes": [],
       "_model_module": "@jupyter-widgets/controls",
       "_model_module_version": "1.5.0",
       "_model_name": "FloatProgressModel",
       "_view_count": null,
       "_view_module": "@jupyter-widgets/controls",
       "_view_module_version": "1.5.0",
       "_view_name": "ProgressView",
       "bar_style": "success",
       "description": "",
       "description_tooltip": null,
       "layout": "IPY_MODEL_16c691bfc31e464b897d5ab23aaeda55",
       "max": 159571.0,
       "min": 0.0,
       "orientation": "horizontal",
       "style": "IPY_MODEL_e0f1f962f4da491ea377d1b2e3af71dd",
       "value": 159571.0
      }
     },
     "25bc0f7edb074853b472d8a69c06dbd9": {
      "model_module": "@jupyter-widgets/controls",
      "model_module_version": "1.5.0",
      "model_name": "DescriptionStyleModel",
      "state": {
       "_model_module": "@jupyter-widgets/controls",
       "_model_module_version": "1.5.0",
       "_model_name": "DescriptionStyleModel",
       "_view_count": null,
       "_view_module": "@jupyter-widgets/base",
       "_view_module_version": "1.2.0",
       "_view_name": "StyleView",
       "description_width": ""
      }
     },
     "2a97f39e8ec142c19d0ab95d887c5dd9": {
      "model_module": "@jupyter-widgets/controls",
      "model_module_version": "1.5.0",
      "model_name": "DescriptionStyleModel",
      "state": {
       "_model_module": "@jupyter-widgets/controls",
       "_model_module_version": "1.5.0",
       "_model_name": "DescriptionStyleModel",
       "_view_count": null,
       "_view_module": "@jupyter-widgets/base",
       "_view_module_version": "1.2.0",
       "_view_name": "StyleView",
       "description_width": ""
      }
     },
     "2c5416ef062c482a9e87a6f0f31b2abd": {
      "model_module": "@jupyter-widgets/controls",
      "model_module_version": "1.5.0",
      "model_name": "DescriptionStyleModel",
      "state": {
       "_model_module": "@jupyter-widgets/controls",
       "_model_module_version": "1.5.0",
       "_model_name": "DescriptionStyleModel",
       "_view_count": null,
       "_view_module": "@jupyter-widgets/base",
       "_view_module_version": "1.2.0",
       "_view_name": "StyleView",
       "description_width": ""
      }
     },
     "33485a10bc43476b9fb2c34746411732": {
      "model_module": "@jupyter-widgets/controls",
      "model_module_version": "1.5.0",
      "model_name": "ProgressStyleModel",
      "state": {
       "_model_module": "@jupyter-widgets/controls",
       "_model_module_version": "1.5.0",
       "_model_name": "ProgressStyleModel",
       "_view_count": null,
       "_view_module": "@jupyter-widgets/base",
       "_view_module_version": "1.2.0",
       "_view_name": "StyleView",
       "bar_color": null,
       "description_width": ""
      }
     },
     "371194a7115b4e8094e743f4640cf22a": {
      "model_module": "@jupyter-widgets/controls",
      "model_module_version": "1.5.0",
      "model_name": "HBoxModel",
      "state": {
       "_dom_classes": [],
       "_model_module": "@jupyter-widgets/controls",
       "_model_module_version": "1.5.0",
       "_model_name": "HBoxModel",
       "_view_count": null,
       "_view_module": "@jupyter-widgets/controls",
       "_view_module_version": "1.5.0",
       "_view_name": "HBoxView",
       "box_style": "",
       "children": [
        "IPY_MODEL_12a938d88d9f4b11abd16569a93d65a3",
        "IPY_MODEL_40d57af6354e46c5bef08c4ddf17079b",
        "IPY_MODEL_70da4016715946968d9e9adb50669b1a"
       ],
       "layout": "IPY_MODEL_3d2fd5be9bce45b8a3506dd4840cffee"
      }
     },
     "3cd728044c8a42fdbaaf9b2645bd17d5": {
      "model_module": "@jupyter-widgets/controls",
      "model_module_version": "1.5.0",
      "model_name": "DescriptionStyleModel",
      "state": {
       "_model_module": "@jupyter-widgets/controls",
       "_model_module_version": "1.5.0",
       "_model_name": "DescriptionStyleModel",
       "_view_count": null,
       "_view_module": "@jupyter-widgets/base",
       "_view_module_version": "1.2.0",
       "_view_name": "StyleView",
       "description_width": ""
      }
     },
     "3d2fd5be9bce45b8a3506dd4840cffee": {
      "model_module": "@jupyter-widgets/base",
      "model_module_version": "1.2.0",
      "model_name": "LayoutModel",
      "state": {
       "_model_module": "@jupyter-widgets/base",
       "_model_module_version": "1.2.0",
       "_model_name": "LayoutModel",
       "_view_count": null,
       "_view_module": "@jupyter-widgets/base",
       "_view_module_version": "1.2.0",
       "_view_name": "LayoutView",
       "align_content": null,
       "align_items": null,
       "align_self": null,
       "border": null,
       "bottom": null,
       "display": null,
       "flex": null,
       "flex_flow": null,
       "grid_area": null,
       "grid_auto_columns": null,
       "grid_auto_flow": null,
       "grid_auto_rows": null,
       "grid_column": null,
       "grid_gap": null,
       "grid_row": null,
       "grid_template_areas": null,
       "grid_template_columns": null,
       "grid_template_rows": null,
       "height": null,
       "justify_content": null,
       "justify_items": null,
       "left": null,
       "margin": null,
       "max_height": null,
       "max_width": null,
       "min_height": null,
       "min_width": null,
       "object_fit": null,
       "object_position": null,
       "order": null,
       "overflow": null,
       "overflow_x": null,
       "overflow_y": null,
       "padding": null,
       "right": null,
       "top": null,
       "visibility": null,
       "width": null
      }
     },
     "40b8bbdf00bf4488be67ad0f875ff8be": {
      "model_module": "@jupyter-widgets/controls",
      "model_module_version": "1.5.0",
      "model_name": "FloatProgressModel",
      "state": {
       "_dom_classes": [],
       "_model_module": "@jupyter-widgets/controls",
       "_model_module_version": "1.5.0",
       "_model_name": "FloatProgressModel",
       "_view_count": null,
       "_view_module": "@jupyter-widgets/controls",
       "_view_module_version": "1.5.0",
       "_view_name": "ProgressView",
       "bar_style": "success",
       "description": "",
       "description_tooltip": null,
       "layout": "IPY_MODEL_8524e807487f41f09e03e7f76b1afb1e",
       "max": 159571.0,
       "min": 0.0,
       "orientation": "horizontal",
       "style": "IPY_MODEL_fd57d36b353349ba84a9a4bc66b26f98",
       "value": 159571.0
      }
     },
     "40d57af6354e46c5bef08c4ddf17079b": {
      "model_module": "@jupyter-widgets/controls",
      "model_module_version": "1.5.0",
      "model_name": "FloatProgressModel",
      "state": {
       "_dom_classes": [],
       "_model_module": "@jupyter-widgets/controls",
       "_model_module_version": "1.5.0",
       "_model_name": "FloatProgressModel",
       "_view_count": null,
       "_view_module": "@jupyter-widgets/controls",
       "_view_module_version": "1.5.0",
       "_view_name": "ProgressView",
       "bar_style": "success",
       "description": "",
       "description_tooltip": null,
       "layout": "IPY_MODEL_edac65b1155a4a4e8d5ad333dbd1c6f7",
       "max": 153164.0,
       "min": 0.0,
       "orientation": "horizontal",
       "style": "IPY_MODEL_33485a10bc43476b9fb2c34746411732",
       "value": 153164.0
      }
     },
     "40f4e2fb0a524c66b666907497238445": {
      "model_module": "@jupyter-widgets/base",
      "model_module_version": "1.2.0",
      "model_name": "LayoutModel",
      "state": {
       "_model_module": "@jupyter-widgets/base",
       "_model_module_version": "1.2.0",
       "_model_name": "LayoutModel",
       "_view_count": null,
       "_view_module": "@jupyter-widgets/base",
       "_view_module_version": "1.2.0",
       "_view_name": "LayoutView",
       "align_content": null,
       "align_items": null,
       "align_self": null,
       "border": null,
       "bottom": null,
       "display": null,
       "flex": null,
       "flex_flow": null,
       "grid_area": null,
       "grid_auto_columns": null,
       "grid_auto_flow": null,
       "grid_auto_rows": null,
       "grid_column": null,
       "grid_gap": null,
       "grid_row": null,
       "grid_template_areas": null,
       "grid_template_columns": null,
       "grid_template_rows": null,
       "height": null,
       "justify_content": null,
       "justify_items": null,
       "left": null,
       "margin": null,
       "max_height": null,
       "max_width": null,
       "min_height": null,
       "min_width": null,
       "object_fit": null,
       "object_position": null,
       "order": null,
       "overflow": null,
       "overflow_x": null,
       "overflow_y": null,
       "padding": null,
       "right": null,
       "top": null,
       "visibility": null,
       "width": null
      }
     },
     "4a5b1d3f49404c05ad3a3d2a1344afab": {
      "model_module": "@jupyter-widgets/controls",
      "model_module_version": "1.5.0",
      "model_name": "HTMLModel",
      "state": {
       "_dom_classes": [],
       "_model_module": "@jupyter-widgets/controls",
       "_model_module_version": "1.5.0",
       "_model_name": "HTMLModel",
       "_view_count": null,
       "_view_module": "@jupyter-widgets/controls",
       "_view_module_version": "1.5.0",
       "_view_name": "HTMLView",
       "description": "",
       "description_tooltip": null,
       "layout": "IPY_MODEL_a2d9ccd02ae14ee2b27c45fec9eca659",
       "placeholder": "​",
       "style": "IPY_MODEL_3cd728044c8a42fdbaaf9b2645bd17d5",
       "value": "100%"
      }
     },
     "5620cb7caad54c6ea65337cfb1a5043e": {
      "model_module": "@jupyter-widgets/base",
      "model_module_version": "1.2.0",
      "model_name": "LayoutModel",
      "state": {
       "_model_module": "@jupyter-widgets/base",
       "_model_module_version": "1.2.0",
       "_model_name": "LayoutModel",
       "_view_count": null,
       "_view_module": "@jupyter-widgets/base",
       "_view_module_version": "1.2.0",
       "_view_name": "LayoutView",
       "align_content": null,
       "align_items": null,
       "align_self": null,
       "border": null,
       "bottom": null,
       "display": null,
       "flex": null,
       "flex_flow": null,
       "grid_area": null,
       "grid_auto_columns": null,
       "grid_auto_flow": null,
       "grid_auto_rows": null,
       "grid_column": null,
       "grid_gap": null,
       "grid_row": null,
       "grid_template_areas": null,
       "grid_template_columns": null,
       "grid_template_rows": null,
       "height": null,
       "justify_content": null,
       "justify_items": null,
       "left": null,
       "margin": null,
       "max_height": null,
       "max_width": null,
       "min_height": null,
       "min_width": null,
       "object_fit": null,
       "object_position": null,
       "order": null,
       "overflow": null,
       "overflow_x": null,
       "overflow_y": null,
       "padding": null,
       "right": null,
       "top": null,
       "visibility": null,
       "width": null
      }
     },
     "6153dc6282964da8b6af9b2534d438ee": {
      "model_module": "@jupyter-widgets/controls",
      "model_module_version": "1.5.0",
      "model_name": "DescriptionStyleModel",
      "state": {
       "_model_module": "@jupyter-widgets/controls",
       "_model_module_version": "1.5.0",
       "_model_name": "DescriptionStyleModel",
       "_view_count": null,
       "_view_module": "@jupyter-widgets/base",
       "_view_module_version": "1.2.0",
       "_view_name": "StyleView",
       "description_width": ""
      }
     },
     "70da4016715946968d9e9adb50669b1a": {
      "model_module": "@jupyter-widgets/controls",
      "model_module_version": "1.5.0",
      "model_name": "HTMLModel",
      "state": {
       "_dom_classes": [],
       "_model_module": "@jupyter-widgets/controls",
       "_model_module_version": "1.5.0",
       "_model_name": "HTMLModel",
       "_view_count": null,
       "_view_module": "@jupyter-widgets/controls",
       "_view_module_version": "1.5.0",
       "_view_name": "HTMLView",
       "description": "",
       "description_tooltip": null,
       "layout": "IPY_MODEL_a39da2f3bea94c918d6ea29caf9d4f9b",
       "placeholder": "​",
       "style": "IPY_MODEL_d1555d79888c4ac8878176b300d11f12",
       "value": " 153164/153164 [02:24&lt;00:00, 902.08it/s]"
      }
     },
     "7875c15af7754661947b50ca64c3ddde": {
      "model_module": "@jupyter-widgets/controls",
      "model_module_version": "1.5.0",
      "model_name": "DescriptionStyleModel",
      "state": {
       "_model_module": "@jupyter-widgets/controls",
       "_model_module_version": "1.5.0",
       "_model_name": "DescriptionStyleModel",
       "_view_count": null,
       "_view_module": "@jupyter-widgets/base",
       "_view_module_version": "1.2.0",
       "_view_name": "StyleView",
       "description_width": ""
      }
     },
     "8524e807487f41f09e03e7f76b1afb1e": {
      "model_module": "@jupyter-widgets/base",
      "model_module_version": "1.2.0",
      "model_name": "LayoutModel",
      "state": {
       "_model_module": "@jupyter-widgets/base",
       "_model_module_version": "1.2.0",
       "_model_name": "LayoutModel",
       "_view_count": null,
       "_view_module": "@jupyter-widgets/base",
       "_view_module_version": "1.2.0",
       "_view_name": "LayoutView",
       "align_content": null,
       "align_items": null,
       "align_self": null,
       "border": null,
       "bottom": null,
       "display": null,
       "flex": null,
       "flex_flow": null,
       "grid_area": null,
       "grid_auto_columns": null,
       "grid_auto_flow": null,
       "grid_auto_rows": null,
       "grid_column": null,
       "grid_gap": null,
       "grid_row": null,
       "grid_template_areas": null,
       "grid_template_columns": null,
       "grid_template_rows": null,
       "height": null,
       "justify_content": null,
       "justify_items": null,
       "left": null,
       "margin": null,
       "max_height": null,
       "max_width": null,
       "min_height": null,
       "min_width": null,
       "object_fit": null,
       "object_position": null,
       "order": null,
       "overflow": null,
       "overflow_x": null,
       "overflow_y": null,
       "padding": null,
       "right": null,
       "top": null,
       "visibility": null,
       "width": null
      }
     },
     "870cf8d76057487389707fec0af87503": {
      "model_module": "@jupyter-widgets/controls",
      "model_module_version": "1.5.0",
      "model_name": "ProgressStyleModel",
      "state": {
       "_model_module": "@jupyter-widgets/controls",
       "_model_module_version": "1.5.0",
       "_model_name": "ProgressStyleModel",
       "_view_count": null,
       "_view_module": "@jupyter-widgets/base",
       "_view_module_version": "1.2.0",
       "_view_name": "StyleView",
       "bar_color": null,
       "description_width": ""
      }
     },
     "8a05aff8131a4141a910dbdf0f214110": {
      "model_module": "@jupyter-widgets/controls",
      "model_module_version": "1.5.0",
      "model_name": "DescriptionStyleModel",
      "state": {
       "_model_module": "@jupyter-widgets/controls",
       "_model_module_version": "1.5.0",
       "_model_name": "DescriptionStyleModel",
       "_view_count": null,
       "_view_module": "@jupyter-widgets/base",
       "_view_module_version": "1.2.0",
       "_view_name": "StyleView",
       "description_width": ""
      }
     },
     "94adbaac7a5b401a9d22ae8038bc59e8": {
      "model_module": "@jupyter-widgets/controls",
      "model_module_version": "1.5.0",
      "model_name": "HBoxModel",
      "state": {
       "_dom_classes": [],
       "_model_module": "@jupyter-widgets/controls",
       "_model_module_version": "1.5.0",
       "_model_name": "HBoxModel",
       "_view_count": null,
       "_view_module": "@jupyter-widgets/controls",
       "_view_module_version": "1.5.0",
       "_view_name": "HBoxView",
       "box_style": "",
       "children": [
        "IPY_MODEL_1b477165bc7d4de9b44a567f5900856f",
        "IPY_MODEL_006528d520754d239d58713dceb32ca1",
        "IPY_MODEL_f916870f4bf9440cbe4a095ff5bc2c6f"
       ],
       "layout": "IPY_MODEL_b375fc148d974668b2b070f60937bd9d"
      }
     },
     "a0943a8ac8d8482ca355d6607b49c3d9": {
      "model_module": "@jupyter-widgets/controls",
      "model_module_version": "1.5.0",
      "model_name": "HBoxModel",
      "state": {
       "_dom_classes": [],
       "_model_module": "@jupyter-widgets/controls",
       "_model_module_version": "1.5.0",
       "_model_name": "HBoxModel",
       "_view_count": null,
       "_view_module": "@jupyter-widgets/controls",
       "_view_module_version": "1.5.0",
       "_view_name": "HBoxView",
       "box_style": "",
       "children": [
        "IPY_MODEL_a59882efa3b14caba9f4ec654615d478",
        "IPY_MODEL_cf942d5c9652422687bdb503f1fba3a3",
        "IPY_MODEL_a11bad7c0a6a4d488a0ab2f242047c83"
       ],
       "layout": "IPY_MODEL_e4c862e29b71451bb127858fba924edf"
      }
     },
     "a11bad7c0a6a4d488a0ab2f242047c83": {
      "model_module": "@jupyter-widgets/controls",
      "model_module_version": "1.5.0",
      "model_name": "HTMLModel",
      "state": {
       "_dom_classes": [],
       "_model_module": "@jupyter-widgets/controls",
       "_model_module_version": "1.5.0",
       "_model_name": "HTMLModel",
       "_view_count": null,
       "_view_module": "@jupyter-widgets/controls",
       "_view_module_version": "1.5.0",
       "_view_name": "HTMLView",
       "description": "",
       "description_tooltip": null,
       "layout": "IPY_MODEL_d4b53db3ec95417b9f3f742e4cadcd91",
       "placeholder": "​",
       "style": "IPY_MODEL_2a97f39e8ec142c19d0ab95d887c5dd9",
       "value": " 153164/153164 [00:02&lt;00:00, 71887.02it/s]"
      }
     },
     "a2d9ccd02ae14ee2b27c45fec9eca659": {
      "model_module": "@jupyter-widgets/base",
      "model_module_version": "1.2.0",
      "model_name": "LayoutModel",
      "state": {
       "_model_module": "@jupyter-widgets/base",
       "_model_module_version": "1.2.0",
       "_model_name": "LayoutModel",
       "_view_count": null,
       "_view_module": "@jupyter-widgets/base",
       "_view_module_version": "1.2.0",
       "_view_name": "LayoutView",
       "align_content": null,
       "align_items": null,
       "align_self": null,
       "border": null,
       "bottom": null,
       "display": null,
       "flex": null,
       "flex_flow": null,
       "grid_area": null,
       "grid_auto_columns": null,
       "grid_auto_flow": null,
       "grid_auto_rows": null,
       "grid_column": null,
       "grid_gap": null,
       "grid_row": null,
       "grid_template_areas": null,
       "grid_template_columns": null,
       "grid_template_rows": null,
       "height": null,
       "justify_content": null,
       "justify_items": null,
       "left": null,
       "margin": null,
       "max_height": null,
       "max_width": null,
       "min_height": null,
       "min_width": null,
       "object_fit": null,
       "object_position": null,
       "order": null,
       "overflow": null,
       "overflow_x": null,
       "overflow_y": null,
       "padding": null,
       "right": null,
       "top": null,
       "visibility": null,
       "width": null
      }
     },
     "a39da2f3bea94c918d6ea29caf9d4f9b": {
      "model_module": "@jupyter-widgets/base",
      "model_module_version": "1.2.0",
      "model_name": "LayoutModel",
      "state": {
       "_model_module": "@jupyter-widgets/base",
       "_model_module_version": "1.2.0",
       "_model_name": "LayoutModel",
       "_view_count": null,
       "_view_module": "@jupyter-widgets/base",
       "_view_module_version": "1.2.0",
       "_view_name": "LayoutView",
       "align_content": null,
       "align_items": null,
       "align_self": null,
       "border": null,
       "bottom": null,
       "display": null,
       "flex": null,
       "flex_flow": null,
       "grid_area": null,
       "grid_auto_columns": null,
       "grid_auto_flow": null,
       "grid_auto_rows": null,
       "grid_column": null,
       "grid_gap": null,
       "grid_row": null,
       "grid_template_areas": null,
       "grid_template_columns": null,
       "grid_template_rows": null,
       "height": null,
       "justify_content": null,
       "justify_items": null,
       "left": null,
       "margin": null,
       "max_height": null,
       "max_width": null,
       "min_height": null,
       "min_width": null,
       "object_fit": null,
       "object_position": null,
       "order": null,
       "overflow": null,
       "overflow_x": null,
       "overflow_y": null,
       "padding": null,
       "right": null,
       "top": null,
       "visibility": null,
       "width": null
      }
     },
     "a4dfdfc7e6a544cbb7c7ac56b9ca06f4": {
      "model_module": "@jupyter-widgets/base",
      "model_module_version": "1.2.0",
      "model_name": "LayoutModel",
      "state": {
       "_model_module": "@jupyter-widgets/base",
       "_model_module_version": "1.2.0",
       "_model_name": "LayoutModel",
       "_view_count": null,
       "_view_module": "@jupyter-widgets/base",
       "_view_module_version": "1.2.0",
       "_view_name": "LayoutView",
       "align_content": null,
       "align_items": null,
       "align_self": null,
       "border": null,
       "bottom": null,
       "display": null,
       "flex": null,
       "flex_flow": null,
       "grid_area": null,
       "grid_auto_columns": null,
       "grid_auto_flow": null,
       "grid_auto_rows": null,
       "grid_column": null,
       "grid_gap": null,
       "grid_row": null,
       "grid_template_areas": null,
       "grid_template_columns": null,
       "grid_template_rows": null,
       "height": null,
       "justify_content": null,
       "justify_items": null,
       "left": null,
       "margin": null,
       "max_height": null,
       "max_width": null,
       "min_height": null,
       "min_width": null,
       "object_fit": null,
       "object_position": null,
       "order": null,
       "overflow": null,
       "overflow_x": null,
       "overflow_y": null,
       "padding": null,
       "right": null,
       "top": null,
       "visibility": null,
       "width": null
      }
     },
     "a59882efa3b14caba9f4ec654615d478": {
      "model_module": "@jupyter-widgets/controls",
      "model_module_version": "1.5.0",
      "model_name": "HTMLModel",
      "state": {
       "_dom_classes": [],
       "_model_module": "@jupyter-widgets/controls",
       "_model_module_version": "1.5.0",
       "_model_name": "HTMLModel",
       "_view_count": null,
       "_view_module": "@jupyter-widgets/controls",
       "_view_module_version": "1.5.0",
       "_view_name": "HTMLView",
       "description": "",
       "description_tooltip": null,
       "layout": "IPY_MODEL_b8c43d8909064a0a9b8f59c7949da44c",
       "placeholder": "​",
       "style": "IPY_MODEL_cbe6fabcab774459b66ffacbed863658",
       "value": "100%"
      }
     },
     "a9af7671ac484b2484ae3be831a82083": {
      "model_module": "@jupyter-widgets/base",
      "model_module_version": "1.2.0",
      "model_name": "LayoutModel",
      "state": {
       "_model_module": "@jupyter-widgets/base",
       "_model_module_version": "1.2.0",
       "_model_name": "LayoutModel",
       "_view_count": null,
       "_view_module": "@jupyter-widgets/base",
       "_view_module_version": "1.2.0",
       "_view_name": "LayoutView",
       "align_content": null,
       "align_items": null,
       "align_self": null,
       "border": null,
       "bottom": null,
       "display": null,
       "flex": null,
       "flex_flow": null,
       "grid_area": null,
       "grid_auto_columns": null,
       "grid_auto_flow": null,
       "grid_auto_rows": null,
       "grid_column": null,
       "grid_gap": null,
       "grid_row": null,
       "grid_template_areas": null,
       "grid_template_columns": null,
       "grid_template_rows": null,
       "height": null,
       "justify_content": null,
       "justify_items": null,
       "left": null,
       "margin": null,
       "max_height": null,
       "max_width": null,
       "min_height": null,
       "min_width": null,
       "object_fit": null,
       "object_position": null,
       "order": null,
       "overflow": null,
       "overflow_x": null,
       "overflow_y": null,
       "padding": null,
       "right": null,
       "top": null,
       "visibility": null,
       "width": null
      }
     },
     "ace1f41412c045e4a2dd4d180095fee2": {
      "model_module": "@jupyter-widgets/base",
      "model_module_version": "1.2.0",
      "model_name": "LayoutModel",
      "state": {
       "_model_module": "@jupyter-widgets/base",
       "_model_module_version": "1.2.0",
       "_model_name": "LayoutModel",
       "_view_count": null,
       "_view_module": "@jupyter-widgets/base",
       "_view_module_version": "1.2.0",
       "_view_name": "LayoutView",
       "align_content": null,
       "align_items": null,
       "align_self": null,
       "border": null,
       "bottom": null,
       "display": null,
       "flex": null,
       "flex_flow": null,
       "grid_area": null,
       "grid_auto_columns": null,
       "grid_auto_flow": null,
       "grid_auto_rows": null,
       "grid_column": null,
       "grid_gap": null,
       "grid_row": null,
       "grid_template_areas": null,
       "grid_template_columns": null,
       "grid_template_rows": null,
       "height": null,
       "justify_content": null,
       "justify_items": null,
       "left": null,
       "margin": null,
       "max_height": null,
       "max_width": null,
       "min_height": null,
       "min_width": null,
       "object_fit": null,
       "object_position": null,
       "order": null,
       "overflow": null,
       "overflow_x": null,
       "overflow_y": null,
       "padding": null,
       "right": null,
       "top": null,
       "visibility": null,
       "width": null
      }
     },
     "b2c06c9971e447c6afd92bec5db2afe0": {
      "model_module": "@jupyter-widgets/base",
      "model_module_version": "1.2.0",
      "model_name": "LayoutModel",
      "state": {
       "_model_module": "@jupyter-widgets/base",
       "_model_module_version": "1.2.0",
       "_model_name": "LayoutModel",
       "_view_count": null,
       "_view_module": "@jupyter-widgets/base",
       "_view_module_version": "1.2.0",
       "_view_name": "LayoutView",
       "align_content": null,
       "align_items": null,
       "align_self": null,
       "border": null,
       "bottom": null,
       "display": null,
       "flex": null,
       "flex_flow": null,
       "grid_area": null,
       "grid_auto_columns": null,
       "grid_auto_flow": null,
       "grid_auto_rows": null,
       "grid_column": null,
       "grid_gap": null,
       "grid_row": null,
       "grid_template_areas": null,
       "grid_template_columns": null,
       "grid_template_rows": null,
       "height": null,
       "justify_content": null,
       "justify_items": null,
       "left": null,
       "margin": null,
       "max_height": null,
       "max_width": null,
       "min_height": null,
       "min_width": null,
       "object_fit": null,
       "object_position": null,
       "order": null,
       "overflow": null,
       "overflow_x": null,
       "overflow_y": null,
       "padding": null,
       "right": null,
       "top": null,
       "visibility": null,
       "width": null
      }
     },
     "b375fc148d974668b2b070f60937bd9d": {
      "model_module": "@jupyter-widgets/base",
      "model_module_version": "1.2.0",
      "model_name": "LayoutModel",
      "state": {
       "_model_module": "@jupyter-widgets/base",
       "_model_module_version": "1.2.0",
       "_model_name": "LayoutModel",
       "_view_count": null,
       "_view_module": "@jupyter-widgets/base",
       "_view_module_version": "1.2.0",
       "_view_name": "LayoutView",
       "align_content": null,
       "align_items": null,
       "align_self": null,
       "border": null,
       "bottom": null,
       "display": null,
       "flex": null,
       "flex_flow": null,
       "grid_area": null,
       "grid_auto_columns": null,
       "grid_auto_flow": null,
       "grid_auto_rows": null,
       "grid_column": null,
       "grid_gap": null,
       "grid_row": null,
       "grid_template_areas": null,
       "grid_template_columns": null,
       "grid_template_rows": null,
       "height": null,
       "justify_content": null,
       "justify_items": null,
       "left": null,
       "margin": null,
       "max_height": null,
       "max_width": null,
       "min_height": null,
       "min_width": null,
       "object_fit": null,
       "object_position": null,
       "order": null,
       "overflow": null,
       "overflow_x": null,
       "overflow_y": null,
       "padding": null,
       "right": null,
       "top": null,
       "visibility": null,
       "width": null
      }
     },
     "b8c43d8909064a0a9b8f59c7949da44c": {
      "model_module": "@jupyter-widgets/base",
      "model_module_version": "1.2.0",
      "model_name": "LayoutModel",
      "state": {
       "_model_module": "@jupyter-widgets/base",
       "_model_module_version": "1.2.0",
       "_model_name": "LayoutModel",
       "_view_count": null,
       "_view_module": "@jupyter-widgets/base",
       "_view_module_version": "1.2.0",
       "_view_name": "LayoutView",
       "align_content": null,
       "align_items": null,
       "align_self": null,
       "border": null,
       "bottom": null,
       "display": null,
       "flex": null,
       "flex_flow": null,
       "grid_area": null,
       "grid_auto_columns": null,
       "grid_auto_flow": null,
       "grid_auto_rows": null,
       "grid_column": null,
       "grid_gap": null,
       "grid_row": null,
       "grid_template_areas": null,
       "grid_template_columns": null,
       "grid_template_rows": null,
       "height": null,
       "justify_content": null,
       "justify_items": null,
       "left": null,
       "margin": null,
       "max_height": null,
       "max_width": null,
       "min_height": null,
       "min_width": null,
       "object_fit": null,
       "object_position": null,
       "order": null,
       "overflow": null,
       "overflow_x": null,
       "overflow_y": null,
       "padding": null,
       "right": null,
       "top": null,
       "visibility": null,
       "width": null
      }
     },
     "c701c970ae9f45a8ae41b377459a2b21": {
      "model_module": "@jupyter-widgets/controls",
      "model_module_version": "1.5.0",
      "model_name": "HTMLModel",
      "state": {
       "_dom_classes": [],
       "_model_module": "@jupyter-widgets/controls",
       "_model_module_version": "1.5.0",
       "_model_name": "HTMLModel",
       "_view_count": null,
       "_view_module": "@jupyter-widgets/controls",
       "_view_module_version": "1.5.0",
       "_view_name": "HTMLView",
       "description": "",
       "description_tooltip": null,
       "layout": "IPY_MODEL_a4dfdfc7e6a544cbb7c7ac56b9ca06f4",
       "placeholder": "​",
       "style": "IPY_MODEL_2c5416ef062c482a9e87a6f0f31b2abd",
       "value": "100%"
      }
     },
     "cbe6fabcab774459b66ffacbed863658": {
      "model_module": "@jupyter-widgets/controls",
      "model_module_version": "1.5.0",
      "model_name": "DescriptionStyleModel",
      "state": {
       "_model_module": "@jupyter-widgets/controls",
       "_model_module_version": "1.5.0",
       "_model_name": "DescriptionStyleModel",
       "_view_count": null,
       "_view_module": "@jupyter-widgets/base",
       "_view_module_version": "1.2.0",
       "_view_name": "StyleView",
       "description_width": ""
      }
     },
     "cf942d5c9652422687bdb503f1fba3a3": {
      "model_module": "@jupyter-widgets/controls",
      "model_module_version": "1.5.0",
      "model_name": "FloatProgressModel",
      "state": {
       "_dom_classes": [],
       "_model_module": "@jupyter-widgets/controls",
       "_model_module_version": "1.5.0",
       "_model_name": "FloatProgressModel",
       "_view_count": null,
       "_view_module": "@jupyter-widgets/controls",
       "_view_module_version": "1.5.0",
       "_view_name": "ProgressView",
       "bar_style": "success",
       "description": "",
       "description_tooltip": null,
       "layout": "IPY_MODEL_d605f43dcc984cf5b6362ddb9600f90c",
       "max": 153164.0,
       "min": 0.0,
       "orientation": "horizontal",
       "style": "IPY_MODEL_870cf8d76057487389707fec0af87503",
       "value": 153164.0
      }
     },
     "d1555d79888c4ac8878176b300d11f12": {
      "model_module": "@jupyter-widgets/controls",
      "model_module_version": "1.5.0",
      "model_name": "DescriptionStyleModel",
      "state": {
       "_model_module": "@jupyter-widgets/controls",
       "_model_module_version": "1.5.0",
       "_model_name": "DescriptionStyleModel",
       "_view_count": null,
       "_view_module": "@jupyter-widgets/base",
       "_view_module_version": "1.2.0",
       "_view_name": "StyleView",
       "description_width": ""
      }
     },
     "d4b53db3ec95417b9f3f742e4cadcd91": {
      "model_module": "@jupyter-widgets/base",
      "model_module_version": "1.2.0",
      "model_name": "LayoutModel",
      "state": {
       "_model_module": "@jupyter-widgets/base",
       "_model_module_version": "1.2.0",
       "_model_name": "LayoutModel",
       "_view_count": null,
       "_view_module": "@jupyter-widgets/base",
       "_view_module_version": "1.2.0",
       "_view_name": "LayoutView",
       "align_content": null,
       "align_items": null,
       "align_self": null,
       "border": null,
       "bottom": null,
       "display": null,
       "flex": null,
       "flex_flow": null,
       "grid_area": null,
       "grid_auto_columns": null,
       "grid_auto_flow": null,
       "grid_auto_rows": null,
       "grid_column": null,
       "grid_gap": null,
       "grid_row": null,
       "grid_template_areas": null,
       "grid_template_columns": null,
       "grid_template_rows": null,
       "height": null,
       "justify_content": null,
       "justify_items": null,
       "left": null,
       "margin": null,
       "max_height": null,
       "max_width": null,
       "min_height": null,
       "min_width": null,
       "object_fit": null,
       "object_position": null,
       "order": null,
       "overflow": null,
       "overflow_x": null,
       "overflow_y": null,
       "padding": null,
       "right": null,
       "top": null,
       "visibility": null,
       "width": null
      }
     },
     "d605f43dcc984cf5b6362ddb9600f90c": {
      "model_module": "@jupyter-widgets/base",
      "model_module_version": "1.2.0",
      "model_name": "LayoutModel",
      "state": {
       "_model_module": "@jupyter-widgets/base",
       "_model_module_version": "1.2.0",
       "_model_name": "LayoutModel",
       "_view_count": null,
       "_view_module": "@jupyter-widgets/base",
       "_view_module_version": "1.2.0",
       "_view_name": "LayoutView",
       "align_content": null,
       "align_items": null,
       "align_self": null,
       "border": null,
       "bottom": null,
       "display": null,
       "flex": null,
       "flex_flow": null,
       "grid_area": null,
       "grid_auto_columns": null,
       "grid_auto_flow": null,
       "grid_auto_rows": null,
       "grid_column": null,
       "grid_gap": null,
       "grid_row": null,
       "grid_template_areas": null,
       "grid_template_columns": null,
       "grid_template_rows": null,
       "height": null,
       "justify_content": null,
       "justify_items": null,
       "left": null,
       "margin": null,
       "max_height": null,
       "max_width": null,
       "min_height": null,
       "min_width": null,
       "object_fit": null,
       "object_position": null,
       "order": null,
       "overflow": null,
       "overflow_x": null,
       "overflow_y": null,
       "padding": null,
       "right": null,
       "top": null,
       "visibility": null,
       "width": null
      }
     },
     "df481e9649c8476a9498dedd38b0a733": {
      "model_module": "@jupyter-widgets/base",
      "model_module_version": "1.2.0",
      "model_name": "LayoutModel",
      "state": {
       "_model_module": "@jupyter-widgets/base",
       "_model_module_version": "1.2.0",
       "_model_name": "LayoutModel",
       "_view_count": null,
       "_view_module": "@jupyter-widgets/base",
       "_view_module_version": "1.2.0",
       "_view_name": "LayoutView",
       "align_content": null,
       "align_items": null,
       "align_self": null,
       "border": null,
       "bottom": null,
       "display": null,
       "flex": null,
       "flex_flow": null,
       "grid_area": null,
       "grid_auto_columns": null,
       "grid_auto_flow": null,
       "grid_auto_rows": null,
       "grid_column": null,
       "grid_gap": null,
       "grid_row": null,
       "grid_template_areas": null,
       "grid_template_columns": null,
       "grid_template_rows": null,
       "height": null,
       "justify_content": null,
       "justify_items": null,
       "left": null,
       "margin": null,
       "max_height": null,
       "max_width": null,
       "min_height": null,
       "min_width": null,
       "object_fit": null,
       "object_position": null,
       "order": null,
       "overflow": null,
       "overflow_x": null,
       "overflow_y": null,
       "padding": null,
       "right": null,
       "top": null,
       "visibility": null,
       "width": null
      }
     },
     "e0f1f962f4da491ea377d1b2e3af71dd": {
      "model_module": "@jupyter-widgets/controls",
      "model_module_version": "1.5.0",
      "model_name": "ProgressStyleModel",
      "state": {
       "_model_module": "@jupyter-widgets/controls",
       "_model_module_version": "1.5.0",
       "_model_name": "ProgressStyleModel",
       "_view_count": null,
       "_view_module": "@jupyter-widgets/base",
       "_view_module_version": "1.2.0",
       "_view_name": "StyleView",
       "bar_color": null,
       "description_width": ""
      }
     },
     "e4c862e29b71451bb127858fba924edf": {
      "model_module": "@jupyter-widgets/base",
      "model_module_version": "1.2.0",
      "model_name": "LayoutModel",
      "state": {
       "_model_module": "@jupyter-widgets/base",
       "_model_module_version": "1.2.0",
       "_model_name": "LayoutModel",
       "_view_count": null,
       "_view_module": "@jupyter-widgets/base",
       "_view_module_version": "1.2.0",
       "_view_name": "LayoutView",
       "align_content": null,
       "align_items": null,
       "align_self": null,
       "border": null,
       "bottom": null,
       "display": null,
       "flex": null,
       "flex_flow": null,
       "grid_area": null,
       "grid_auto_columns": null,
       "grid_auto_flow": null,
       "grid_auto_rows": null,
       "grid_column": null,
       "grid_gap": null,
       "grid_row": null,
       "grid_template_areas": null,
       "grid_template_columns": null,
       "grid_template_rows": null,
       "height": null,
       "justify_content": null,
       "justify_items": null,
       "left": null,
       "margin": null,
       "max_height": null,
       "max_width": null,
       "min_height": null,
       "min_width": null,
       "object_fit": null,
       "object_position": null,
       "order": null,
       "overflow": null,
       "overflow_x": null,
       "overflow_y": null,
       "padding": null,
       "right": null,
       "top": null,
       "visibility": null,
       "width": null
      }
     },
     "e7c48d4a627b4c08b02b11e39bdb57e5": {
      "model_module": "@jupyter-widgets/controls",
      "model_module_version": "1.5.0",
      "model_name": "HTMLModel",
      "state": {
       "_dom_classes": [],
       "_model_module": "@jupyter-widgets/controls",
       "_model_module_version": "1.5.0",
       "_model_name": "HTMLModel",
       "_view_count": null,
       "_view_module": "@jupyter-widgets/controls",
       "_view_module_version": "1.5.0",
       "_view_name": "HTMLView",
       "description": "",
       "description_tooltip": null,
       "layout": "IPY_MODEL_5620cb7caad54c6ea65337cfb1a5043e",
       "placeholder": "​",
       "style": "IPY_MODEL_25bc0f7edb074853b472d8a69c06dbd9",
       "value": " 159571/159571 [00:02&lt;00:00, 63420.36it/s]"
      }
     },
     "edac65b1155a4a4e8d5ad333dbd1c6f7": {
      "model_module": "@jupyter-widgets/base",
      "model_module_version": "1.2.0",
      "model_name": "LayoutModel",
      "state": {
       "_model_module": "@jupyter-widgets/base",
       "_model_module_version": "1.2.0",
       "_model_name": "LayoutModel",
       "_view_count": null,
       "_view_module": "@jupyter-widgets/base",
       "_view_module_version": "1.2.0",
       "_view_name": "LayoutView",
       "align_content": null,
       "align_items": null,
       "align_self": null,
       "border": null,
       "bottom": null,
       "display": null,
       "flex": null,
       "flex_flow": null,
       "grid_area": null,
       "grid_auto_columns": null,
       "grid_auto_flow": null,
       "grid_auto_rows": null,
       "grid_column": null,
       "grid_gap": null,
       "grid_row": null,
       "grid_template_areas": null,
       "grid_template_columns": null,
       "grid_template_rows": null,
       "height": null,
       "justify_content": null,
       "justify_items": null,
       "left": null,
       "margin": null,
       "max_height": null,
       "max_width": null,
       "min_height": null,
       "min_width": null,
       "object_fit": null,
       "object_position": null,
       "order": null,
       "overflow": null,
       "overflow_x": null,
       "overflow_y": null,
       "padding": null,
       "right": null,
       "top": null,
       "visibility": null,
       "width": null
      }
     },
     "f916870f4bf9440cbe4a095ff5bc2c6f": {
      "model_module": "@jupyter-widgets/controls",
      "model_module_version": "1.5.0",
      "model_name": "HTMLModel",
      "state": {
       "_dom_classes": [],
       "_model_module": "@jupyter-widgets/controls",
       "_model_module_version": "1.5.0",
       "_model_name": "HTMLModel",
       "_view_count": null,
       "_view_module": "@jupyter-widgets/controls",
       "_view_module_version": "1.5.0",
       "_view_name": "HTMLView",
       "description": "",
       "description_tooltip": null,
       "layout": "IPY_MODEL_fd50b118c42f4b428eef745420272f90",
       "placeholder": "​",
       "style": "IPY_MODEL_7875c15af7754661947b50ca64c3ddde",
       "value": " 159571/159571 [02:43&lt;00:00, 963.67it/s]"
      }
     },
     "fabc548c2b624fc99415ae29cf06076d": {
      "model_module": "@jupyter-widgets/controls",
      "model_module_version": "1.5.0",
      "model_name": "HBoxModel",
      "state": {
       "_dom_classes": [],
       "_model_module": "@jupyter-widgets/controls",
       "_model_module_version": "1.5.0",
       "_model_name": "HBoxModel",
       "_view_count": null,
       "_view_module": "@jupyter-widgets/controls",
       "_view_module_version": "1.5.0",
       "_view_name": "HBoxView",
       "box_style": "",
       "children": [
        "IPY_MODEL_c701c970ae9f45a8ae41b377459a2b21",
        "IPY_MODEL_1bb6e83bc1204e51bd31c6ef1f0ec4b9",
        "IPY_MODEL_e7c48d4a627b4c08b02b11e39bdb57e5"
       ],
       "layout": "IPY_MODEL_ace1f41412c045e4a2dd4d180095fee2"
      }
     },
     "fd50b118c42f4b428eef745420272f90": {
      "model_module": "@jupyter-widgets/base",
      "model_module_version": "1.2.0",
      "model_name": "LayoutModel",
      "state": {
       "_model_module": "@jupyter-widgets/base",
       "_model_module_version": "1.2.0",
       "_model_name": "LayoutModel",
       "_view_count": null,
       "_view_module": "@jupyter-widgets/base",
       "_view_module_version": "1.2.0",
       "_view_name": "LayoutView",
       "align_content": null,
       "align_items": null,
       "align_self": null,
       "border": null,
       "bottom": null,
       "display": null,
       "flex": null,
       "flex_flow": null,
       "grid_area": null,
       "grid_auto_columns": null,
       "grid_auto_flow": null,
       "grid_auto_rows": null,
       "grid_column": null,
       "grid_gap": null,
       "grid_row": null,
       "grid_template_areas": null,
       "grid_template_columns": null,
       "grid_template_rows": null,
       "height": null,
       "justify_content": null,
       "justify_items": null,
       "left": null,
       "margin": null,
       "max_height": null,
       "max_width": null,
       "min_height": null,
       "min_width": null,
       "object_fit": null,
       "object_position": null,
       "order": null,
       "overflow": null,
       "overflow_x": null,
       "overflow_y": null,
       "padding": null,
       "right": null,
       "top": null,
       "visibility": null,
       "width": null
      }
     },
     "fd57d36b353349ba84a9a4bc66b26f98": {
      "model_module": "@jupyter-widgets/controls",
      "model_module_version": "1.5.0",
      "model_name": "ProgressStyleModel",
      "state": {
       "_model_module": "@jupyter-widgets/controls",
       "_model_module_version": "1.5.0",
       "_model_name": "ProgressStyleModel",
       "_view_count": null,
       "_view_module": "@jupyter-widgets/base",
       "_view_module_version": "1.2.0",
       "_view_name": "StyleView",
       "bar_color": null,
       "description_width": ""
      }
     }
    },
    "version_major": 2,
    "version_minor": 0
   }
  }
 },
 "nbformat": 4,
 "nbformat_minor": 5
}
